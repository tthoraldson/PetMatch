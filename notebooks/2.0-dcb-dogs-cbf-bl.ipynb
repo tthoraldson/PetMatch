{
 "cells": [
  {
   "cell_type": "markdown",
   "id": "98c8e0f1",
   "metadata": {},
   "source": [
    "This workbook implements Context Based Filtering for a Dogs Recommendation System, working from the raw data all the way to model creation and initial results."
   ]
  },
  {
   "cell_type": "markdown",
   "id": "3e442445",
   "metadata": {},
   "source": [
    "# Table of Contents"
   ]
  },
  {
   "cell_type": "markdown",
   "id": "49989959",
   "metadata": {},
   "source": [
    "* [Load in Data and Segment Features from Context data](#segment)\n",
    "* [Pre-process feature data](#pre-process)\n",
    "    - [Recheck sweetviz for distinct values and types](#sweet)\n",
    "    - [Make Pipeline](#pp_pipeline)\n",
    "* [Run Modeling Pipeline](#run_pipeline)\n",
    "* [Conclusion and Next Steps](#conclusion)"
   ]
  },
  {
   "cell_type": "markdown",
   "id": "c48066ef",
   "metadata": {},
   "source": [
    "# Load in Data and Segment Features from Context data<a id='segment'></a>"
   ]
  },
  {
   "cell_type": "markdown",
   "id": "bb8e64a4",
   "metadata": {},
   "source": [
    "First, we load all of our adoptable dogs."
   ]
  },
  {
   "cell_type": "code",
   "execution_count": 1,
   "id": "587c8cdd",
   "metadata": {},
   "outputs": [
    {
     "data": {
      "text/plain": [
       "(100000, 50)"
      ]
     },
     "execution_count": 1,
     "metadata": {},
     "output_type": "execute_result"
    }
   ],
   "source": [
    "import pandas as pd\n",
    "dogs_DF = pd.read_csv(\"../data/raw/version0_5/Adoptable_dogs_20221202.csv\",header=0,index_col=0)\n",
    "dogs_DF.shape"
   ]
  },
  {
   "cell_type": "code",
   "execution_count": 2,
   "id": "2a846e95",
   "metadata": {},
   "outputs": [
    {
     "data": {
      "text/html": [
       "<div>\n",
       "<style scoped>\n",
       "    .dataframe tbody tr th:only-of-type {\n",
       "        vertical-align: middle;\n",
       "    }\n",
       "\n",
       "    .dataframe tbody tr th {\n",
       "        vertical-align: top;\n",
       "    }\n",
       "\n",
       "    .dataframe thead th {\n",
       "        text-align: right;\n",
       "    }\n",
       "</style>\n",
       "<table border=\"1\" class=\"dataframe\">\n",
       "  <thead>\n",
       "    <tr style=\"text-align: right;\">\n",
       "      <th></th>\n",
       "      <th>id</th>\n",
       "      <th>organization_id</th>\n",
       "      <th>url</th>\n",
       "      <th>type</th>\n",
       "      <th>species</th>\n",
       "      <th>age</th>\n",
       "      <th>gender</th>\n",
       "      <th>size</th>\n",
       "      <th>coat</th>\n",
       "      <th>tags</th>\n",
       "      <th>name</th>\n",
       "      <th>description</th>\n",
       "      <th>organization_animal_id</th>\n",
       "      <th>photos</th>\n",
       "      <th>videos</th>\n",
       "      <th>status</th>\n",
       "      <th>status_changed_at</th>\n",
       "      <th>published_at</th>\n",
       "      <th>distance</th>\n",
       "      <th>breeds.primary</th>\n",
       "      <th>breeds.secondary</th>\n",
       "      <th>breeds.mixed</th>\n",
       "      <th>breeds.unknown</th>\n",
       "      <th>colors.primary</th>\n",
       "      <th>colors.secondary</th>\n",
       "      <th>colors.tertiary</th>\n",
       "      <th>attributes.spayed_neutered</th>\n",
       "      <th>attributes.house_trained</th>\n",
       "      <th>attributes.declawed</th>\n",
       "      <th>attributes.special_needs</th>\n",
       "      <th>attributes.shots_current</th>\n",
       "      <th>environment.children</th>\n",
       "      <th>environment.dogs</th>\n",
       "      <th>environment.cats</th>\n",
       "      <th>primary_photo_cropped.small</th>\n",
       "      <th>primary_photo_cropped.medium</th>\n",
       "      <th>primary_photo_cropped.large</th>\n",
       "      <th>primary_photo_cropped.full</th>\n",
       "      <th>contact.email</th>\n",
       "      <th>contact.phone</th>\n",
       "      <th>contact.address.address1</th>\n",
       "      <th>contact.address.address2</th>\n",
       "      <th>contact.address.city</th>\n",
       "      <th>contact.address.state</th>\n",
       "      <th>contact.address.postcode</th>\n",
       "      <th>contact.address.country</th>\n",
       "      <th>animal_id</th>\n",
       "      <th>animal_type</th>\n",
       "      <th>organization_id.1</th>\n",
       "      <th>primary_photo_cropped</th>\n",
       "    </tr>\n",
       "  </thead>\n",
       "  <tbody>\n",
       "    <tr>\n",
       "      <th>71770</th>\n",
       "      <td>58091608</td>\n",
       "      <td>CA595</td>\n",
       "      <td>https://www.petfinder.com/dog/tomas-hertl-5809...</td>\n",
       "      <td>Dog</td>\n",
       "      <td>Dog</td>\n",
       "      <td>Young</td>\n",
       "      <td>Male</td>\n",
       "      <td>Large</td>\n",
       "      <td>NaN</td>\n",
       "      <td>[]</td>\n",
       "      <td>TOMAS HERTL</td>\n",
       "      <td>11/11/22 18:58 Reason animal needs rescue: dec...</td>\n",
       "      <td>A1272710</td>\n",
       "      <td>[{'small': 'https://dl5zpyw5k3jeb.cloudfront.n...</td>\n",
       "      <td>[]</td>\n",
       "      <td>adoptable</td>\n",
       "      <td>2022-10-12T20:34:42+0000</td>\n",
       "      <td>2022-10-12T20:34:40+0000</td>\n",
       "      <td>NaN</td>\n",
       "      <td>German Shepherd Dog</td>\n",
       "      <td>NaN</td>\n",
       "      <td>False</td>\n",
       "      <td>False</td>\n",
       "      <td>NaN</td>\n",
       "      <td>NaN</td>\n",
       "      <td>NaN</td>\n",
       "      <td>False</td>\n",
       "      <td>False</td>\n",
       "      <td>NaN</td>\n",
       "      <td>False</td>\n",
       "      <td>False</td>\n",
       "      <td>NaN</td>\n",
       "      <td>NaN</td>\n",
       "      <td>NaN</td>\n",
       "      <td>https://dl5zpyw5k3jeb.cloudfront.net/photos/pe...</td>\n",
       "      <td>https://dl5zpyw5k3jeb.cloudfront.net/photos/pe...</td>\n",
       "      <td>https://dl5zpyw5k3jeb.cloudfront.net/photos/pe...</td>\n",
       "      <td>https://dl5zpyw5k3jeb.cloudfront.net/photos/pe...</td>\n",
       "      <td>AdoptAPetSJ@sanjoseca.gov</td>\n",
       "      <td>(408) 794-7297</td>\n",
       "      <td>2750 Monterey Road</td>\n",
       "      <td>NaN</td>\n",
       "      <td>San Jose</td>\n",
       "      <td>CA</td>\n",
       "      <td>95111</td>\n",
       "      <td>US</td>\n",
       "      <td>58091608</td>\n",
       "      <td>dog</td>\n",
       "      <td>ca595</td>\n",
       "      <td>NaN</td>\n",
       "    </tr>\n",
       "    <tr>\n",
       "      <th>9733</th>\n",
       "      <td>58998702</td>\n",
       "      <td>CA44</td>\n",
       "      <td>https://www.petfinder.com/dog/misty-58998702/c...</td>\n",
       "      <td>Dog</td>\n",
       "      <td>Dog</td>\n",
       "      <td>Adult</td>\n",
       "      <td>Female</td>\n",
       "      <td>Small</td>\n",
       "      <td>Medium</td>\n",
       "      <td>[]</td>\n",
       "      <td>Misty</td>\n",
       "      <td>Misty 4 yr old female, Pomeranian mix. Very sw...</td>\n",
       "      <td>NaN</td>\n",
       "      <td>[{'small': 'https://dl5zpyw5k3jeb.cloudfront.n...</td>\n",
       "      <td>[]</td>\n",
       "      <td>adoptable</td>\n",
       "      <td>2022-11-29T21:51:33+0000</td>\n",
       "      <td>2022-11-29T21:51:32+0000</td>\n",
       "      <td>NaN</td>\n",
       "      <td>Pomeranian</td>\n",
       "      <td>Chihuahua</td>\n",
       "      <td>True</td>\n",
       "      <td>False</td>\n",
       "      <td>Black</td>\n",
       "      <td>Tricolor (Brown, Black, &amp; White)</td>\n",
       "      <td>Merle (Blue)</td>\n",
       "      <td>True</td>\n",
       "      <td>False</td>\n",
       "      <td>NaN</td>\n",
       "      <td>False</td>\n",
       "      <td>True</td>\n",
       "      <td>NaN</td>\n",
       "      <td>True</td>\n",
       "      <td>NaN</td>\n",
       "      <td>https://dl5zpyw5k3jeb.cloudfront.net/photos/pe...</td>\n",
       "      <td>https://dl5zpyw5k3jeb.cloudfront.net/photos/pe...</td>\n",
       "      <td>https://dl5zpyw5k3jeb.cloudfront.net/photos/pe...</td>\n",
       "      <td>https://dl5zpyw5k3jeb.cloudfront.net/photos/pe...</td>\n",
       "      <td>adoptions@petorphans.org</td>\n",
       "      <td>(818) 901-0190</td>\n",
       "      <td>7720 Gloria Avenue</td>\n",
       "      <td>NaN</td>\n",
       "      <td>Van Nuys</td>\n",
       "      <td>CA</td>\n",
       "      <td>91406</td>\n",
       "      <td>US</td>\n",
       "      <td>58998702</td>\n",
       "      <td>dog</td>\n",
       "      <td>ca44</td>\n",
       "      <td>NaN</td>\n",
       "    </tr>\n",
       "    <tr>\n",
       "      <th>62238</th>\n",
       "      <td>58632792</td>\n",
       "      <td>TN61</td>\n",
       "      <td>https://www.petfinder.com/dog/terry-58632792/t...</td>\n",
       "      <td>Dog</td>\n",
       "      <td>Dog</td>\n",
       "      <td>Young</td>\n",
       "      <td>Male</td>\n",
       "      <td>Medium</td>\n",
       "      <td>NaN</td>\n",
       "      <td>[]</td>\n",
       "      <td>Terry</td>\n",
       "      <td>Hi there, I&amp;amp;#39;m Terry! You wouldn&amp;amp;#3...</td>\n",
       "      <td>50364300</td>\n",
       "      <td>[{'small': 'https://dl5zpyw5k3jeb.cloudfront.n...</td>\n",
       "      <td>[]</td>\n",
       "      <td>adoptable</td>\n",
       "      <td>2022-10-23T03:03:14+0000</td>\n",
       "      <td>2022-10-23T03:03:14+0000</td>\n",
       "      <td>NaN</td>\n",
       "      <td>Pit Bull Terrier</td>\n",
       "      <td>Mixed Breed</td>\n",
       "      <td>True</td>\n",
       "      <td>False</td>\n",
       "      <td>NaN</td>\n",
       "      <td>NaN</td>\n",
       "      <td>NaN</td>\n",
       "      <td>True</td>\n",
       "      <td>False</td>\n",
       "      <td>NaN</td>\n",
       "      <td>False</td>\n",
       "      <td>False</td>\n",
       "      <td>False</td>\n",
       "      <td>NaN</td>\n",
       "      <td>NaN</td>\n",
       "      <td>https://dl5zpyw5k3jeb.cloudfront.net/photos/pe...</td>\n",
       "      <td>https://dl5zpyw5k3jeb.cloudfront.net/photos/pe...</td>\n",
       "      <td>https://dl5zpyw5k3jeb.cloudfront.net/photos/pe...</td>\n",
       "      <td>https://dl5zpyw5k3jeb.cloudfront.net/photos/pe...</td>\n",
       "      <td>adoptions@young-williams.org</td>\n",
       "      <td>(865) 215-6670</td>\n",
       "      <td>3201 Division St.</td>\n",
       "      <td>NaN</td>\n",
       "      <td>Knoxville</td>\n",
       "      <td>TN</td>\n",
       "      <td>37919</td>\n",
       "      <td>US</td>\n",
       "      <td>58632792</td>\n",
       "      <td>dog</td>\n",
       "      <td>tn61</td>\n",
       "      <td>NaN</td>\n",
       "    </tr>\n",
       "  </tbody>\n",
       "</table>\n",
       "</div>"
      ],
      "text/plain": [
       "             id organization_id  \\\n",
       "71770  58091608           CA595   \n",
       "9733   58998702            CA44   \n",
       "62238  58632792            TN61   \n",
       "\n",
       "                                                     url type species    age  \\\n",
       "71770  https://www.petfinder.com/dog/tomas-hertl-5809...  Dog     Dog  Young   \n",
       "9733   https://www.petfinder.com/dog/misty-58998702/c...  Dog     Dog  Adult   \n",
       "62238  https://www.petfinder.com/dog/terry-58632792/t...  Dog     Dog  Young   \n",
       "\n",
       "       gender    size    coat tags         name  \\\n",
       "71770    Male   Large     NaN   []  TOMAS HERTL   \n",
       "9733   Female   Small  Medium   []        Misty   \n",
       "62238    Male  Medium     NaN   []        Terry   \n",
       "\n",
       "                                             description  \\\n",
       "71770  11/11/22 18:58 Reason animal needs rescue: dec...   \n",
       "9733   Misty 4 yr old female, Pomeranian mix. Very sw...   \n",
       "62238  Hi there, I&amp;#39;m Terry! You wouldn&amp;#3...   \n",
       "\n",
       "      organization_animal_id  \\\n",
       "71770               A1272710   \n",
       "9733                     NaN   \n",
       "62238               50364300   \n",
       "\n",
       "                                                  photos videos     status  \\\n",
       "71770  [{'small': 'https://dl5zpyw5k3jeb.cloudfront.n...     []  adoptable   \n",
       "9733   [{'small': 'https://dl5zpyw5k3jeb.cloudfront.n...     []  adoptable   \n",
       "62238  [{'small': 'https://dl5zpyw5k3jeb.cloudfront.n...     []  adoptable   \n",
       "\n",
       "              status_changed_at              published_at  distance  \\\n",
       "71770  2022-10-12T20:34:42+0000  2022-10-12T20:34:40+0000       NaN   \n",
       "9733   2022-11-29T21:51:33+0000  2022-11-29T21:51:32+0000       NaN   \n",
       "62238  2022-10-23T03:03:14+0000  2022-10-23T03:03:14+0000       NaN   \n",
       "\n",
       "            breeds.primary breeds.secondary  breeds.mixed  breeds.unknown  \\\n",
       "71770  German Shepherd Dog              NaN         False           False   \n",
       "9733            Pomeranian        Chihuahua          True           False   \n",
       "62238     Pit Bull Terrier      Mixed Breed          True           False   \n",
       "\n",
       "      colors.primary                  colors.secondary colors.tertiary  \\\n",
       "71770            NaN                               NaN             NaN   \n",
       "9733           Black  Tricolor (Brown, Black, & White)    Merle (Blue)   \n",
       "62238            NaN                               NaN             NaN   \n",
       "\n",
       "       attributes.spayed_neutered  attributes.house_trained  \\\n",
       "71770                       False                     False   \n",
       "9733                         True                     False   \n",
       "62238                        True                     False   \n",
       "\n",
       "       attributes.declawed  attributes.special_needs  \\\n",
       "71770                  NaN                     False   \n",
       "9733                   NaN                     False   \n",
       "62238                  NaN                     False   \n",
       "\n",
       "       attributes.shots_current environment.children environment.dogs  \\\n",
       "71770                     False                  NaN              NaN   \n",
       "9733                       True                  NaN             True   \n",
       "62238                     False                False              NaN   \n",
       "\n",
       "      environment.cats                        primary_photo_cropped.small  \\\n",
       "71770              NaN  https://dl5zpyw5k3jeb.cloudfront.net/photos/pe...   \n",
       "9733               NaN  https://dl5zpyw5k3jeb.cloudfront.net/photos/pe...   \n",
       "62238              NaN  https://dl5zpyw5k3jeb.cloudfront.net/photos/pe...   \n",
       "\n",
       "                            primary_photo_cropped.medium  \\\n",
       "71770  https://dl5zpyw5k3jeb.cloudfront.net/photos/pe...   \n",
       "9733   https://dl5zpyw5k3jeb.cloudfront.net/photos/pe...   \n",
       "62238  https://dl5zpyw5k3jeb.cloudfront.net/photos/pe...   \n",
       "\n",
       "                             primary_photo_cropped.large  \\\n",
       "71770  https://dl5zpyw5k3jeb.cloudfront.net/photos/pe...   \n",
       "9733   https://dl5zpyw5k3jeb.cloudfront.net/photos/pe...   \n",
       "62238  https://dl5zpyw5k3jeb.cloudfront.net/photos/pe...   \n",
       "\n",
       "                              primary_photo_cropped.full  \\\n",
       "71770  https://dl5zpyw5k3jeb.cloudfront.net/photos/pe...   \n",
       "9733   https://dl5zpyw5k3jeb.cloudfront.net/photos/pe...   \n",
       "62238  https://dl5zpyw5k3jeb.cloudfront.net/photos/pe...   \n",
       "\n",
       "                      contact.email   contact.phone contact.address.address1  \\\n",
       "71770     AdoptAPetSJ@sanjoseca.gov  (408) 794-7297       2750 Monterey Road   \n",
       "9733       adoptions@petorphans.org  (818) 901-0190       7720 Gloria Avenue   \n",
       "62238  adoptions@young-williams.org  (865) 215-6670        3201 Division St.   \n",
       "\n",
       "      contact.address.address2 contact.address.city contact.address.state  \\\n",
       "71770                      NaN             San Jose                    CA   \n",
       "9733                       NaN             Van Nuys                    CA   \n",
       "62238                      NaN            Knoxville                    TN   \n",
       "\n",
       "      contact.address.postcode contact.address.country  animal_id animal_type  \\\n",
       "71770                    95111                      US   58091608         dog   \n",
       "9733                     91406                      US   58998702         dog   \n",
       "62238                    37919                      US   58632792         dog   \n",
       "\n",
       "      organization_id.1  primary_photo_cropped  \n",
       "71770             ca595                    NaN  \n",
       "9733               ca44                    NaN  \n",
       "62238              tn61                    NaN  "
      ]
     },
     "execution_count": 2,
     "metadata": {},
     "output_type": "execute_result"
    }
   ],
   "source": [
    "pd.set_option('display.max_columns', 500)\n",
    "dogs_DF.sample(3)"
   ]
  },
  {
   "cell_type": "code",
   "execution_count": 3,
   "id": "d1476c4b",
   "metadata": {},
   "outputs": [
    {
     "data": {
      "text/plain": [
       "Index(['id', 'organization_id', 'url', 'type', 'species', 'age', 'gender',\n",
       "       'size', 'coat', 'tags', 'name', 'description', 'organization_animal_id',\n",
       "       'photos', 'videos', 'status', 'status_changed_at', 'published_at',\n",
       "       'distance', 'breeds.primary', 'breeds.secondary', 'breeds.mixed',\n",
       "       'breeds.unknown', 'colors.primary', 'colors.secondary',\n",
       "       'colors.tertiary', 'attributes.spayed_neutered',\n",
       "       'attributes.house_trained', 'attributes.declawed',\n",
       "       'attributes.special_needs', 'attributes.shots_current',\n",
       "       'environment.children', 'environment.dogs', 'environment.cats',\n",
       "       'primary_photo_cropped.small', 'primary_photo_cropped.medium',\n",
       "       'primary_photo_cropped.large', 'primary_photo_cropped.full',\n",
       "       'contact.email', 'contact.phone', 'contact.address.address1',\n",
       "       'contact.address.address2', 'contact.address.city',\n",
       "       'contact.address.state', 'contact.address.postcode',\n",
       "       'contact.address.country', 'animal_id', 'animal_type',\n",
       "       'organization_id.1', 'primary_photo_cropped'],\n",
       "      dtype='object')"
      ]
     },
     "execution_count": 3,
     "metadata": {},
     "output_type": "execute_result"
    }
   ],
   "source": [
    "dogs_DF.columns"
   ]
  },
  {
   "cell_type": "markdown",
   "id": "6a589631",
   "metadata": {},
   "source": [
    "Drop animals with no pictures since they are key to our 'tinder-like' app experience."
   ]
  },
  {
   "cell_type": "code",
   "execution_count": 2,
   "id": "1a6d7d7a",
   "metadata": {},
   "outputs": [
    {
     "data": {
      "text/plain": [
       "(97694, 50)"
      ]
     },
     "execution_count": 2,
     "metadata": {},
     "output_type": "execute_result"
    }
   ],
   "source": [
    "dogs_DF = dogs_DF.dropna(subset=['primary_photo_cropped.full'])# drop rows with 0 pictures\n",
    "dogs_DF.shape # matches na count via sweet viz for cats"
   ]
  },
  {
   "cell_type": "markdown",
   "id": "6ca9236a",
   "metadata": {},
   "source": [
    "Next we seperate the dataframe into features to model over and context data that can be shown to the user for any matches. 'ID' will be our shared key between the two tables.\n",
    "\n",
    "Of note, the 'distance' field and 'primary_photo_cropped.full' field will be useful data for future model enhancements. For the model baseline, we will simply use textual data and assume a 0 distance for all pets."
   ]
  },
  {
   "cell_type": "code",
   "execution_count": 5,
   "id": "0d42174b",
   "metadata": {},
   "outputs": [
    {
     "data": {
      "text/plain": [
       "(97694, 21)"
      ]
     },
     "execution_count": 5,
     "metadata": {},
     "output_type": "execute_result"
    }
   ],
   "source": [
    "contextCols = ['id','organization_id','url','type','tags','name','description','organization_animal_id',\n",
    "              'photos','primary_photo_cropped','videos','status','status_changed_at','published_at',\n",
    "              'distance','contact.email', 'contact.phone', 'contact.address.address1',\n",
    "               'contact.address.address2', 'contact.address.city','contact.address.state', \n",
    "               'contact.address.postcode','contact.address.country', 'animal_id', 'animal_type',\n",
    "               'organization_id.1', 'primary_photo_cropped.small','primary_photo_cropped.medium',\n",
    "               'primary_photo_cropped.large','primary_photo_cropped.full']\n",
    "featureCols = ['id','age','gender','size','coat','breeds.primary', 'breeds.secondary','breeds.mixed',\n",
    "              'breeds.unknown','colors.primary','colors.secondary','colors.tertiary',\n",
    "              'attributes.spayed_neutered','attributes.house_trained',\n",
    "              'attributes.special_needs','attributes.shots_current','environment.children',\n",
    "              'environment.dogs','environment.cats','type','contact.address.postcode']\n",
    "dogs_DF_features = dogs_DF[featureCols]\n",
    "dogs_DF_context = dogs_DF[contextCols]\n",
    "dogs_DF_features.shape"
   ]
  },
  {
   "cell_type": "markdown",
   "id": "5d2a8099",
   "metadata": {},
   "source": [
    "Let's sanity check our missing values now that we just have cats and remove any columns with too many missing values."
   ]
  },
  {
   "cell_type": "code",
   "execution_count": 6,
   "id": "ffffe740",
   "metadata": {},
   "outputs": [],
   "source": [
    "valueCounts = dogs_DF_features.set_index('type').isna().groupby(level=0).sum()/dogs_DF_features.shape[0] # level=0 refers to our index, which we made 'type'\n"
   ]
  },
  {
   "cell_type": "code",
   "execution_count": 7,
   "id": "9452362a",
   "metadata": {},
   "outputs": [
    {
     "data": {
      "text/html": [
       "<div>\n",
       "<style scoped>\n",
       "    .dataframe tbody tr th:only-of-type {\n",
       "        vertical-align: middle;\n",
       "    }\n",
       "\n",
       "    .dataframe tbody tr th {\n",
       "        vertical-align: top;\n",
       "    }\n",
       "\n",
       "    .dataframe thead th {\n",
       "        text-align: right;\n",
       "    }\n",
       "</style>\n",
       "<table border=\"1\" class=\"dataframe\">\n",
       "  <thead>\n",
       "    <tr style=\"text-align: right;\">\n",
       "      <th></th>\n",
       "      <th>id</th>\n",
       "      <th>age</th>\n",
       "      <th>gender</th>\n",
       "      <th>size</th>\n",
       "      <th>coat</th>\n",
       "      <th>breeds.primary</th>\n",
       "      <th>breeds.secondary</th>\n",
       "      <th>breeds.mixed</th>\n",
       "      <th>breeds.unknown</th>\n",
       "      <th>colors.primary</th>\n",
       "      <th>colors.secondary</th>\n",
       "      <th>colors.tertiary</th>\n",
       "      <th>attributes.spayed_neutered</th>\n",
       "      <th>attributes.house_trained</th>\n",
       "      <th>attributes.special_needs</th>\n",
       "      <th>attributes.shots_current</th>\n",
       "      <th>environment.children</th>\n",
       "      <th>environment.dogs</th>\n",
       "      <th>environment.cats</th>\n",
       "      <th>contact.address.postcode</th>\n",
       "    </tr>\n",
       "    <tr>\n",
       "      <th>type</th>\n",
       "      <th></th>\n",
       "      <th></th>\n",
       "      <th></th>\n",
       "      <th></th>\n",
       "      <th></th>\n",
       "      <th></th>\n",
       "      <th></th>\n",
       "      <th></th>\n",
       "      <th></th>\n",
       "      <th></th>\n",
       "      <th></th>\n",
       "      <th></th>\n",
       "      <th></th>\n",
       "      <th></th>\n",
       "      <th></th>\n",
       "      <th></th>\n",
       "      <th></th>\n",
       "      <th></th>\n",
       "      <th></th>\n",
       "      <th></th>\n",
       "    </tr>\n",
       "  </thead>\n",
       "  <tbody>\n",
       "    <tr>\n",
       "      <th>Dog</th>\n",
       "      <td>0.0</td>\n",
       "      <td>0.0</td>\n",
       "      <td>0.0</td>\n",
       "      <td>0.0</td>\n",
       "      <td>0.661535</td>\n",
       "      <td>0.0</td>\n",
       "      <td>0.632639</td>\n",
       "      <td>0.0</td>\n",
       "      <td>0.0</td>\n",
       "      <td>0.456026</td>\n",
       "      <td>0.660153</td>\n",
       "      <td>0.885756</td>\n",
       "      <td>0.0</td>\n",
       "      <td>0.0</td>\n",
       "      <td>0.0</td>\n",
       "      <td>0.0</td>\n",
       "      <td>0.668342</td>\n",
       "      <td>0.546216</td>\n",
       "      <td>0.802168</td>\n",
       "      <td>0.000194</td>\n",
       "    </tr>\n",
       "  </tbody>\n",
       "</table>\n",
       "</div>"
      ],
      "text/plain": [
       "       id  age  gender  size      coat  breeds.primary  breeds.secondary  \\\n",
       "type                                                                       \n",
       "Dog   0.0  0.0     0.0   0.0  0.661535             0.0          0.632639   \n",
       "\n",
       "      breeds.mixed  breeds.unknown  colors.primary  colors.secondary  \\\n",
       "type                                                                   \n",
       "Dog            0.0             0.0        0.456026          0.660153   \n",
       "\n",
       "      colors.tertiary  attributes.spayed_neutered  attributes.house_trained  \\\n",
       "type                                                                          \n",
       "Dog          0.885756                         0.0                       0.0   \n",
       "\n",
       "      attributes.special_needs  attributes.shots_current  \\\n",
       "type                                                       \n",
       "Dog                        0.0                       0.0   \n",
       "\n",
       "      environment.children  environment.dogs  environment.cats  \\\n",
       "type                                                             \n",
       "Dog               0.668342          0.546216          0.802168   \n",
       "\n",
       "      contact.address.postcode  \n",
       "type                            \n",
       "Dog                   0.000194  "
      ]
     },
     "execution_count": 7,
     "metadata": {},
     "output_type": "execute_result"
    }
   ],
   "source": [
    "pd.set_option('display.max_columns', 500)\n",
    "valueCounts "
   ]
  },
  {
   "cell_type": "code",
   "execution_count": 8,
   "id": "4b559b96",
   "metadata": {},
   "outputs": [],
   "source": [
    "valueCounts = dogs_DF_context.set_index('type').isna().groupby(level=0).sum()/dogs_DF_context.shape[0] # level=0 refers to our index, which we made 'type'\n"
   ]
  },
  {
   "cell_type": "code",
   "execution_count": 9,
   "id": "a72789aa",
   "metadata": {},
   "outputs": [
    {
     "data": {
      "text/html": [
       "<div>\n",
       "<style scoped>\n",
       "    .dataframe tbody tr th:only-of-type {\n",
       "        vertical-align: middle;\n",
       "    }\n",
       "\n",
       "    .dataframe tbody tr th {\n",
       "        vertical-align: top;\n",
       "    }\n",
       "\n",
       "    .dataframe thead th {\n",
       "        text-align: right;\n",
       "    }\n",
       "</style>\n",
       "<table border=\"1\" class=\"dataframe\">\n",
       "  <thead>\n",
       "    <tr style=\"text-align: right;\">\n",
       "      <th></th>\n",
       "      <th>id</th>\n",
       "      <th>organization_id</th>\n",
       "      <th>url</th>\n",
       "      <th>tags</th>\n",
       "      <th>name</th>\n",
       "      <th>description</th>\n",
       "      <th>organization_animal_id</th>\n",
       "      <th>photos</th>\n",
       "      <th>primary_photo_cropped</th>\n",
       "      <th>videos</th>\n",
       "      <th>status</th>\n",
       "      <th>status_changed_at</th>\n",
       "      <th>published_at</th>\n",
       "      <th>distance</th>\n",
       "      <th>contact.email</th>\n",
       "      <th>contact.phone</th>\n",
       "      <th>contact.address.address1</th>\n",
       "      <th>contact.address.address2</th>\n",
       "      <th>contact.address.city</th>\n",
       "      <th>contact.address.state</th>\n",
       "      <th>contact.address.postcode</th>\n",
       "      <th>contact.address.country</th>\n",
       "      <th>animal_id</th>\n",
       "      <th>animal_type</th>\n",
       "      <th>organization_id.1</th>\n",
       "      <th>primary_photo_cropped.small</th>\n",
       "      <th>primary_photo_cropped.medium</th>\n",
       "      <th>primary_photo_cropped.large</th>\n",
       "      <th>primary_photo_cropped.full</th>\n",
       "    </tr>\n",
       "    <tr>\n",
       "      <th>type</th>\n",
       "      <th></th>\n",
       "      <th></th>\n",
       "      <th></th>\n",
       "      <th></th>\n",
       "      <th></th>\n",
       "      <th></th>\n",
       "      <th></th>\n",
       "      <th></th>\n",
       "      <th></th>\n",
       "      <th></th>\n",
       "      <th></th>\n",
       "      <th></th>\n",
       "      <th></th>\n",
       "      <th></th>\n",
       "      <th></th>\n",
       "      <th></th>\n",
       "      <th></th>\n",
       "      <th></th>\n",
       "      <th></th>\n",
       "      <th></th>\n",
       "      <th></th>\n",
       "      <th></th>\n",
       "      <th></th>\n",
       "      <th></th>\n",
       "      <th></th>\n",
       "      <th></th>\n",
       "      <th></th>\n",
       "      <th></th>\n",
       "      <th></th>\n",
       "    </tr>\n",
       "  </thead>\n",
       "  <tbody>\n",
       "    <tr>\n",
       "      <th>Dog</th>\n",
       "      <td>0.0</td>\n",
       "      <td>0.0</td>\n",
       "      <td>0.0</td>\n",
       "      <td>0.0</td>\n",
       "      <td>0.0</td>\n",
       "      <td>0.229277</td>\n",
       "      <td>0.344289</td>\n",
       "      <td>0.0</td>\n",
       "      <td>1.0</td>\n",
       "      <td>0.0</td>\n",
       "      <td>0.0</td>\n",
       "      <td>0.0</td>\n",
       "      <td>0.0</td>\n",
       "      <td>1.0</td>\n",
       "      <td>0.062931</td>\n",
       "      <td>0.245726</td>\n",
       "      <td>0.439014</td>\n",
       "      <td>0.942883</td>\n",
       "      <td>0.000154</td>\n",
       "      <td>0.000154</td>\n",
       "      <td>0.000194</td>\n",
       "      <td>0.000154</td>\n",
       "      <td>0.0</td>\n",
       "      <td>0.0</td>\n",
       "      <td>0.0</td>\n",
       "      <td>0.0</td>\n",
       "      <td>0.0</td>\n",
       "      <td>0.0</td>\n",
       "      <td>0.0</td>\n",
       "    </tr>\n",
       "  </tbody>\n",
       "</table>\n",
       "</div>"
      ],
      "text/plain": [
       "       id  organization_id  url  tags  name  description  \\\n",
       "type                                                       \n",
       "Dog   0.0              0.0  0.0   0.0   0.0     0.229277   \n",
       "\n",
       "      organization_animal_id  photos  primary_photo_cropped  videos  status  \\\n",
       "type                                                                          \n",
       "Dog                 0.344289     0.0                    1.0     0.0     0.0   \n",
       "\n",
       "      status_changed_at  published_at  distance  contact.email  contact.phone  \\\n",
       "type                                                                            \n",
       "Dog                 0.0           0.0       1.0       0.062931       0.245726   \n",
       "\n",
       "      contact.address.address1  contact.address.address2  \\\n",
       "type                                                       \n",
       "Dog                   0.439014                  0.942883   \n",
       "\n",
       "      contact.address.city  contact.address.state  contact.address.postcode  \\\n",
       "type                                                                          \n",
       "Dog               0.000154               0.000154                  0.000194   \n",
       "\n",
       "      contact.address.country  animal_id  animal_type  organization_id.1  \\\n",
       "type                                                                       \n",
       "Dog                  0.000154        0.0          0.0                0.0   \n",
       "\n",
       "      primary_photo_cropped.small  primary_photo_cropped.medium  \\\n",
       "type                                                              \n",
       "Dog                           0.0                           0.0   \n",
       "\n",
       "      primary_photo_cropped.large  primary_photo_cropped.full  \n",
       "type                                                           \n",
       "Dog                           0.0                         0.0  "
      ]
     },
     "execution_count": 9,
     "metadata": {},
     "output_type": "execute_result"
    }
   ],
   "source": [
    "pd.set_option('display.max_columns', 500)\n",
    "valueCounts "
   ]
  },
  {
   "cell_type": "markdown",
   "id": "29652796",
   "metadata": {},
   "source": [
    "After a quick NA check, we will have to remove 'coat','breeds.secondary','colors.secondary','colors.tertiary','environment.children','environment.dogs' and 'environment.cats'. The column 'colors.primary' is also missing a lot of values but for sake of differing one dog from another it will be kept for now. Additionally, we will bring back in address postcode as an initial attempt to match nearby dogs together."
   ]
  },
  {
   "cell_type": "code",
   "execution_count": 10,
   "id": "63c4ed53",
   "metadata": {},
   "outputs": [
    {
     "data": {
      "text/plain": [
       "(97694, 13)"
      ]
     },
     "execution_count": 10,
     "metadata": {},
     "output_type": "execute_result"
    }
   ],
   "source": [
    "featureCols = ['id','age','gender','size','breeds.primary','breeds.mixed','breeds.unknown',\n",
    "               'colors.primary','attributes.spayed_neutered','attributes.house_trained',\n",
    "               'attributes.special_needs','attributes.shots_current','contact.address.postcode']\n",
    "dogs_DF_features = dogs_DF[featureCols]\n",
    "dogs_DF_context = dogs_DF[contextCols]\n",
    "dogs_DF_features.shape"
   ]
  },
  {
   "cell_type": "code",
   "execution_count": 11,
   "id": "835e68ee",
   "metadata": {},
   "outputs": [
    {
     "data": {
      "text/plain": [
       "id                             int64\n",
       "age                           object\n",
       "gender                        object\n",
       "size                          object\n",
       "breeds.primary                object\n",
       "breeds.mixed                    bool\n",
       "breeds.unknown                  bool\n",
       "colors.primary                object\n",
       "attributes.spayed_neutered      bool\n",
       "attributes.house_trained        bool\n",
       "attributes.special_needs        bool\n",
       "attributes.shots_current        bool\n",
       "contact.address.postcode      object\n",
       "dtype: object"
      ]
     },
     "execution_count": 11,
     "metadata": {},
     "output_type": "execute_result"
    }
   ],
   "source": [
    "dogs_DF_features.dtypes"
   ]
  },
  {
   "cell_type": "markdown",
   "id": "5180fe0b",
   "metadata": {},
   "source": [
    "Now we add in AKC data where it exists! First we fix a few petfinder breeds to match AKC and then we join the tables!"
   ]
  },
  {
   "cell_type": "code",
   "execution_count": 12,
   "id": "118b130e",
   "metadata": {},
   "outputs": [
    {
     "data": {
      "text/html": [
       "<div>\n",
       "<style scoped>\n",
       "    .dataframe tbody tr th:only-of-type {\n",
       "        vertical-align: middle;\n",
       "    }\n",
       "\n",
       "    .dataframe tbody tr th {\n",
       "        vertical-align: top;\n",
       "    }\n",
       "\n",
       "    .dataframe thead th {\n",
       "        text-align: right;\n",
       "    }\n",
       "</style>\n",
       "<table border=\"1\" class=\"dataframe\">\n",
       "  <thead>\n",
       "    <tr style=\"text-align: right;\">\n",
       "      <th></th>\n",
       "      <th>id</th>\n",
       "      <th>age</th>\n",
       "      <th>gender</th>\n",
       "      <th>size</th>\n",
       "      <th>breeds.primary</th>\n",
       "      <th>breeds.mixed</th>\n",
       "      <th>breeds.unknown</th>\n",
       "      <th>colors.primary</th>\n",
       "      <th>attributes.spayed_neutered</th>\n",
       "      <th>attributes.house_trained</th>\n",
       "      <th>attributes.special_needs</th>\n",
       "      <th>attributes.shots_current</th>\n",
       "      <th>contact.address.postcode</th>\n",
       "    </tr>\n",
       "  </thead>\n",
       "  <tbody>\n",
       "    <tr>\n",
       "      <th>315</th>\n",
       "      <td>59026983</td>\n",
       "      <td>Young</td>\n",
       "      <td>Female</td>\n",
       "      <td>Medium</td>\n",
       "      <td>Black Labrador Retriever</td>\n",
       "      <td>True</td>\n",
       "      <td>False</td>\n",
       "      <td>Black</td>\n",
       "      <td>True</td>\n",
       "      <td>True</td>\n",
       "      <td>False</td>\n",
       "      <td>True</td>\n",
       "      <td>32533</td>\n",
       "    </tr>\n",
       "    <tr>\n",
       "      <th>317</th>\n",
       "      <td>59026974</td>\n",
       "      <td>Baby</td>\n",
       "      <td>Female</td>\n",
       "      <td>Medium</td>\n",
       "      <td>Black Labrador Retriever</td>\n",
       "      <td>True</td>\n",
       "      <td>False</td>\n",
       "      <td>NaN</td>\n",
       "      <td>False</td>\n",
       "      <td>False</td>\n",
       "      <td>False</td>\n",
       "      <td>True</td>\n",
       "      <td>17055</td>\n",
       "    </tr>\n",
       "    <tr>\n",
       "      <th>318</th>\n",
       "      <td>59026976</td>\n",
       "      <td>Baby</td>\n",
       "      <td>Male</td>\n",
       "      <td>Medium</td>\n",
       "      <td>Black Labrador Retriever</td>\n",
       "      <td>True</td>\n",
       "      <td>False</td>\n",
       "      <td>NaN</td>\n",
       "      <td>False</td>\n",
       "      <td>False</td>\n",
       "      <td>False</td>\n",
       "      <td>True</td>\n",
       "      <td>17055</td>\n",
       "    </tr>\n",
       "  </tbody>\n",
       "</table>\n",
       "</div>"
      ],
      "text/plain": [
       "           id    age  gender    size            breeds.primary  breeds.mixed  \\\n",
       "315  59026983  Young  Female  Medium  Black Labrador Retriever          True   \n",
       "317  59026974   Baby  Female  Medium  Black Labrador Retriever          True   \n",
       "318  59026976   Baby    Male  Medium  Black Labrador Retriever          True   \n",
       "\n",
       "     breeds.unknown colors.primary  attributes.spayed_neutered  \\\n",
       "315           False          Black                        True   \n",
       "317           False            NaN                       False   \n",
       "318           False            NaN                       False   \n",
       "\n",
       "     attributes.house_trained  attributes.special_needs  \\\n",
       "315                      True                     False   \n",
       "317                     False                     False   \n",
       "318                     False                     False   \n",
       "\n",
       "     attributes.shots_current contact.address.postcode  \n",
       "315                      True                    32533  \n",
       "317                      True                    17055  \n",
       "318                      True                    17055  "
      ]
     },
     "execution_count": 12,
     "metadata": {},
     "output_type": "execute_result"
    }
   ],
   "source": [
    "dogs_DF_features.loc[dogs_DF_features['breeds.primary'] == 'Black Labrador Retriever'].head(3)"
   ]
  },
  {
   "cell_type": "code",
   "execution_count": 13,
   "id": "bd69aebd",
   "metadata": {},
   "outputs": [],
   "source": [
    "#replace mistyped breeds that don't match AKC using EDA workbook as a reference!\n",
    "dogs_DF_features.loc[dogs_DF_features[\"breeds.primary\"] == \"Black Labrador Retriever\", \"breeds.primary\"] = 'Labrador Retriever'\n",
    "dogs_DF_features.loc[dogs_DF_features[\"breeds.primary\"] == \"Yellow Labrador Retriever\", \"breeds.primary\"] = 'Labrador Retriever'\n",
    "dogs_DF_features.loc[dogs_DF_features[\"breeds.primary\"] == \"Poodle\", \"breeds.primary\"] = 'Poodle (Standard)'\n",
    "dogs_DF_features.loc[dogs_DF_features[\"breeds.primary\"] == \"Wirehaired Dachshund\", \"breeds.primary\"] = 'Dachshund'\n",
    "dogs_DF_features.loc[dogs_DF_features[\"breeds.primary\"] == \"White German Shepherd\", \"breeds.primary\"] = 'German Shepherd Dog'\n",
    "dogs_DF_features.loc[dogs_DF_features[\"breeds.primary\"] == \"Standard Poodle\", \"breeds.primary\"] = 'Poodle (Standard)'\n",
    "dogs_DF_features.loc[dogs_DF_features[\"breeds.primary\"] == \"West Highland White Terrier / Westie\", \"breeds.primary\"] = 'West Highland White Terrier'\n",
    "dogs_DF_features.loc[dogs_DF_features[\"breeds.primary\"] == \"Eskimo Dog\", \"breeds.primary\"] = 'American Eskimo Dog'\n",
    "dogs_DF_features.loc[dogs_DF_features[\"breeds.primary\"] == \"Newfoundland Dog\", \"breeds.primary\"] = 'Newfoundland'\n",
    "dogs_DF_features.loc[dogs_DF_features[\"breeds.primary\"] == \"Mountain Dog\", \"breeds.primary\"] = 'Bernese Mountain Dog'\n",
    "dogs_DF_features.loc[dogs_DF_features[\"breeds.primary\"] == \"Miniature Poodle\", \"breeds.primary\"] = 'Poodle (Miniature)'\n",
    "dogs_DF_features.loc[dogs_DF_features[\"breeds.primary\"] == \"Miniature Dachshund'\", \"breeds.primary\"] = 'Dachshund'\n",
    "dogs_DF_features.loc[dogs_DF_features[\"breeds.primary\"] == \"Jack Russell Terrier\", \"breeds.primary\"] = 'Parson Russell Terrier'\n",
    "dogs_DF_features.loc[dogs_DF_features[\"breeds.primary\"] == \"Husky\", \"breeds.primary\"] = 'Siberian Husky'\n",
    "dogs_DF_features.loc[dogs_DF_features[\"breeds.primary\"] == \"Foxhound\", \"breeds.primary\"] = 'American Foxhound'\n",
    "dogs_DF_features.loc[dogs_DF_features[\"breeds.primary\"] == \"Fox Terrier\", \"breeds.primary\"] = 'Wire Fox Terrier'\n",
    "dogs_DF_features.loc[dogs_DF_features[\"breeds.primary\"] == \"English Bulldog\", \"breeds.primary\"] = 'Bulldog'\n",
    "dogs_DF_features.loc[dogs_DF_features[\"breeds.primary\"] == \"Corgi\", \"breeds.primary\"] = 'Pembroke Welsh Corgi'\n",
    "dogs_DF_features.loc[dogs_DF_features[\"breeds.primary\"] == \"Chocolate Labrador Retriever\", \"breeds.primary\"] = 'Labrador Retriever'\n",
    "dogs_DF_features.loc[dogs_DF_features[\"breeds.primary\"] == \"Belgian Shepherd / Tervuren'\", \"breeds.primary\"] = 'Belgian Tervuren'\n",
    "dogs_DF_features.loc[dogs_DF_features[\"breeds.primary\"] == \"Belgian Shepherd / Sheepdog\", \"breeds.primary\"] = 'Belgian Sheepdog'\n",
    "dogs_DF_features.loc[dogs_DF_features[\"breeds.primary\"] == \"Belgian Shepherd / Malinois\", \"breeds.primary\"] = 'Belgian Malinois'\n",
    "dogs_DF_features.loc[dogs_DF_features[\"breeds.primary\"] == \"Belgian Shepherd / Laekenois\", \"breeds.primary\"] = 'Belgian Laekenois'\n",
    "dogs_DF_features.loc[dogs_DF_features[\"breeds.primary\"] == \"Anatolian Shepherd\", \"breeds.primary\"] = 'Anatolian Shepherd Dog'\n",
    "dogs_DF_features.loc[dogs_DF_features[\"breeds.primary\"] == \"Australian Cattle Dog / Blue Heeler\", \"breeds.primary\"] = 'Australian Cattle Dog'\n"
   ]
  },
  {
   "cell_type": "markdown",
   "id": "fe27128a",
   "metadata": {},
   "source": [
    "Now that the dog breeds are fixed in the petfinder frame, let's pull in the akc data!"
   ]
  },
  {
   "cell_type": "code",
   "execution_count": 3,
   "id": "cba77d6b",
   "metadata": {},
   "outputs": [
    {
     "data": {
      "text/html": [
       "<div>\n",
       "<style scoped>\n",
       "    .dataframe tbody tr th:only-of-type {\n",
       "        vertical-align: middle;\n",
       "    }\n",
       "\n",
       "    .dataframe tbody tr th {\n",
       "        vertical-align: top;\n",
       "    }\n",
       "\n",
       "    .dataframe thead th {\n",
       "        text-align: right;\n",
       "    }\n",
       "</style>\n",
       "<table border=\"1\" class=\"dataframe\">\n",
       "  <thead>\n",
       "    <tr style=\"text-align: right;\">\n",
       "      <th></th>\n",
       "      <th>breeds.primary</th>\n",
       "      <th>description</th>\n",
       "      <th>temperament</th>\n",
       "      <th>popularity</th>\n",
       "      <th>min_height</th>\n",
       "      <th>max_height</th>\n",
       "      <th>min_weight</th>\n",
       "      <th>max_weight</th>\n",
       "      <th>min_expectancy</th>\n",
       "      <th>max_expectancy</th>\n",
       "      <th>...</th>\n",
       "      <th>grooming_frequency_value</th>\n",
       "      <th>grooming_frequency_category</th>\n",
       "      <th>shedding_value</th>\n",
       "      <th>shedding_category</th>\n",
       "      <th>energy_level_value</th>\n",
       "      <th>energy_level_category</th>\n",
       "      <th>trainability_value</th>\n",
       "      <th>trainability_category</th>\n",
       "      <th>demeanor_value</th>\n",
       "      <th>demeanor_category</th>\n",
       "    </tr>\n",
       "  </thead>\n",
       "  <tbody>\n",
       "    <tr>\n",
       "      <th>0</th>\n",
       "      <td>Affenpinscher</td>\n",
       "      <td>The Affen’s apish look has been described many...</td>\n",
       "      <td>Confident, Famously Funny, Fearless</td>\n",
       "      <td>148</td>\n",
       "      <td>22.86</td>\n",
       "      <td>29.21</td>\n",
       "      <td>3.175147</td>\n",
       "      <td>4.535924</td>\n",
       "      <td>12.0</td>\n",
       "      <td>15.0</td>\n",
       "      <td>...</td>\n",
       "      <td>0.6</td>\n",
       "      <td>2-3 Times a Week Brushing</td>\n",
       "      <td>0.6</td>\n",
       "      <td>Seasonal</td>\n",
       "      <td>0.6</td>\n",
       "      <td>Regular Exercise</td>\n",
       "      <td>0.8</td>\n",
       "      <td>Easy Training</td>\n",
       "      <td>1.0</td>\n",
       "      <td>Outgoing</td>\n",
       "    </tr>\n",
       "    <tr>\n",
       "      <th>1</th>\n",
       "      <td>Afghan Hound</td>\n",
       "      <td>The Afghan Hound is an ancient breed, his whol...</td>\n",
       "      <td>Dignified, Profoundly Loyal, Aristocratic</td>\n",
       "      <td>113</td>\n",
       "      <td>63.50</td>\n",
       "      <td>68.58</td>\n",
       "      <td>22.679619</td>\n",
       "      <td>27.215542</td>\n",
       "      <td>12.0</td>\n",
       "      <td>15.0</td>\n",
       "      <td>...</td>\n",
       "      <td>0.8</td>\n",
       "      <td>Daily Brushing</td>\n",
       "      <td>0.2</td>\n",
       "      <td>Infrequent</td>\n",
       "      <td>0.8</td>\n",
       "      <td>Energetic</td>\n",
       "      <td>0.2</td>\n",
       "      <td>May be Stubborn</td>\n",
       "      <td>0.2</td>\n",
       "      <td>Aloof/Wary</td>\n",
       "    </tr>\n",
       "    <tr>\n",
       "      <th>2</th>\n",
       "      <td>Airedale Terrier</td>\n",
       "      <td>The Airedale Terrier is the largest of all ter...</td>\n",
       "      <td>Friendly, Clever, Courageous</td>\n",
       "      <td>60</td>\n",
       "      <td>58.42</td>\n",
       "      <td>58.42</td>\n",
       "      <td>22.679619</td>\n",
       "      <td>31.751466</td>\n",
       "      <td>11.0</td>\n",
       "      <td>14.0</td>\n",
       "      <td>...</td>\n",
       "      <td>0.6</td>\n",
       "      <td>2-3 Times a Week Brushing</td>\n",
       "      <td>0.4</td>\n",
       "      <td>Occasional</td>\n",
       "      <td>0.6</td>\n",
       "      <td>Regular Exercise</td>\n",
       "      <td>1.0</td>\n",
       "      <td>Eager to Please</td>\n",
       "      <td>0.8</td>\n",
       "      <td>Friendly</td>\n",
       "    </tr>\n",
       "  </tbody>\n",
       "</table>\n",
       "<p>3 rows × 21 columns</p>\n",
       "</div>"
      ],
      "text/plain": [
       "     breeds.primary                                        description  \\\n",
       "0     Affenpinscher  The Affen’s apish look has been described many...   \n",
       "1      Afghan Hound  The Afghan Hound is an ancient breed, his whol...   \n",
       "2  Airedale Terrier  The Airedale Terrier is the largest of all ter...   \n",
       "\n",
       "                                 temperament popularity  min_height  \\\n",
       "0        Confident, Famously Funny, Fearless        148       22.86   \n",
       "1  Dignified, Profoundly Loyal, Aristocratic        113       63.50   \n",
       "2               Friendly, Clever, Courageous         60       58.42   \n",
       "\n",
       "   max_height  min_weight  max_weight  min_expectancy  max_expectancy  ...  \\\n",
       "0       29.21    3.175147    4.535924            12.0            15.0  ...   \n",
       "1       68.58   22.679619   27.215542            12.0            15.0  ...   \n",
       "2       58.42   22.679619   31.751466            11.0            14.0  ...   \n",
       "\n",
       "  grooming_frequency_value  grooming_frequency_category shedding_value  \\\n",
       "0                      0.6    2-3 Times a Week Brushing            0.6   \n",
       "1                      0.8               Daily Brushing            0.2   \n",
       "2                      0.6    2-3 Times a Week Brushing            0.4   \n",
       "\n",
       "   shedding_category energy_level_value  energy_level_category  \\\n",
       "0           Seasonal                0.6       Regular Exercise   \n",
       "1         Infrequent                0.8              Energetic   \n",
       "2         Occasional                0.6       Regular Exercise   \n",
       "\n",
       "  trainability_value  trainability_category demeanor_value  demeanor_category  \n",
       "0                0.8          Easy Training            1.0           Outgoing  \n",
       "1                0.2        May be Stubborn            0.2         Aloof/Wary  \n",
       "2                1.0        Eager to Please            0.8           Friendly  \n",
       "\n",
       "[3 rows x 21 columns]"
      ]
     },
     "execution_count": 3,
     "metadata": {},
     "output_type": "execute_result"
    }
   ],
   "source": [
    "akc = pd.read_csv(\"../data/external/akc-data-2020-05-18.csv\",header=0)\n",
    "akc.columns.values[0] = 'breeds.primary'\n",
    "akc.head(3)"
   ]
  },
  {
   "cell_type": "code",
   "execution_count": 15,
   "id": "1be51b1a",
   "metadata": {},
   "outputs": [
    {
     "data": {
      "text/html": [
       "<div>\n",
       "<style scoped>\n",
       "    .dataframe tbody tr th:only-of-type {\n",
       "        vertical-align: middle;\n",
       "    }\n",
       "\n",
       "    .dataframe tbody tr th {\n",
       "        vertical-align: top;\n",
       "    }\n",
       "\n",
       "    .dataframe thead th {\n",
       "        text-align: right;\n",
       "    }\n",
       "</style>\n",
       "<table border=\"1\" class=\"dataframe\">\n",
       "  <thead>\n",
       "    <tr style=\"text-align: right;\">\n",
       "      <th></th>\n",
       "      <th>breeds.primary</th>\n",
       "      <th>group</th>\n",
       "      <th>grooming_frequency_category</th>\n",
       "      <th>shedding_category</th>\n",
       "      <th>energy_level_category</th>\n",
       "      <th>trainability_category</th>\n",
       "      <th>demeanor_category</th>\n",
       "    </tr>\n",
       "  </thead>\n",
       "  <tbody>\n",
       "    <tr>\n",
       "      <th>0</th>\n",
       "      <td>Affenpinscher</td>\n",
       "      <td>Toy Group</td>\n",
       "      <td>2-3 Times a Week Brushing</td>\n",
       "      <td>Seasonal</td>\n",
       "      <td>Regular Exercise</td>\n",
       "      <td>Easy Training</td>\n",
       "      <td>Outgoing</td>\n",
       "    </tr>\n",
       "    <tr>\n",
       "      <th>1</th>\n",
       "      <td>Afghan Hound</td>\n",
       "      <td>Hound Group</td>\n",
       "      <td>Daily Brushing</td>\n",
       "      <td>Infrequent</td>\n",
       "      <td>Energetic</td>\n",
       "      <td>May be Stubborn</td>\n",
       "      <td>Aloof/Wary</td>\n",
       "    </tr>\n",
       "    <tr>\n",
       "      <th>2</th>\n",
       "      <td>Airedale Terrier</td>\n",
       "      <td>Terrier Group</td>\n",
       "      <td>2-3 Times a Week Brushing</td>\n",
       "      <td>Occasional</td>\n",
       "      <td>Regular Exercise</td>\n",
       "      <td>Eager to Please</td>\n",
       "      <td>Friendly</td>\n",
       "    </tr>\n",
       "  </tbody>\n",
       "</table>\n",
       "</div>"
      ],
      "text/plain": [
       "     breeds.primary          group grooming_frequency_category  \\\n",
       "0     Affenpinscher      Toy Group   2-3 Times a Week Brushing   \n",
       "1      Afghan Hound    Hound Group              Daily Brushing   \n",
       "2  Airedale Terrier  Terrier Group   2-3 Times a Week Brushing   \n",
       "\n",
       "  shedding_category energy_level_category trainability_category  \\\n",
       "0          Seasonal      Regular Exercise         Easy Training   \n",
       "1        Infrequent             Energetic       May be Stubborn   \n",
       "2        Occasional      Regular Exercise       Eager to Please   \n",
       "\n",
       "  demeanor_category  \n",
       "0          Outgoing  \n",
       "1        Aloof/Wary  \n",
       "2          Friendly  "
      ]
     },
     "execution_count": 15,
     "metadata": {},
     "output_type": "execute_result"
    }
   ],
   "source": [
    "akcFeatures = ['breeds.primary','group','grooming_frequency_category','shedding_category','energy_level_category','trainability_category','demeanor_category']\n",
    "akctoAdd = akc[akcFeatures]\n",
    "akctoAdd.head(3)\n"
   ]
  },
  {
   "cell_type": "markdown",
   "id": "6e518b92",
   "metadata": {},
   "source": [
    "In future, we will want to pull in these descriptions, but for now, lets keep it simple. Next we join the frames."
   ]
  },
  {
   "cell_type": "code",
   "execution_count": 16,
   "id": "c7e98c44",
   "metadata": {},
   "outputs": [
    {
     "data": {
      "text/plain": [
       "(97694, 19)"
      ]
     },
     "execution_count": 16,
     "metadata": {},
     "output_type": "execute_result"
    }
   ],
   "source": [
    "dogs_DF_featuresJoint = pd.merge(dogs_DF_features, akctoAdd, on=\"breeds.primary\",how=\"left\")\n",
    "dogs_DF_featuresJoint.shape"
   ]
  },
  {
   "cell_type": "code",
   "execution_count": 6,
   "id": "a5e93081",
   "metadata": {},
   "outputs": [
    {
     "data": {
      "text/plain": [
       "(97694, 70)"
      ]
     },
     "execution_count": 6,
     "metadata": {},
     "output_type": "execute_result"
    }
   ],
   "source": [
    "#run to generate streamlit file otherwise comment out\n",
    "dogs_DF_Joint = pd.merge(dogs_DF, akc, on=\"breeds.primary\",how=\"left\")\n",
    "dogs_DF_Joint.shape"
   ]
  },
  {
   "cell_type": "code",
   "execution_count": 7,
   "id": "5163181b",
   "metadata": {},
   "outputs": [
    {
     "data": {
      "text/plain": [
       "Index(['id', 'organization_id', 'url', 'type', 'species', 'age', 'gender',\n",
       "       'size', 'coat', 'tags', 'name', 'description_x',\n",
       "       'organization_animal_id', 'photos', 'videos', 'status',\n",
       "       'status_changed_at', 'published_at', 'distance', 'breeds.primary',\n",
       "       'breeds.secondary', 'breeds.mixed', 'breeds.unknown', 'colors.primary',\n",
       "       'colors.secondary', 'colors.tertiary', 'attributes.spayed_neutered',\n",
       "       'attributes.house_trained', 'attributes.declawed',\n",
       "       'attributes.special_needs', 'attributes.shots_current',\n",
       "       'environment.children', 'environment.dogs', 'environment.cats',\n",
       "       'primary_photo_cropped.small', 'primary_photo_cropped.medium',\n",
       "       'primary_photo_cropped.large', 'primary_photo_cropped.full',\n",
       "       'contact.email', 'contact.phone', 'contact.address.address1',\n",
       "       'contact.address.address2', 'contact.address.city',\n",
       "       'contact.address.state', 'contact.address.postcode',\n",
       "       'contact.address.country', 'animal_id', 'animal_type',\n",
       "       'organization_id.1', 'primary_photo_cropped', 'description_y',\n",
       "       'temperament', 'popularity', 'min_height', 'max_height', 'min_weight',\n",
       "       'max_weight', 'min_expectancy', 'max_expectancy', 'group',\n",
       "       'grooming_frequency_value', 'grooming_frequency_category',\n",
       "       'shedding_value', 'shedding_category', 'energy_level_value',\n",
       "       'energy_level_category', 'trainability_value', 'trainability_category',\n",
       "       'demeanor_value', 'demeanor_category'],\n",
       "      dtype='object')"
      ]
     },
     "execution_count": 7,
     "metadata": {},
     "output_type": "execute_result"
    }
   ],
   "source": [
    "#run to generate streamlit file otherwise comment out\n",
    "dogs_DF_Joint.columns"
   ]
  },
  {
   "cell_type": "code",
   "execution_count": 8,
   "id": "9ef9027b",
   "metadata": {},
   "outputs": [],
   "source": [
    "#run to generate streamlit file otherwise comment out\n",
    "#replace mistyped breeds that don't match AKC using EDA workbook as a reference!\n",
    "dogs_DF_Joint.loc[dogs_DF_Joint[\"breeds.primary\"] == \"Black Labrador Retriever\", \"breeds.primary\"] = 'Labrador Retriever'\n",
    "dogs_DF_Joint.loc[dogs_DF_Joint[\"breeds.primary\"] == \"Yellow Labrador Retriever\", \"breeds.primary\"] = 'Labrador Retriever'\n",
    "dogs_DF_Joint.loc[dogs_DF_Joint[\"breeds.primary\"] == \"Poodle\", \"breeds.primary\"] = 'Poodle (Standard)'\n",
    "dogs_DF_Joint.loc[dogs_DF_Joint[\"breeds.primary\"] == \"Wirehaired Dachshund\", \"breeds.primary\"] = 'Dachshund'\n",
    "dogs_DF_Joint.loc[dogs_DF_Joint[\"breeds.primary\"] == \"White German Shepherd\", \"breeds.primary\"] = 'German Shepherd Dog'\n",
    "dogs_DF_Joint.loc[dogs_DF_Joint[\"breeds.primary\"] == \"Standard Poodle\", \"breeds.primary\"] = 'Poodle (Standard)'\n",
    "dogs_DF_Joint.loc[dogs_DF_Joint[\"breeds.primary\"] == \"West Highland White Terrier / Westie\", \"breeds.primary\"] = 'West Highland White Terrier'\n",
    "dogs_DF_Joint.loc[dogs_DF_Joint[\"breeds.primary\"] == \"Eskimo Dog\", \"breeds.primary\"] = 'American Eskimo Dog'\n",
    "dogs_DF_Joint.loc[dogs_DF_Joint[\"breeds.primary\"] == \"Newfoundland Dog\", \"breeds.primary\"] = 'Newfoundland'\n",
    "dogs_DF_Joint.loc[dogs_DF_Joint[\"breeds.primary\"] == \"Mountain Dog\", \"breeds.primary\"] = 'Bernese Mountain Dog'\n",
    "dogs_DF_Joint.loc[dogs_DF_Joint[\"breeds.primary\"] == \"Miniature Poodle\", \"breeds.primary\"] = 'Poodle (Miniature)'\n",
    "dogs_DF_Joint.loc[dogs_DF_Joint[\"breeds.primary\"] == \"Miniature Dachshund'\", \"breeds.primary\"] = 'Dachshund'\n",
    "dogs_DF_Joint.loc[dogs_DF_Joint[\"breeds.primary\"] == \"Jack Russell Terrier\", \"breeds.primary\"] = 'Parson Russell Terrier'\n",
    "dogs_DF_Joint.loc[dogs_DF_Joint[\"breeds.primary\"] == \"Husky\", \"breeds.primary\"] = 'Siberian Husky'\n",
    "dogs_DF_Joint.loc[dogs_DF_Joint[\"breeds.primary\"] == \"Foxhound\", \"breeds.primary\"] = 'American Foxhound'\n",
    "dogs_DF_Joint.loc[dogs_DF_Joint[\"breeds.primary\"] == \"Fox Terrier\", \"breeds.primary\"] = 'Wire Fox Terrier'\n",
    "dogs_DF_Joint.loc[dogs_DF_Joint[\"breeds.primary\"] == \"English Bulldog\", \"breeds.primary\"] = 'Bulldog'\n",
    "dogs_DF_Joint.loc[dogs_DF_Joint[\"breeds.primary\"] == \"Corgi\", \"breeds.primary\"] = 'Pembroke Welsh Corgi'\n",
    "dogs_DF_Joint.loc[dogs_DF_Joint[\"breeds.primary\"] == \"Chocolate Labrador Retriever\", \"breeds.primary\"] = 'Labrador Retriever'\n",
    "dogs_DF_Joint.loc[dogs_DF_Joint[\"breeds.primary\"] == \"Belgian Shepherd / Tervuren'\", \"breeds.primary\"] = 'Belgian Tervuren'\n",
    "dogs_DF_Joint.loc[dogs_DF_Joint[\"breeds.primary\"] == \"Belgian Shepherd / Sheepdog\", \"breeds.primary\"] = 'Belgian Sheepdog'\n",
    "dogs_DF_Joint.loc[dogs_DF_Joint[\"breeds.primary\"] == \"Belgian Shepherd / Malinois\", \"breeds.primary\"] = 'Belgian Malinois'\n",
    "dogs_DF_Joint.loc[dogs_DF_Joint[\"breeds.primary\"] == \"Belgian Shepherd / Laekenois\", \"breeds.primary\"] = 'Belgian Laekenois'\n",
    "dogs_DF_Joint.loc[dogs_DF_Joint[\"breeds.primary\"] == \"Anatolian Shepherd\", \"breeds.primary\"] = 'Anatolian Shepherd Dog'\n",
    "dogs_DF_Joint.loc[dogs_DF_Joint[\"breeds.primary\"] == \"Australian Cattle Dog / Blue Heeler\", \"breeds.primary\"] = 'Australian Cattle Dog'\n"
   ]
  },
  {
   "cell_type": "code",
   "execution_count": 10,
   "id": "537dcc7d",
   "metadata": {},
   "outputs": [
    {
     "data": {
      "text/plain": [
       "63592        Pit Bull Terrier\n",
       "95316    Pembroke Welsh Corgi\n",
       "32798         Black Mouth Cur\n",
       "Name: breeds.primary, dtype: object"
      ]
     },
     "execution_count": 10,
     "metadata": {},
     "output_type": "execute_result"
    }
   ],
   "source": [
    "#run to generate streamlit file otherwise comment out\n",
    "dogs_DF_Joint.sample(3)[\"breeds.primary\"]"
   ]
  },
  {
   "cell_type": "code",
   "execution_count": 11,
   "id": "8a4c7fc2",
   "metadata": {},
   "outputs": [],
   "source": [
    "#run to generate streamlit file otherwise comment out\n",
    "# Name of the CSV file\n",
    "csvFileName = \"../data/raw/Adoptable_dogs_20221202_withExtras.csv\"\n",
    "\n",
    "# Write contents of the DataFrame to a CSV file\n",
    "dogs_DF_Joint.to_csv(csvFileName);"
   ]
  },
  {
   "cell_type": "code",
   "execution_count": 17,
   "id": "2aef276b",
   "metadata": {},
   "outputs": [
    {
     "data": {
      "text/html": [
       "<div>\n",
       "<style scoped>\n",
       "    .dataframe tbody tr th:only-of-type {\n",
       "        vertical-align: middle;\n",
       "    }\n",
       "\n",
       "    .dataframe tbody tr th {\n",
       "        vertical-align: top;\n",
       "    }\n",
       "\n",
       "    .dataframe thead th {\n",
       "        text-align: right;\n",
       "    }\n",
       "</style>\n",
       "<table border=\"1\" class=\"dataframe\">\n",
       "  <thead>\n",
       "    <tr style=\"text-align: right;\">\n",
       "      <th></th>\n",
       "      <th>id</th>\n",
       "      <th>age</th>\n",
       "      <th>gender</th>\n",
       "      <th>size</th>\n",
       "      <th>breeds.primary</th>\n",
       "      <th>breeds.mixed</th>\n",
       "      <th>breeds.unknown</th>\n",
       "      <th>colors.primary</th>\n",
       "      <th>attributes.spayed_neutered</th>\n",
       "      <th>attributes.house_trained</th>\n",
       "      <th>attributes.special_needs</th>\n",
       "      <th>attributes.shots_current</th>\n",
       "      <th>contact.address.postcode</th>\n",
       "      <th>group</th>\n",
       "      <th>grooming_frequency_category</th>\n",
       "      <th>shedding_category</th>\n",
       "      <th>energy_level_category</th>\n",
       "      <th>trainability_category</th>\n",
       "      <th>demeanor_category</th>\n",
       "    </tr>\n",
       "  </thead>\n",
       "  <tbody>\n",
       "    <tr>\n",
       "      <th>66011</th>\n",
       "      <td>58508911</td>\n",
       "      <td>Adult</td>\n",
       "      <td>Female</td>\n",
       "      <td>Large</td>\n",
       "      <td>German Shepherd Dog</td>\n",
       "      <td>False</td>\n",
       "      <td>False</td>\n",
       "      <td>Tricolor (Brown, Black, &amp; White)</td>\n",
       "      <td>True</td>\n",
       "      <td>True</td>\n",
       "      <td>False</td>\n",
       "      <td>True</td>\n",
       "      <td>47001</td>\n",
       "      <td>Herding Group</td>\n",
       "      <td>Weekly Brushing</td>\n",
       "      <td>Regularly</td>\n",
       "      <td>Regular Exercise</td>\n",
       "      <td>Eager to Please</td>\n",
       "      <td>Alert/Responsive</td>\n",
       "    </tr>\n",
       "    <tr>\n",
       "      <th>48707</th>\n",
       "      <td>58763272</td>\n",
       "      <td>Young</td>\n",
       "      <td>Male</td>\n",
       "      <td>Large</td>\n",
       "      <td>German Shepherd Dog</td>\n",
       "      <td>False</td>\n",
       "      <td>False</td>\n",
       "      <td>NaN</td>\n",
       "      <td>True</td>\n",
       "      <td>False</td>\n",
       "      <td>False</td>\n",
       "      <td>False</td>\n",
       "      <td>90242</td>\n",
       "      <td>Herding Group</td>\n",
       "      <td>Weekly Brushing</td>\n",
       "      <td>Regularly</td>\n",
       "      <td>Regular Exercise</td>\n",
       "      <td>Eager to Please</td>\n",
       "      <td>Alert/Responsive</td>\n",
       "    </tr>\n",
       "    <tr>\n",
       "      <th>17346</th>\n",
       "      <td>58852934</td>\n",
       "      <td>Adult</td>\n",
       "      <td>Male</td>\n",
       "      <td>Extra Large</td>\n",
       "      <td>Pit Bull Terrier</td>\n",
       "      <td>True</td>\n",
       "      <td>False</td>\n",
       "      <td>White / Cream</td>\n",
       "      <td>True</td>\n",
       "      <td>False</td>\n",
       "      <td>False</td>\n",
       "      <td>True</td>\n",
       "      <td>07063</td>\n",
       "      <td>NaN</td>\n",
       "      <td>NaN</td>\n",
       "      <td>NaN</td>\n",
       "      <td>NaN</td>\n",
       "      <td>NaN</td>\n",
       "      <td>NaN</td>\n",
       "    </tr>\n",
       "  </tbody>\n",
       "</table>\n",
       "</div>"
      ],
      "text/plain": [
       "             id    age  gender         size       breeds.primary  \\\n",
       "66011  58508911  Adult  Female        Large  German Shepherd Dog   \n",
       "48707  58763272  Young    Male        Large  German Shepherd Dog   \n",
       "17346  58852934  Adult    Male  Extra Large     Pit Bull Terrier   \n",
       "\n",
       "       breeds.mixed  breeds.unknown                    colors.primary  \\\n",
       "66011         False           False  Tricolor (Brown, Black, & White)   \n",
       "48707         False           False                               NaN   \n",
       "17346          True           False                     White / Cream   \n",
       "\n",
       "       attributes.spayed_neutered  attributes.house_trained  \\\n",
       "66011                        True                      True   \n",
       "48707                        True                     False   \n",
       "17346                        True                     False   \n",
       "\n",
       "       attributes.special_needs  attributes.shots_current  \\\n",
       "66011                     False                      True   \n",
       "48707                     False                     False   \n",
       "17346                     False                      True   \n",
       "\n",
       "      contact.address.postcode          group grooming_frequency_category  \\\n",
       "66011                    47001  Herding Group             Weekly Brushing   \n",
       "48707                    90242  Herding Group             Weekly Brushing   \n",
       "17346                    07063            NaN                         NaN   \n",
       "\n",
       "      shedding_category energy_level_category trainability_category  \\\n",
       "66011         Regularly      Regular Exercise       Eager to Please   \n",
       "48707         Regularly      Regular Exercise       Eager to Please   \n",
       "17346               NaN                   NaN                   NaN   \n",
       "\n",
       "      demeanor_category  \n",
       "66011  Alert/Responsive  \n",
       "48707  Alert/Responsive  \n",
       "17346               NaN  "
      ]
     },
     "execution_count": 17,
     "metadata": {},
     "output_type": "execute_result"
    }
   ],
   "source": [
    "dogs_DF_featuresJoint.sample(3)"
   ]
  },
  {
   "cell_type": "code",
   "execution_count": 18,
   "id": "1afd9d93",
   "metadata": {},
   "outputs": [
    {
     "data": {
      "text/plain": [
       "Index(['id', 'age', 'gender', 'size', 'breeds.primary', 'breeds.mixed',\n",
       "       'breeds.unknown', 'colors.primary', 'attributes.spayed_neutered',\n",
       "       'attributes.house_trained', 'attributes.special_needs',\n",
       "       'attributes.shots_current', 'contact.address.postcode', 'group',\n",
       "       'grooming_frequency_category', 'shedding_category',\n",
       "       'energy_level_category', 'trainability_category', 'demeanor_category'],\n",
       "      dtype='object')"
      ]
     },
     "execution_count": 18,
     "metadata": {},
     "output_type": "execute_result"
    }
   ],
   "source": [
    "dogs_DF_featuresJoint.columns"
   ]
  },
  {
   "cell_type": "markdown",
   "id": "d85ce6f4",
   "metadata": {},
   "source": [
    "# Pre-process feature data<a id='pre-process'></a>"
   ]
  },
  {
   "cell_type": "markdown",
   "id": "aae0116a",
   "metadata": {},
   "source": [
    "## Recheck sweetviz for distinct values and types<a id='sweet'></a>"
   ]
  },
  {
   "cell_type": "markdown",
   "id": "2eae8a29",
   "metadata": {},
   "source": [
    "First, let's re-examine our dataframe for distinct values."
   ]
  },
  {
   "cell_type": "code",
   "execution_count": 19,
   "id": "c6e9a087",
   "metadata": {},
   "outputs": [
    {
     "data": {
      "text/html": [
       "<div>\n",
       "<style scoped>\n",
       "    .dataframe tbody tr th:only-of-type {\n",
       "        vertical-align: middle;\n",
       "    }\n",
       "\n",
       "    .dataframe tbody tr th {\n",
       "        vertical-align: top;\n",
       "    }\n",
       "\n",
       "    .dataframe thead th {\n",
       "        text-align: right;\n",
       "    }\n",
       "</style>\n",
       "<table border=\"1\" class=\"dataframe\">\n",
       "  <thead>\n",
       "    <tr style=\"text-align: right;\">\n",
       "      <th></th>\n",
       "      <th>id</th>\n",
       "      <th>age</th>\n",
       "      <th>gender</th>\n",
       "      <th>size</th>\n",
       "      <th>breeds.primary</th>\n",
       "      <th>breeds.mixed</th>\n",
       "      <th>breeds.unknown</th>\n",
       "      <th>colors.primary</th>\n",
       "      <th>attributes.spayed_neutered</th>\n",
       "      <th>attributes.house_trained</th>\n",
       "      <th>attributes.special_needs</th>\n",
       "      <th>attributes.shots_current</th>\n",
       "      <th>contact.address.postcode</th>\n",
       "      <th>group</th>\n",
       "      <th>grooming_frequency_category</th>\n",
       "      <th>shedding_category</th>\n",
       "      <th>energy_level_category</th>\n",
       "      <th>trainability_category</th>\n",
       "      <th>demeanor_category</th>\n",
       "    </tr>\n",
       "  </thead>\n",
       "  <tbody>\n",
       "    <tr>\n",
       "      <th>0</th>\n",
       "      <td>59027590</td>\n",
       "      <td>Adult</td>\n",
       "      <td>Female</td>\n",
       "      <td>Large</td>\n",
       "      <td>Golden Retriever</td>\n",
       "      <td>True</td>\n",
       "      <td>False</td>\n",
       "      <td>NaN</td>\n",
       "      <td>True</td>\n",
       "      <td>True</td>\n",
       "      <td>False</td>\n",
       "      <td>True</td>\n",
       "      <td>07442</td>\n",
       "      <td>Sporting Group</td>\n",
       "      <td>Weekly Brushing</td>\n",
       "      <td>Seasonal</td>\n",
       "      <td>Needs Lots of Activity</td>\n",
       "      <td>Eager to Please</td>\n",
       "      <td>Friendly</td>\n",
       "    </tr>\n",
       "    <tr>\n",
       "      <th>1</th>\n",
       "      <td>59027588</td>\n",
       "      <td>Adult</td>\n",
       "      <td>Male</td>\n",
       "      <td>Small</td>\n",
       "      <td>Dandie Dinmont Terrier</td>\n",
       "      <td>True</td>\n",
       "      <td>False</td>\n",
       "      <td>Black</td>\n",
       "      <td>True</td>\n",
       "      <td>True</td>\n",
       "      <td>False</td>\n",
       "      <td>True</td>\n",
       "      <td>75093</td>\n",
       "      <td>Terrier Group</td>\n",
       "      <td>Daily Brushing</td>\n",
       "      <td>Infrequent</td>\n",
       "      <td>Regular Exercise</td>\n",
       "      <td>Independent</td>\n",
       "      <td>Reserved with Strangers</td>\n",
       "    </tr>\n",
       "    <tr>\n",
       "      <th>2</th>\n",
       "      <td>59027587</td>\n",
       "      <td>Baby</td>\n",
       "      <td>Female</td>\n",
       "      <td>Large</td>\n",
       "      <td>Great Pyrenees</td>\n",
       "      <td>False</td>\n",
       "      <td>False</td>\n",
       "      <td>White / Cream</td>\n",
       "      <td>True</td>\n",
       "      <td>False</td>\n",
       "      <td>False</td>\n",
       "      <td>True</td>\n",
       "      <td>36541</td>\n",
       "      <td>Working Group</td>\n",
       "      <td>Weekly Brushing</td>\n",
       "      <td>Seasonal</td>\n",
       "      <td>Needs Lots of Activity</td>\n",
       "      <td>Independent</td>\n",
       "      <td>Reserved with Strangers</td>\n",
       "    </tr>\n",
       "  </tbody>\n",
       "</table>\n",
       "</div>"
      ],
      "text/plain": [
       "         id    age  gender   size          breeds.primary  breeds.mixed  \\\n",
       "0  59027590  Adult  Female  Large        Golden Retriever          True   \n",
       "1  59027588  Adult    Male  Small  Dandie Dinmont Terrier          True   \n",
       "2  59027587   Baby  Female  Large          Great Pyrenees         False   \n",
       "\n",
       "   breeds.unknown colors.primary  attributes.spayed_neutered  \\\n",
       "0           False            NaN                        True   \n",
       "1           False          Black                        True   \n",
       "2           False  White / Cream                        True   \n",
       "\n",
       "   attributes.house_trained  attributes.special_needs  \\\n",
       "0                      True                     False   \n",
       "1                      True                     False   \n",
       "2                     False                     False   \n",
       "\n",
       "   attributes.shots_current contact.address.postcode           group  \\\n",
       "0                      True                    07442  Sporting Group   \n",
       "1                      True                    75093   Terrier Group   \n",
       "2                      True                    36541   Working Group   \n",
       "\n",
       "  grooming_frequency_category shedding_category   energy_level_category  \\\n",
       "0             Weekly Brushing          Seasonal  Needs Lots of Activity   \n",
       "1              Daily Brushing        Infrequent        Regular Exercise   \n",
       "2             Weekly Brushing          Seasonal  Needs Lots of Activity   \n",
       "\n",
       "  trainability_category        demeanor_category  \n",
       "0       Eager to Please                 Friendly  \n",
       "1           Independent  Reserved with Strangers  \n",
       "2           Independent  Reserved with Strangers  "
      ]
     },
     "execution_count": 19,
     "metadata": {},
     "output_type": "execute_result"
    }
   ],
   "source": [
    "dogs_DF_featuresJoint.head(3)"
   ]
  },
  {
   "cell_type": "code",
   "execution_count": 20,
   "id": "09eca9d8",
   "metadata": {},
   "outputs": [
    {
     "data": {
      "text/plain": [
       "(97694, 18)"
      ]
     },
     "execution_count": 20,
     "metadata": {},
     "output_type": "execute_result"
    }
   ],
   "source": [
    "# make special version without postocde so sweetviz can handle it, since postcode has both numbers and letters\n",
    "featureCols = ['id','age','gender','size','breeds.primary','breeds.mixed','breeds.unknown',\n",
    "               'colors.primary','attributes.spayed_neutered','attributes.house_trained',\n",
    "               'attributes.special_needs','attributes.shots_current','group',\n",
    "               'grooming_frequency_category','shedding_category','energy_level_category',\n",
    "               'trainability_category','demeanor_category']\n",
    "contextCols = ['id','organization_id','url','type','tags','name','description','organization_animal_id',\n",
    "              'photos','primary_photo_cropped','videos','status','status_changed_at','published_at',\n",
    "              'distance','contact.email', 'contact.phone', 'contact.address.address1',\n",
    "               'contact.address.address2', 'contact.address.city','contact.address.state', \n",
    "               'contact.address.postcode','contact.address.country', 'animal_id', 'animal_type',\n",
    "               'organization_id.1', 'primary_photo_cropped.small','primary_photo_cropped.medium',\n",
    "               'primary_photo_cropped.large','primary_photo_cropped.full']\n",
    "dogs_DF_featuresJoint_test = dogs_DF_featuresJoint[featureCols]\n",
    "dogs_DF_contextJoint_test = dogs_DF[contextCols]\n",
    "dogs_DF_featuresJoint_test.shape"
   ]
  },
  {
   "cell_type": "code",
   "execution_count": 21,
   "id": "04b5ccb1",
   "metadata": {},
   "outputs": [
    {
     "name": "stderr",
     "output_type": "stream",
     "text": [
      "/home/denise/anaconda3/envs/petmatchEDA/lib/python3.8/site-packages/sweetviz/dataframe_report.py:74: FutureWarning: iteritems is deprecated and will be removed in a future version. Use .items instead.\n",
      "  all_source_names = [cur_name for cur_name, cur_series in source_df.iteritems()]\n",
      "/home/denise/anaconda3/envs/petmatchEDA/lib/python3.8/site-packages/sweetviz/dataframe_report.py:109: FutureWarning: iteritems is deprecated and will be removed in a future version. Use .items instead.\n",
      "  filtered_series_names_in_source = [cur_name for cur_name, cur_series in source_df.iteritems()\n"
     ]
    },
    {
     "data": {
      "application/vnd.jupyter.widget-view+json": {
       "model_id": "12696e9880cb4428ad2189fe0db56c69",
       "version_major": 2,
       "version_minor": 0
      },
      "text/plain": [
       "                                             |      | [  0%]   00:00 -> (? left)"
      ]
     },
     "metadata": {},
     "output_type": "display_data"
    },
    {
     "name": "stderr",
     "output_type": "stream",
     "text": [
      "/home/denise/anaconda3/envs/petmatchEDA/lib/python3.8/site-packages/sweetviz/series_analyzer_numeric.py:25: FutureWarning: The 'mad' method is deprecated and will be removed in a future version. To compute the same result, you may do `(df - df.mean()).abs().mean()`.\n",
      "  stats[\"mad\"] = series.mad()\n",
      "/home/denise/anaconda3/envs/petmatchEDA/lib/python3.8/site-packages/sweetviz/series_analyzer_cat.py:28: FutureWarning: iteritems is deprecated and will be removed in a future version. Use .items instead.\n",
      "  for item in category_counts.iteritems():\n",
      "/home/denise/anaconda3/envs/petmatchEDA/lib/python3.8/site-packages/sweetviz/series_analyzer_cat.py:28: FutureWarning: iteritems is deprecated and will be removed in a future version. Use .items instead.\n",
      "  for item in category_counts.iteritems():\n",
      "/home/denise/anaconda3/envs/petmatchEDA/lib/python3.8/site-packages/sweetviz/series_analyzer_cat.py:28: FutureWarning: iteritems is deprecated and will be removed in a future version. Use .items instead.\n",
      "  for item in category_counts.iteritems():\n",
      "/home/denise/anaconda3/envs/petmatchEDA/lib/python3.8/site-packages/sweetviz/series_analyzer_text.py:19: FutureWarning: iteritems is deprecated and will be removed in a future version. Use .items instead.\n",
      "  for item in to_process.source_counts[\"value_counts_without_nan\"].iteritems():\n",
      "/home/denise/anaconda3/envs/petmatchEDA/lib/python3.8/site-packages/sweetviz/series_analyzer_cat.py:28: FutureWarning: iteritems is deprecated and will be removed in a future version. Use .items instead.\n",
      "  for item in category_counts.iteritems():\n",
      "/home/denise/anaconda3/envs/petmatchEDA/lib/python3.8/site-packages/sweetviz/series_analyzer_cat.py:28: FutureWarning: iteritems is deprecated and will be removed in a future version. Use .items instead.\n",
      "  for item in category_counts.iteritems():\n",
      "/home/denise/anaconda3/envs/petmatchEDA/lib/python3.8/site-packages/sweetviz/series_analyzer_cat.py:28: FutureWarning: iteritems is deprecated and will be removed in a future version. Use .items instead.\n",
      "  for item in category_counts.iteritems():\n",
      "/home/denise/anaconda3/envs/petmatchEDA/lib/python3.8/site-packages/sweetviz/series_analyzer_cat.py:28: FutureWarning: iteritems is deprecated and will be removed in a future version. Use .items instead.\n",
      "  for item in category_counts.iteritems():\n",
      "/home/denise/anaconda3/envs/petmatchEDA/lib/python3.8/site-packages/sweetviz/series_analyzer_cat.py:28: FutureWarning: iteritems is deprecated and will be removed in a future version. Use .items instead.\n",
      "  for item in category_counts.iteritems():\n",
      "/home/denise/anaconda3/envs/petmatchEDA/lib/python3.8/site-packages/sweetviz/series_analyzer_cat.py:28: FutureWarning: iteritems is deprecated and will be removed in a future version. Use .items instead.\n",
      "  for item in category_counts.iteritems():\n",
      "/home/denise/anaconda3/envs/petmatchEDA/lib/python3.8/site-packages/sweetviz/series_analyzer_cat.py:28: FutureWarning: iteritems is deprecated and will be removed in a future version. Use .items instead.\n",
      "  for item in category_counts.iteritems():\n",
      "/home/denise/anaconda3/envs/petmatchEDA/lib/python3.8/site-packages/sweetviz/series_analyzer_cat.py:28: FutureWarning: iteritems is deprecated and will be removed in a future version. Use .items instead.\n",
      "  for item in category_counts.iteritems():\n",
      "/home/denise/anaconda3/envs/petmatchEDA/lib/python3.8/site-packages/sweetviz/series_analyzer_cat.py:28: FutureWarning: iteritems is deprecated and will be removed in a future version. Use .items instead.\n",
      "  for item in category_counts.iteritems():\n",
      "/home/denise/anaconda3/envs/petmatchEDA/lib/python3.8/site-packages/sweetviz/series_analyzer_cat.py:28: FutureWarning: iteritems is deprecated and will be removed in a future version. Use .items instead.\n",
      "  for item in category_counts.iteritems():\n",
      "/home/denise/anaconda3/envs/petmatchEDA/lib/python3.8/site-packages/sweetviz/series_analyzer_cat.py:28: FutureWarning: iteritems is deprecated and will be removed in a future version. Use .items instead.\n",
      "  for item in category_counts.iteritems():\n",
      "/home/denise/anaconda3/envs/petmatchEDA/lib/python3.8/site-packages/sweetviz/series_analyzer_cat.py:28: FutureWarning: iteritems is deprecated and will be removed in a future version. Use .items instead.\n",
      "  for item in category_counts.iteritems():\n",
      "/home/denise/anaconda3/envs/petmatchEDA/lib/python3.8/site-packages/sweetviz/series_analyzer_cat.py:28: FutureWarning: iteritems is deprecated and will be removed in a future version. Use .items instead.\n",
      "  for item in category_counts.iteritems():\n"
     ]
    },
    {
     "name": "stdout",
     "output_type": "stream",
     "text": [
      "Report SWEETVIZ_REPORT.html was generated! NOTEBOOK/COLAB USERS: the web browser MAY not pop up, regardless, the report IS saved in your notebook/colab files.\n"
     ]
    }
   ],
   "source": [
    "import sweetviz as sv\n",
    "\n",
    "dog_data_report = sv.analyze(dogs_DF_featuresJoint_test)\n",
    "dog_data_report.show_html() #save to html document"
   ]
  },
  {
   "cell_type": "markdown",
   "id": "dda3d6ed",
   "metadata": {},
   "source": [
    "## Make Pipeline <a id='pp_pipeline'></a>"
   ]
  },
  {
   "cell_type": "code",
   "execution_count": 22,
   "id": "2fe526ea",
   "metadata": {},
   "outputs": [],
   "source": [
    "from sklearn.pipeline import Pipeline\n",
    "from sklearn.preprocessing import FunctionTransformer\n",
    "from sklearn.preprocessing import OneHotEncoder"
   ]
  },
  {
   "cell_type": "code",
   "execution_count": 23,
   "id": "9ab9fd1f",
   "metadata": {},
   "outputs": [],
   "source": [
    "def remove_columns_with_1_distinct(df):\n",
    "    drop_col = [e for e in df.columns if df[e].nunique()==1]\n",
    "    df_return = df.drop(drop_col,axis=1)\n",
    "    return df_return\n"
   ]
  },
  {
   "cell_type": "code",
   "execution_count": 24,
   "id": "11c06163",
   "metadata": {},
   "outputs": [],
   "source": [
    "def drop_duplicates(df):\n",
    "    df_return = df.drop_duplicates()\n",
    "    return df_return\n"
   ]
  },
  {
   "cell_type": "code",
   "execution_count": 25,
   "id": "1b4a522c",
   "metadata": {},
   "outputs": [],
   "source": [
    "from sklearn.metrics.pairwise import cosine_similarity\n",
    "from sklearn.metrics.pairwise import linear_kernel \n",
    "\n",
    "def cosine_similarities(df_1,df_2):\n",
    "    cs_simil = linear_kernel(df_1,df_1)\n",
    "    results = {}\n",
    "    ds = df_2 # needs id column\n",
    "    for idx, row in ds.iterrows():\n",
    "       similar_indices = cs_simil[idx].argsort()[:-100:-1] \n",
    "       similar_items = [(cs_simil[idx][i], ds['id'][i]) for i in similar_indices] \n",
    "       results[row['id']] = similar_items[1:]\n",
    "    return results\n",
    "\n",
    "#cosineSimilarity = FunctionTransformer(cosine_similarities)"
   ]
  },
  {
   "cell_type": "code",
   "execution_count": 26,
   "id": "96525d50",
   "metadata": {},
   "outputs": [],
   "source": [
    "def item(id,df):  \n",
    "    ds = df\n",
    "    colsGrab = ['id']\n",
    "    return ds.loc[ds['id'] == id][colsGrab].values[0]# Just reads the results out of the dictionary.\n",
    "\n",
    "def url(id,df):  \n",
    "    ds = df\n",
    "    colsGrab = ['url']\n",
    "    return ds.loc[ds['id'] == id][colsGrab].values[0]# Just reads the results out of the dictionary.\n",
    "\n",
    "def picture(id,df):  \n",
    "    ds = df\n",
    "    colsGrab = ['primary_photo_cropped.full']\n",
    "    return ds.loc[ds['id'] == id][colsGrab].values[0]# Just reads the results out of the dictionary.\n",
    "\n",
    "def recommend(item_id, num,df,reccs):\n",
    "    print(\"Recommending \" + str(num) + \" dogs similar to \" + str(item(item_id,df)) + \"... \" \n",
    "          + picture(item_id,df) + \" - \" + url(item_id,df))   \n",
    "    print(\"-------\")    \n",
    "    recs = reccs[item_id][:num]   \n",
    "    for rec in recs: \n",
    "        print(\"Recommended: \" + str(item(rec[1],df)) + \" (score:\" +      str(rec[0]) + \") \" \n",
    "              + picture(rec[1],df) + \" - \" + url(rec[1],df))\n",
    "    \n",
    "def score(reccs, num):\n",
    "    print(\"Finding average reccomendation score for top 5 reccomendations per example\")\n",
    "    results = []\n",
    "    for key in reccs.keys():\n",
    "        subRecs = reccs[key][:num]\n",
    "        for r in subRecs:\n",
    "            results.append(r[0])\n",
    "    averageRecc = sum(results) / len(results)\n",
    "    print(\"There are \"+ str(len(results)) + 'results with a sum of' + str(sum(results)) + 'and and average of: ' \n",
    "          + str(averageRecc) )\n",
    "    return averageRecc"
   ]
  },
  {
   "cell_type": "code",
   "execution_count": 27,
   "id": "68921496",
   "metadata": {},
   "outputs": [],
   "source": [
    "categorical_features = ['age', 'gender', 'size', 'breeds.primary', 'breeds.mixed',\n",
    "       'colors.primary', 'attributes.spayed_neutered',\n",
    "       'attributes.house_trained', 'attributes.special_needs',\n",
    "       'attributes.shots_current', 'contact.address.postcode', 'group',\n",
    "       'grooming_frequency_category', 'shedding_category',\n",
    "       'energy_level_category', 'trainability_category', 'demeanor_category']\n",
    "\n",
    "categorical_transformer = OneHotEncoder()"
   ]
  },
  {
   "cell_type": "code",
   "execution_count": 28,
   "id": "60484777",
   "metadata": {},
   "outputs": [],
   "source": [
    "# Not used currently but kept for future when distance is more properly implemented\n",
    "numerical_features = ['id']\n",
    "numeric_transformer = lambda x:x #change nothing"
   ]
  },
  {
   "cell_type": "code",
   "execution_count": 29,
   "id": "80d1aeb7",
   "metadata": {},
   "outputs": [],
   "source": [
    "from sklearn.compose import ColumnTransformer\n",
    "\n",
    "preprocessor = ColumnTransformer(\n",
    "    transformers = [\n",
    "        #(\"num\", numeric_transformer,numerical_features), \n",
    "        (\"cat\", categorical_transformer, categorical_features),\n",
    "    ])"
   ]
  },
  {
   "cell_type": "code",
   "execution_count": 30,
   "id": "220c8293",
   "metadata": {},
   "outputs": [],
   "source": [
    "from sklearn.base import BaseEstimator\n",
    "\n",
    "class ContentBasedRecommendor(BaseEstimator):\n",
    "    def __init__(self):\n",
    "        pass # constructor not needed for anything yet\n",
    "\n",
    "    def fit(self,X,y=None):\n",
    "        #print(X.shape)\n",
    "        #self.X = X\n",
    "        #self.y = y\n",
    "        return cosine_similarities(X,y) \n",
    "    \n",
    "    #def transform(self):\n",
    "        #pass\n",
    "\n",
    "    def predict(self,X,num,context_df,reccs):\n",
    "        item_id = X['id'].values[0]\n",
    "        return recommend(X, num,context_df,reccs)\n",
    "    \n",
    "    #def score(self: ContentBasedRecommendor, item_id,num,df_context,reccs):\n",
    "        "
   ]
  },
  {
   "cell_type": "code",
   "execution_count": 31,
   "id": "d66bfc32",
   "metadata": {},
   "outputs": [],
   "source": [
    "model = Pipeline(\n",
    "    steps=[(\"preprocessor\", preprocessor),\n",
    "           (\"model\", ContentBasedRecommendor())\n",
    "          ])"
   ]
  },
  {
   "cell_type": "markdown",
   "id": "20b5970a",
   "metadata": {},
   "source": [
    "# Run Modeling Pipeline <a id='run_pipeline'></a>"
   ]
  },
  {
   "cell_type": "code",
   "execution_count": 32,
   "id": "32c65a65",
   "metadata": {},
   "outputs": [
    {
     "data": {
      "text/plain": [
       "id                              int64\n",
       "age                            object\n",
       "gender                         object\n",
       "size                           object\n",
       "breeds.primary                 object\n",
       "breeds.mixed                     bool\n",
       "colors.primary                 object\n",
       "attributes.spayed_neutered       bool\n",
       "attributes.house_trained         bool\n",
       "attributes.special_needs         bool\n",
       "attributes.shots_current         bool\n",
       "contact.address.postcode       object\n",
       "group                          object\n",
       "grooming_frequency_category    object\n",
       "shedding_category              object\n",
       "energy_level_category          object\n",
       "trainability_category          object\n",
       "demeanor_category              object\n",
       "dtype: object"
      ]
     },
     "execution_count": 32,
     "metadata": {},
     "output_type": "execute_result"
    }
   ],
   "source": [
    "import numpy as np\n",
    "#target = 'todo' # will be rankings once we have them\n",
    "#X, y = cats_DF_features.drop(columns=target), cats_DF_features[target]\n",
    "X = dogs_DF_featuresJoint\n",
    "X = drop_duplicates(X)\n",
    "X = remove_columns_with_1_distinct(X)\n",
    "X = X.replace(np.nan,'Not Available')\n",
    "X[\"contact.address.postcode\"]= X[\"contact.address.postcode\"].astype(str)\n",
    "X.dtypes"
   ]
  },
  {
   "cell_type": "code",
   "execution_count": 33,
   "id": "7ceae9af",
   "metadata": {},
   "outputs": [],
   "source": [
    "from sklearn.model_selection import train_test_split\n",
    "import numpy as np\n",
    "# split data\n",
    "x, x_test = train_test_split(X,test_size=0.4,train_size=0.6, random_state=13)\n",
    "x_train, x_dev = train_test_split(x,test_size = 0.4,train_size =0.6, random_state=13)\n",
    "\n",
    "# given the way the model works so far, the x_dev and x_test are not used. \n",
    "# If you aren't in the catalog you can't be scored so for now,  just using x_train for initial model results\n",
    "# Once we get user rankings, we can move the model to something that can use these additional sets."
   ]
  },
  {
   "cell_type": "code",
   "execution_count": 34,
   "id": "433dae37",
   "metadata": {},
   "outputs": [
    {
     "data": {
      "text/plain": [
       "(35085, 18)"
      ]
     },
     "execution_count": 34,
     "metadata": {},
     "output_type": "execute_result"
    }
   ],
   "source": [
    "x_train = x_train.reset_index(drop=True) # index reset required so model fitting can match keys\n",
    "x_train.shape"
   ]
  },
  {
   "cell_type": "code",
   "execution_count": 35,
   "id": "e00e8301",
   "metadata": {},
   "outputs": [
    {
     "data": {
      "text/plain": [
       "(23390, 18)"
      ]
     },
     "execution_count": 35,
     "metadata": {},
     "output_type": "execute_result"
    }
   ],
   "source": [
    "x_dev.shape"
   ]
  },
  {
   "cell_type": "code",
   "execution_count": 36,
   "id": "74dfb075",
   "metadata": {},
   "outputs": [
    {
     "data": {
      "text/plain": [
       "(38984, 18)"
      ]
     },
     "execution_count": 36,
     "metadata": {},
     "output_type": "execute_result"
    }
   ],
   "source": [
    "x_test.shape"
   ]
  },
  {
   "cell_type": "code",
   "execution_count": 51,
   "id": "6306c138",
   "metadata": {},
   "outputs": [
    {
     "data": {
      "text/html": [
       "<div>\n",
       "<style scoped>\n",
       "    .dataframe tbody tr th:only-of-type {\n",
       "        vertical-align: middle;\n",
       "    }\n",
       "\n",
       "    .dataframe tbody tr th {\n",
       "        vertical-align: top;\n",
       "    }\n",
       "\n",
       "    .dataframe thead th {\n",
       "        text-align: right;\n",
       "    }\n",
       "</style>\n",
       "<table border=\"1\" class=\"dataframe\">\n",
       "  <thead>\n",
       "    <tr style=\"text-align: right;\">\n",
       "      <th></th>\n",
       "      <th>id</th>\n",
       "      <th>age</th>\n",
       "      <th>gender</th>\n",
       "      <th>size</th>\n",
       "      <th>breeds.primary</th>\n",
       "      <th>breeds.mixed</th>\n",
       "      <th>colors.primary</th>\n",
       "      <th>attributes.spayed_neutered</th>\n",
       "      <th>attributes.house_trained</th>\n",
       "      <th>attributes.special_needs</th>\n",
       "      <th>attributes.shots_current</th>\n",
       "      <th>contact.address.postcode</th>\n",
       "      <th>group</th>\n",
       "      <th>grooming_frequency_category</th>\n",
       "      <th>shedding_category</th>\n",
       "      <th>energy_level_category</th>\n",
       "      <th>trainability_category</th>\n",
       "      <th>demeanor_category</th>\n",
       "    </tr>\n",
       "  </thead>\n",
       "  <tbody>\n",
       "    <tr>\n",
       "      <th>1142</th>\n",
       "      <td>58823201</td>\n",
       "      <td>Baby</td>\n",
       "      <td>Female</td>\n",
       "      <td>Small</td>\n",
       "      <td>Maltese</td>\n",
       "      <td>True</td>\n",
       "      <td>White / Cream</td>\n",
       "      <td>True</td>\n",
       "      <td>False</td>\n",
       "      <td>False</td>\n",
       "      <td>True</td>\n",
       "      <td>92691</td>\n",
       "      <td>Toy Group</td>\n",
       "      <td>Daily Brushing</td>\n",
       "      <td>Infrequent</td>\n",
       "      <td>Regular Exercise</td>\n",
       "      <td>Agreeable</td>\n",
       "      <td>Outgoing</td>\n",
       "    </tr>\n",
       "    <tr>\n",
       "      <th>1402</th>\n",
       "      <td>58848937</td>\n",
       "      <td>Senior</td>\n",
       "      <td>Male</td>\n",
       "      <td>Small</td>\n",
       "      <td>Maltese</td>\n",
       "      <td>True</td>\n",
       "      <td>Not Available</td>\n",
       "      <td>True</td>\n",
       "      <td>True</td>\n",
       "      <td>False</td>\n",
       "      <td>False</td>\n",
       "      <td>92832</td>\n",
       "      <td>Toy Group</td>\n",
       "      <td>Daily Brushing</td>\n",
       "      <td>Infrequent</td>\n",
       "      <td>Regular Exercise</td>\n",
       "      <td>Agreeable</td>\n",
       "      <td>Outgoing</td>\n",
       "    </tr>\n",
       "    <tr>\n",
       "      <th>1929</th>\n",
       "      <td>58536245</td>\n",
       "      <td>Adult</td>\n",
       "      <td>Female</td>\n",
       "      <td>Small</td>\n",
       "      <td>Maltese</td>\n",
       "      <td>True</td>\n",
       "      <td>Not Available</td>\n",
       "      <td>True</td>\n",
       "      <td>False</td>\n",
       "      <td>False</td>\n",
       "      <td>False</td>\n",
       "      <td>75711</td>\n",
       "      <td>Toy Group</td>\n",
       "      <td>Daily Brushing</td>\n",
       "      <td>Infrequent</td>\n",
       "      <td>Regular Exercise</td>\n",
       "      <td>Agreeable</td>\n",
       "      <td>Outgoing</td>\n",
       "    </tr>\n",
       "  </tbody>\n",
       "</table>\n",
       "</div>"
      ],
      "text/plain": [
       "            id     age  gender   size breeds.primary  breeds.mixed  \\\n",
       "1142  58823201    Baby  Female  Small        Maltese          True   \n",
       "1402  58848937  Senior    Male  Small        Maltese          True   \n",
       "1929  58536245   Adult  Female  Small        Maltese          True   \n",
       "\n",
       "     colors.primary  attributes.spayed_neutered  attributes.house_trained  \\\n",
       "1142  White / Cream                        True                     False   \n",
       "1402  Not Available                        True                      True   \n",
       "1929  Not Available                        True                     False   \n",
       "\n",
       "      attributes.special_needs  attributes.shots_current  \\\n",
       "1142                     False                      True   \n",
       "1402                     False                     False   \n",
       "1929                     False                     False   \n",
       "\n",
       "     contact.address.postcode      group grooming_frequency_category  \\\n",
       "1142                    92691  Toy Group              Daily Brushing   \n",
       "1402                    92832  Toy Group              Daily Brushing   \n",
       "1929                    75711  Toy Group              Daily Brushing   \n",
       "\n",
       "     shedding_category energy_level_category trainability_category  \\\n",
       "1142        Infrequent      Regular Exercise             Agreeable   \n",
       "1402        Infrequent      Regular Exercise             Agreeable   \n",
       "1929        Infrequent      Regular Exercise             Agreeable   \n",
       "\n",
       "     demeanor_category  \n",
       "1142          Outgoing  \n",
       "1402          Outgoing  \n",
       "1929          Outgoing  "
      ]
     },
     "execution_count": 51,
     "metadata": {},
     "output_type": "execute_result"
    }
   ],
   "source": [
    "x_train.sample(3)\n",
    "x_train.loc[x_train['breeds.primary'] == 'Maltese'].head(3)"
   ]
  },
  {
   "cell_type": "code",
   "execution_count": 38,
   "id": "e761636a",
   "metadata": {},
   "outputs": [],
   "source": [
    "\n",
    "categorical_features_test = ['age', 'gender', 'size', 'breeds.primary', 'breeds.mixed',\n",
    "       'colors.primary', 'attributes.spayed_neutered',\n",
    "       'attributes.house_trained', 'attributes.special_needs',\n",
    "       'attributes.shots_current', 'contact.address.postcode', 'group',\n",
    "       'grooming_frequency_category', 'shedding_category',\n",
    "       'energy_level_category', 'trainability_category', 'demeanor_category']\n",
    "#x_train = x_train.replace(np.nan,'Not Available')\n",
    "x_train = x_train.reset_index(drop=True) # required so keys work properly\n",
    "xtrain_dog = x_train[categorical_features_test]\n",
    "#xtrain_dog = xtrain_cat.replace(np.nan,'Not Available') \n",
    "ohe = OneHotEncoder().fit(xtrain_dog) # One Hot Encoding WAAAY better\n",
    "x_train_test = ohe.transform(xtrain_dog) # don't need to add id columns because same columns preserved\n",
    "#type(x_train_test)\n",
    "#x_train_test.shape\n",
    "test =cosine_similarities(x_train_test,x_train)\n"
   ]
  },
  {
   "cell_type": "markdown",
   "id": "5d4f925c",
   "metadata": {},
   "source": [
    "Will need to use parquets in databricks for dogs since there are too many for local runs "
   ]
  },
  {
   "cell_type": "code",
   "execution_count": 39,
   "id": "41be6b02",
   "metadata": {},
   "outputs": [
    {
     "data": {
      "text/plain": [
       "(35085, 17)"
      ]
     },
     "execution_count": 39,
     "metadata": {},
     "output_type": "execute_result"
    }
   ],
   "source": [
    "xtrain_dog.shape #max score of 17"
   ]
  },
  {
   "cell_type": "code",
   "execution_count": 40,
   "id": "75dd57be",
   "metadata": {},
   "outputs": [
    {
     "data": {
      "text/plain": [
       "(35085, 5228)"
      ]
     },
     "execution_count": 40,
     "metadata": {},
     "output_type": "execute_result"
    }
   ],
   "source": [
    "x_train_test.shape"
   ]
  },
  {
   "cell_type": "code",
   "execution_count": 41,
   "id": "15e655ae",
   "metadata": {},
   "outputs": [
    {
     "data": {
      "text/plain": [
       "matrix([[1., 0., 0., ..., 1., 0., 0.]])"
      ]
     },
     "execution_count": 41,
     "metadata": {},
     "output_type": "execute_result"
    }
   ],
   "source": [
    "type(x_train_test)\n",
    "x_train_test.shape\n",
    "x_train_test.todense()[1]"
   ]
  },
  {
   "cell_type": "code",
   "execution_count": 52,
   "id": "bd4efb78",
   "metadata": {},
   "outputs": [
    {
     "name": "stdout",
     "output_type": "stream",
     "text": [
      "['Recommending 5 dogs similar to [58823201]... https://dl5zpyw5k3jeb.cloudfront.net/photos/pets/58823201/1/?bust=1669640592 - https://www.petfinder.com/dog/tinsley-58823201/ca/mission-viejo/leashes-of-love-rescue-inc-ca2366/?referrer_id=c2f7479c-c7e8-422b-bfb4-7c0b8aed0e55']\n",
      "-------\n",
      "['Recommended: [58878576] (score:16.0) https://dl5zpyw5k3jeb.cloudfront.net/photos/pets/58878576/1/?bust=1668637211 - https://www.petfinder.com/dog/apricot-58878576/ca/clovis/paw-squad-559-ca2604/?referrer_id=c2f7479c-c7e8-422b-bfb4-7c0b8aed0e55']\n",
      "['Recommended: [59007650] (score:15.0) https://dl5zpyw5k3jeb.cloudfront.net/photos/pets/59007650/1/?bust=1669827519 - https://www.petfinder.com/dog/rags-59007650/pa/breinigsville/pa-caring-hearts-pa1104/?referrer_id=c2f7479c-c7e8-422b-bfb4-7c0b8aed0e55']\n",
      "['Recommended: [58878499] (score:15.0) https://dl5zpyw5k3jeb.cloudfront.net/photos/pets/58878499/2/?bust=1668636959 - https://www.petfinder.com/dog/huckleberry-58878499/ca/clovis/paw-squad-559-ca2604/?referrer_id=c2f7479c-c7e8-422b-bfb4-7c0b8aed0e55']\n",
      "['Recommended: [58974089] (score:15.0) https://dl5zpyw5k3jeb.cloudfront.net/photos/pets/58974089/1/?bust=1669868448 - https://www.petfinder.com/dog/scruffy-58974089/tx/austin/austin-pets-alive-tx1218/?referrer_id=c2f7479c-c7e8-422b-bfb4-7c0b8aed0e55']\n",
      "['Recommended: [58831854] (score:15.0) https://dl5zpyw5k3jeb.cloudfront.net/photos/pets/58831854/3/?bust=1668233223 - https://www.petfinder.com/dog/liela-58831854/ca/los-alamitos/pups-and-pals-ca760/?referrer_id=c2f7479c-c7e8-422b-bfb4-7c0b8aed0e55']\n"
     ]
    }
   ],
   "source": [
    "pd.options.display.max_colwidth = 100\n",
    "recommend(item_id=58823201, num=5,df=dogs_DF_context,reccs=test)"
   ]
  },
  {
   "cell_type": "code",
   "execution_count": 43,
   "id": "9e4c02f0",
   "metadata": {},
   "outputs": [
    {
     "name": "stdout",
     "output_type": "stream",
     "text": [
      "Finding average reccomendation score for top 5 reccomendations per example\n",
      "There are 175425results with a sum of2717862.0and and average of: 15.493014108593416\n"
     ]
    },
    {
     "data": {
      "text/plain": [
       "15.493014108593416"
      ]
     },
     "execution_count": 43,
     "metadata": {},
     "output_type": "execute_result"
    }
   ],
   "source": [
    "# Gather average score of top 5 recommendations for training set, with a max score of 12!\n",
    "score(reccs=test, num=5)"
   ]
  },
  {
   "cell_type": "markdown",
   "id": "b5fa82bc",
   "metadata": {},
   "source": [
    "**Below is IP code for a pipeline. Still too buggy to use for a ML Baseline though.**"
   ]
  },
  {
   "cell_type": "code",
   "execution_count": 44,
   "id": "60368a31",
   "metadata": {},
   "outputs": [],
   "source": [
    "#categorical_features_test = ['age','gender','size','breeds.primary','breeds.mixed',\n",
    "#                        'colors.primary','attributes.spayed_neutered','attributes.house_trained',\n",
    "#                        'attributes.declawed','attributes.special_needs','attributes.shots_current',\n",
    "#                        'contact.address.postcode']\n",
    "#xtrain_cat = x_train[categorical_features_test]\n",
    "#xtrain_cat.shape\n"
   ]
  },
  {
   "cell_type": "code",
   "execution_count": 45,
   "id": "48086d55",
   "metadata": {},
   "outputs": [],
   "source": [
    "#model = model.fit(X= x_train, y=x_train)\n",
    "#savedMod = model.fit(X= xtrain_cat, y=x_train)"
   ]
  },
  {
   "cell_type": "code",
   "execution_count": 46,
   "id": "0de16ecf",
   "metadata": {},
   "outputs": [],
   "source": [
    "#item_id=58761493\n",
    "#array_id = pd.DataFrame([item_id],columns=['id'])\n",
    "#array_id"
   ]
  },
  {
   "cell_type": "code",
   "execution_count": 47,
   "id": "fdc3c2e0",
   "metadata": {},
   "outputs": [],
   "source": [
    "#type(savedMod)"
   ]
  },
  {
   "cell_type": "code",
   "execution_count": 48,
   "id": "02dc7426",
   "metadata": {},
   "outputs": [],
   "source": [
    "#model.predict(X=array_id, num=5,context_df=cats_DF_context,reccs=savedMod)"
   ]
  },
  {
   "cell_type": "markdown",
   "id": "6f7fd07c",
   "metadata": {},
   "source": [
    "# Conclusion and Next Steps <a id='conclusion'></a>"
   ]
  },
  {
   "cell_type": "markdown",
   "id": "3fccc629",
   "metadata": {},
   "source": [
    "**Conclusion of ML Baseline as of 12/6/22**: \n",
    "- Average top 5 recommendation per dog in the training set is 15.49. The highest available score is a 17.  \n",
    "- The result above uses a simple content-based filtering recommendation model without using user perferences, since they are currently not available. Instead it compares items against each other, aka you liked this ketchup so here are 5 other similar types of ketchup. \n",
    "- Due to the method used to create the simple content-based filtering model, dev and test set can not be used so to get an initial idea of the results the training set was used. \n",
    "- The dogs data version 0.5 features includes akc data as well and it seems to help purebreeds. Mixed breeds it somewhat helps assuming the lister picked both breeds but it can lead to more variety in the output, which might not be a bad thing. Eg) If you like boxers, you probably like a boxer-labrador mix? In general though, based on visual scans and the average reccomendation score, the simple dog CBF model generally excels at giving you similar dog to what you stated you wanted and has a little variety.\n",
    "- In instances where there is more ambiguity (aka a chosen dog with less defined details), it will still find dog very similar to it but sometimes it can also throw in very similar dog who are a different breed. This might not be a bad thing."
   ]
  },
  {
   "cell_type": "markdown",
   "id": "ad289940",
   "metadata": {},
   "source": [
    "**Next Steps**:\n",
    "\n",
    "- Incorporate distance more effectively\n",
    "- Can we use description field for dogs at all? \n",
    "- Colloborative Filtering once user preferences are collected\n",
    "- Need to rerun this workbook inside Databricks with delta files to escape local compute limitations\n",
    "- Do more in-depth search of AKC to Petfinder to match more mixed breeds with general traits, say for dogs that list 2 breeds and specify them."
   ]
  },
  {
   "cell_type": "code",
   "execution_count": null,
   "id": "ded3d675",
   "metadata": {},
   "outputs": [],
   "source": []
  }
 ],
 "metadata": {
  "kernelspec": {
   "display_name": "Python [conda env:petmatchEDA] *",
   "language": "python",
   "name": "conda-env-petmatchEDA-py"
  },
  "language_info": {
   "codemirror_mode": {
    "name": "ipython",
    "version": 3
   },
   "file_extension": ".py",
   "mimetype": "text/x-python",
   "name": "python",
   "nbconvert_exporter": "python",
   "pygments_lexer": "ipython3",
   "version": "3.8.13"
  }
 },
 "nbformat": 4,
 "nbformat_minor": 5
}
