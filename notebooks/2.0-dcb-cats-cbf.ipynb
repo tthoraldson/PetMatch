{
 "cells": [
  {
   "cell_type": "markdown",
   "id": "b5cf9c5f",
   "metadata": {},
   "source": [
    "This workbook implements Context Based Filtering for a Cats Recommendation System, working from the raw data all the way to model creation and initial results."
   ]
  },
  {
   "cell_type": "markdown",
   "id": "112b3a19",
   "metadata": {},
   "source": [
    "# Table of Contents"
   ]
  },
  {
   "cell_type": "markdown",
   "id": "728b0129",
   "metadata": {},
   "source": [
    "* [Load in Data and Segment Features from Context data](#segment)\n",
    "* [Pre-process feature data](#pre-process)\n",
    "    - [Recheck sweetviz for distinct values and types](#sweet)\n",
    "    - [Make Pre-Processing Pipeline](#pp_pipeline)\n",
    "    - [Animal type impact on missing values](#byAnimalmissingValues)\n",
    "    - [Duplicate ID Check](#duplicateRows)\n",
    "    - [Org Names for those posting baby animals](#babies)\n",
    "    - [Distinguish cats from each other](#distinguish)\n",
    "    - [Search orgs in the Petfinder database](#orgs)\n",
    "* [Data Augmentation Possibilities](#aug)\n",
    "* [Conclusion](#conclusion)"
   ]
  },
  {
   "cell_type": "markdown",
   "id": "805fff39",
   "metadata": {},
   "source": [
    "# Load in Data and Segment Features from Context data<a id='segment'></a>"
   ]
  },
  {
   "cell_type": "markdown",
   "id": "1c2eda9e",
   "metadata": {},
   "source": [
    "First, we load all of our adoptable cats."
   ]
  },
  {
   "cell_type": "code",
   "execution_count": 1,
   "id": "fff86fc1",
   "metadata": {},
   "outputs": [
    {
     "name": "stderr",
     "output_type": "stream",
     "text": [
      "/tmp/ipykernel_5007/1936917073.py:2: DtypeWarning: Columns (42) have mixed types. Specify dtype option on import or set low_memory=False.\n",
      "  cats_DF = pd.read_csv(\"../data/raw/version0_5/Adoptable_cats_20221125.csv\",header=0,index_col=0)\n"
     ]
    },
    {
     "data": {
      "text/plain": [
       "(49600, 50)"
      ]
     },
     "execution_count": 1,
     "metadata": {},
     "output_type": "execute_result"
    }
   ],
   "source": [
    "import pandas as pd\n",
    "cats_DF = pd.read_csv(\"../data/raw/version0_5/Adoptable_cats_20221125.csv\",header=0,index_col=0)\n",
    "cats_DF.shape"
   ]
  },
  {
   "cell_type": "code",
   "execution_count": 7,
   "id": "d6a092d3",
   "metadata": {},
   "outputs": [
    {
     "data": {
      "text/html": [
       "<div>\n",
       "<style scoped>\n",
       "    .dataframe tbody tr th:only-of-type {\n",
       "        vertical-align: middle;\n",
       "    }\n",
       "\n",
       "    .dataframe tbody tr th {\n",
       "        vertical-align: top;\n",
       "    }\n",
       "\n",
       "    .dataframe thead th {\n",
       "        text-align: right;\n",
       "    }\n",
       "</style>\n",
       "<table border=\"1\" class=\"dataframe\">\n",
       "  <thead>\n",
       "    <tr style=\"text-align: right;\">\n",
       "      <th></th>\n",
       "      <th>id</th>\n",
       "      <th>organization_id</th>\n",
       "      <th>url</th>\n",
       "      <th>type</th>\n",
       "      <th>species</th>\n",
       "      <th>age</th>\n",
       "      <th>gender</th>\n",
       "      <th>size</th>\n",
       "      <th>coat</th>\n",
       "      <th>tags</th>\n",
       "      <th>name</th>\n",
       "      <th>description</th>\n",
       "      <th>organization_animal_id</th>\n",
       "      <th>photos</th>\n",
       "      <th>primary_photo_cropped</th>\n",
       "      <th>videos</th>\n",
       "      <th>status</th>\n",
       "      <th>status_changed_at</th>\n",
       "      <th>published_at</th>\n",
       "      <th>distance</th>\n",
       "      <th>breeds.primary</th>\n",
       "      <th>breeds.secondary</th>\n",
       "      <th>breeds.mixed</th>\n",
       "      <th>breeds.unknown</th>\n",
       "      <th>colors.primary</th>\n",
       "      <th>colors.secondary</th>\n",
       "      <th>colors.tertiary</th>\n",
       "      <th>attributes.spayed_neutered</th>\n",
       "      <th>attributes.house_trained</th>\n",
       "      <th>attributes.declawed</th>\n",
       "      <th>attributes.special_needs</th>\n",
       "      <th>attributes.shots_current</th>\n",
       "      <th>environment.children</th>\n",
       "      <th>environment.dogs</th>\n",
       "      <th>environment.cats</th>\n",
       "      <th>contact.email</th>\n",
       "      <th>contact.phone</th>\n",
       "      <th>contact.address.address1</th>\n",
       "      <th>contact.address.address2</th>\n",
       "      <th>contact.address.city</th>\n",
       "      <th>contact.address.state</th>\n",
       "      <th>contact.address.postcode</th>\n",
       "      <th>contact.address.country</th>\n",
       "      <th>animal_id</th>\n",
       "      <th>animal_type</th>\n",
       "      <th>organization_id.1</th>\n",
       "      <th>primary_photo_cropped.small</th>\n",
       "      <th>primary_photo_cropped.medium</th>\n",
       "      <th>primary_photo_cropped.large</th>\n",
       "      <th>primary_photo_cropped.full</th>\n",
       "    </tr>\n",
       "  </thead>\n",
       "  <tbody>\n",
       "    <tr>\n",
       "      <th>34914</th>\n",
       "      <td>58795150</td>\n",
       "      <td>FL1036</td>\n",
       "      <td>https://www.petfinder.com/cat/denver-58795150/...</td>\n",
       "      <td>Cat</td>\n",
       "      <td>Cat</td>\n",
       "      <td>Young</td>\n",
       "      <td>Male</td>\n",
       "      <td>Medium</td>\n",
       "      <td>NaN</td>\n",
       "      <td>[]</td>\n",
       "      <td>DENVER</td>\n",
       "      <td>NaN</td>\n",
       "      <td>A2130214</td>\n",
       "      <td>[{'small': 'https://dl5zpyw5k3jeb.cloudfront.n...</td>\n",
       "      <td>NaN</td>\n",
       "      <td>[]</td>\n",
       "      <td>adoptable</td>\n",
       "      <td>2022-11-08T20:44:19+0000</td>\n",
       "      <td>2022-11-08T20:44:19+0000</td>\n",
       "      <td>NaN</td>\n",
       "      <td>Domestic Short Hair</td>\n",
       "      <td>NaN</td>\n",
       "      <td>False</td>\n",
       "      <td>False</td>\n",
       "      <td>NaN</td>\n",
       "      <td>NaN</td>\n",
       "      <td>NaN</td>\n",
       "      <td>False</td>\n",
       "      <td>False</td>\n",
       "      <td>False</td>\n",
       "      <td>False</td>\n",
       "      <td>False</td>\n",
       "      <td>NaN</td>\n",
       "      <td>NaN</td>\n",
       "      <td>NaN</td>\n",
       "      <td>pbcacc@pbcgov.org</td>\n",
       "      <td>561-233-1200</td>\n",
       "      <td>7100 Belvedere Road</td>\n",
       "      <td>NaN</td>\n",
       "      <td>West Palm Beach</td>\n",
       "      <td>FL</td>\n",
       "      <td>33411</td>\n",
       "      <td>US</td>\n",
       "      <td>58795150</td>\n",
       "      <td>cat</td>\n",
       "      <td>fl1036</td>\n",
       "      <td>https://dl5zpyw5k3jeb.cloudfront.net/photos/pe...</td>\n",
       "      <td>https://dl5zpyw5k3jeb.cloudfront.net/photos/pe...</td>\n",
       "      <td>https://dl5zpyw5k3jeb.cloudfront.net/photos/pe...</td>\n",
       "      <td>https://dl5zpyw5k3jeb.cloudfront.net/photos/pe...</td>\n",
       "    </tr>\n",
       "    <tr>\n",
       "      <th>6356</th>\n",
       "      <td>58960012</td>\n",
       "      <td>OR74</td>\n",
       "      <td>https://www.petfinder.com/cat/apple-58960012/o...</td>\n",
       "      <td>Cat</td>\n",
       "      <td>Cat</td>\n",
       "      <td>Adult</td>\n",
       "      <td>Female</td>\n",
       "      <td>Medium</td>\n",
       "      <td>Short</td>\n",
       "      <td>[]</td>\n",
       "      <td>Apple</td>\n",
       "      <td>My information is not yet available. Please co...</td>\n",
       "      <td>NaN</td>\n",
       "      <td>[{'small': 'https://dl5zpyw5k3jeb.cloudfront.n...</td>\n",
       "      <td>NaN</td>\n",
       "      <td>[]</td>\n",
       "      <td>adoptable</td>\n",
       "      <td>2022-11-25T02:24:32+0000</td>\n",
       "      <td>2022-11-25T02:24:31+0000</td>\n",
       "      <td>NaN</td>\n",
       "      <td>Domestic Short Hair</td>\n",
       "      <td>NaN</td>\n",
       "      <td>True</td>\n",
       "      <td>False</td>\n",
       "      <td>Black</td>\n",
       "      <td>NaN</td>\n",
       "      <td>NaN</td>\n",
       "      <td>True</td>\n",
       "      <td>False</td>\n",
       "      <td>False</td>\n",
       "      <td>False</td>\n",
       "      <td>True</td>\n",
       "      <td>NaN</td>\n",
       "      <td>NaN</td>\n",
       "      <td>NaN</td>\n",
       "      <td>kennelmanager@savinggrace.info</td>\n",
       "      <td>(541) 672-3907</td>\n",
       "      <td>450 Old Del Rio Rd.</td>\n",
       "      <td>NaN</td>\n",
       "      <td>Roseburg</td>\n",
       "      <td>OR</td>\n",
       "      <td>97471</td>\n",
       "      <td>US</td>\n",
       "      <td>58960012</td>\n",
       "      <td>cat</td>\n",
       "      <td>or74</td>\n",
       "      <td>https://dl5zpyw5k3jeb.cloudfront.net/photos/pe...</td>\n",
       "      <td>https://dl5zpyw5k3jeb.cloudfront.net/photos/pe...</td>\n",
       "      <td>https://dl5zpyw5k3jeb.cloudfront.net/photos/pe...</td>\n",
       "      <td>https://dl5zpyw5k3jeb.cloudfront.net/photos/pe...</td>\n",
       "    </tr>\n",
       "    <tr>\n",
       "      <th>29854</th>\n",
       "      <td>58832270</td>\n",
       "      <td>GA150</td>\n",
       "      <td>https://www.petfinder.com/cat/adeline-58832270...</td>\n",
       "      <td>Cat</td>\n",
       "      <td>Cat</td>\n",
       "      <td>Baby</td>\n",
       "      <td>Female</td>\n",
       "      <td>Medium</td>\n",
       "      <td>NaN</td>\n",
       "      <td>[]</td>\n",
       "      <td>Adeline</td>\n",
       "      <td>Adeline\\nGender: Female\\nBreed: DMH\\nDOB: 06/1...</td>\n",
       "      <td>B2022042</td>\n",
       "      <td>[{'small': 'https://dl5zpyw5k3jeb.cloudfront.n...</td>\n",
       "      <td>NaN</td>\n",
       "      <td>[]</td>\n",
       "      <td>adoptable</td>\n",
       "      <td>2022-11-12T10:49:07+0000</td>\n",
       "      <td>2022-11-12T10:49:07+0000</td>\n",
       "      <td>NaN</td>\n",
       "      <td>Domestic Medium Hair</td>\n",
       "      <td>NaN</td>\n",
       "      <td>False</td>\n",
       "      <td>False</td>\n",
       "      <td>NaN</td>\n",
       "      <td>NaN</td>\n",
       "      <td>NaN</td>\n",
       "      <td>True</td>\n",
       "      <td>False</td>\n",
       "      <td>False</td>\n",
       "      <td>False</td>\n",
       "      <td>True</td>\n",
       "      <td>NaN</td>\n",
       "      <td>NaN</td>\n",
       "      <td>NaN</td>\n",
       "      <td>info@humanemorgan.org</td>\n",
       "      <td>(706) 343-9977</td>\n",
       "      <td>1170 Fairground Road</td>\n",
       "      <td>NaN</td>\n",
       "      <td>Madison</td>\n",
       "      <td>GA</td>\n",
       "      <td>30650</td>\n",
       "      <td>US</td>\n",
       "      <td>58832270</td>\n",
       "      <td>cat</td>\n",
       "      <td>ga150</td>\n",
       "      <td>https://dl5zpyw5k3jeb.cloudfront.net/photos/pe...</td>\n",
       "      <td>https://dl5zpyw5k3jeb.cloudfront.net/photos/pe...</td>\n",
       "      <td>https://dl5zpyw5k3jeb.cloudfront.net/photos/pe...</td>\n",
       "      <td>https://dl5zpyw5k3jeb.cloudfront.net/photos/pe...</td>\n",
       "    </tr>\n",
       "  </tbody>\n",
       "</table>\n",
       "</div>"
      ],
      "text/plain": [
       "             id organization_id  \\\n",
       "34914  58795150          FL1036   \n",
       "6356   58960012            OR74   \n",
       "29854  58832270           GA150   \n",
       "\n",
       "                                                     url type species    age  \\\n",
       "34914  https://www.petfinder.com/cat/denver-58795150/...  Cat     Cat  Young   \n",
       "6356   https://www.petfinder.com/cat/apple-58960012/o...  Cat     Cat  Adult   \n",
       "29854  https://www.petfinder.com/cat/adeline-58832270...  Cat     Cat   Baby   \n",
       "\n",
       "       gender    size   coat tags     name  \\\n",
       "34914    Male  Medium    NaN   []   DENVER   \n",
       "6356   Female  Medium  Short   []    Apple   \n",
       "29854  Female  Medium    NaN   []  Adeline   \n",
       "\n",
       "                                             description  \\\n",
       "34914                                                NaN   \n",
       "6356   My information is not yet available. Please co...   \n",
       "29854  Adeline\\nGender: Female\\nBreed: DMH\\nDOB: 06/1...   \n",
       "\n",
       "      organization_animal_id  \\\n",
       "34914               A2130214   \n",
       "6356                     NaN   \n",
       "29854               B2022042   \n",
       "\n",
       "                                                  photos  \\\n",
       "34914  [{'small': 'https://dl5zpyw5k3jeb.cloudfront.n...   \n",
       "6356   [{'small': 'https://dl5zpyw5k3jeb.cloudfront.n...   \n",
       "29854  [{'small': 'https://dl5zpyw5k3jeb.cloudfront.n...   \n",
       "\n",
       "       primary_photo_cropped videos     status         status_changed_at  \\\n",
       "34914                    NaN     []  adoptable  2022-11-08T20:44:19+0000   \n",
       "6356                     NaN     []  adoptable  2022-11-25T02:24:32+0000   \n",
       "29854                    NaN     []  adoptable  2022-11-12T10:49:07+0000   \n",
       "\n",
       "                   published_at  distance        breeds.primary  \\\n",
       "34914  2022-11-08T20:44:19+0000       NaN   Domestic Short Hair   \n",
       "6356   2022-11-25T02:24:31+0000       NaN   Domestic Short Hair   \n",
       "29854  2022-11-12T10:49:07+0000       NaN  Domestic Medium Hair   \n",
       "\n",
       "      breeds.secondary  breeds.mixed  breeds.unknown colors.primary  \\\n",
       "34914              NaN         False           False            NaN   \n",
       "6356               NaN          True           False          Black   \n",
       "29854              NaN         False           False            NaN   \n",
       "\n",
       "      colors.secondary colors.tertiary  attributes.spayed_neutered  \\\n",
       "34914              NaN             NaN                       False   \n",
       "6356               NaN             NaN                        True   \n",
       "29854              NaN             NaN                        True   \n",
       "\n",
       "       attributes.house_trained  attributes.declawed  \\\n",
       "34914                     False                False   \n",
       "6356                      False                False   \n",
       "29854                     False                False   \n",
       "\n",
       "       attributes.special_needs  attributes.shots_current  \\\n",
       "34914                     False                     False   \n",
       "6356                      False                      True   \n",
       "29854                     False                      True   \n",
       "\n",
       "      environment.children environment.dogs environment.cats  \\\n",
       "34914                  NaN              NaN              NaN   \n",
       "6356                   NaN              NaN              NaN   \n",
       "29854                  NaN              NaN              NaN   \n",
       "\n",
       "                        contact.email   contact.phone  \\\n",
       "34914               pbcacc@pbcgov.org  561-233-1200     \n",
       "6356   kennelmanager@savinggrace.info  (541) 672-3907   \n",
       "29854           info@humanemorgan.org  (706) 343-9977   \n",
       "\n",
       "      contact.address.address1 contact.address.address2 contact.address.city  \\\n",
       "34914      7100 Belvedere Road                      NaN      West Palm Beach   \n",
       "6356       450 Old Del Rio Rd.                      NaN             Roseburg   \n",
       "29854     1170 Fairground Road                      NaN              Madison   \n",
       "\n",
       "      contact.address.state contact.address.postcode contact.address.country  \\\n",
       "34914                    FL                    33411                      US   \n",
       "6356                     OR                    97471                      US   \n",
       "29854                    GA                    30650                      US   \n",
       "\n",
       "       animal_id animal_type organization_id.1  \\\n",
       "34914   58795150         cat            fl1036   \n",
       "6356    58960012         cat              or74   \n",
       "29854   58832270         cat             ga150   \n",
       "\n",
       "                             primary_photo_cropped.small  \\\n",
       "34914  https://dl5zpyw5k3jeb.cloudfront.net/photos/pe...   \n",
       "6356   https://dl5zpyw5k3jeb.cloudfront.net/photos/pe...   \n",
       "29854  https://dl5zpyw5k3jeb.cloudfront.net/photos/pe...   \n",
       "\n",
       "                            primary_photo_cropped.medium  \\\n",
       "34914  https://dl5zpyw5k3jeb.cloudfront.net/photos/pe...   \n",
       "6356   https://dl5zpyw5k3jeb.cloudfront.net/photos/pe...   \n",
       "29854  https://dl5zpyw5k3jeb.cloudfront.net/photos/pe...   \n",
       "\n",
       "                             primary_photo_cropped.large  \\\n",
       "34914  https://dl5zpyw5k3jeb.cloudfront.net/photos/pe...   \n",
       "6356   https://dl5zpyw5k3jeb.cloudfront.net/photos/pe...   \n",
       "29854  https://dl5zpyw5k3jeb.cloudfront.net/photos/pe...   \n",
       "\n",
       "                              primary_photo_cropped.full  \n",
       "34914  https://dl5zpyw5k3jeb.cloudfront.net/photos/pe...  \n",
       "6356   https://dl5zpyw5k3jeb.cloudfront.net/photos/pe...  \n",
       "29854  https://dl5zpyw5k3jeb.cloudfront.net/photos/pe...  "
      ]
     },
     "execution_count": 7,
     "metadata": {},
     "output_type": "execute_result"
    }
   ],
   "source": [
    "pd.set_option('display.max_columns', 500)\n",
    "cats_DF.sample(3)"
   ]
  },
  {
   "cell_type": "code",
   "execution_count": 5,
   "id": "96985294",
   "metadata": {},
   "outputs": [
    {
     "data": {
      "text/plain": [
       "Index(['id', 'organization_id', 'url', 'type', 'species', 'age', 'gender',\n",
       "       'size', 'coat', 'tags', 'name', 'description', 'organization_animal_id',\n",
       "       'photos', 'primary_photo_cropped', 'videos', 'status',\n",
       "       'status_changed_at', 'published_at', 'distance', 'breeds.primary',\n",
       "       'breeds.secondary', 'breeds.mixed', 'breeds.unknown', 'colors.primary',\n",
       "       'colors.secondary', 'colors.tertiary', 'attributes.spayed_neutered',\n",
       "       'attributes.house_trained', 'attributes.declawed',\n",
       "       'attributes.special_needs', 'attributes.shots_current',\n",
       "       'environment.children', 'environment.dogs', 'environment.cats',\n",
       "       'contact.email', 'contact.phone', 'contact.address.address1',\n",
       "       'contact.address.address2', 'contact.address.city',\n",
       "       'contact.address.state', 'contact.address.postcode',\n",
       "       'contact.address.country', 'animal_id', 'animal_type',\n",
       "       'organization_id.1', 'primary_photo_cropped.small',\n",
       "       'primary_photo_cropped.medium', 'primary_photo_cropped.large',\n",
       "       'primary_photo_cropped.full'],\n",
       "      dtype='object')"
      ]
     },
     "execution_count": 5,
     "metadata": {},
     "output_type": "execute_result"
    }
   ],
   "source": [
    "cats_DF.columns"
   ]
  },
  {
   "cell_type": "markdown",
   "id": "417cdda6",
   "metadata": {},
   "source": [
    "Next we seperate the dataframe into features to model over and context data that can be shown to the user for any matches. 'ID' will be our shared key between the two tables.\n",
    "\n",
    "Of note, the 'distance' field and 'primary_photo_cropped.full' field will be useful data for future model enhancements. For the model baseline, we will simply use textual data and assume a 0 distance for all pets."
   ]
  },
  {
   "cell_type": "code",
   "execution_count": 13,
   "id": "740d04d1",
   "metadata": {},
   "outputs": [
    {
     "data": {
      "text/plain": [
       "(49600, 21)"
      ]
     },
     "execution_count": 13,
     "metadata": {},
     "output_type": "execute_result"
    }
   ],
   "source": [
    "contextCols = ['id','organization_id','url','type','tags','name','description','organization_animal_id',\n",
    "              'photos','primary_photo_cropped','videos','status','status_changed_at','published_at',\n",
    "              'distance','contact.email', 'contact.phone', 'contact.address.address1',\n",
    "               'contact.address.address2', 'contact.address.city','contact.address.state', \n",
    "               'contact.address.postcode','contact.address.country', 'animal_id', 'animal_type',\n",
    "               'organization_id.1', 'primary_photo_cropped.small','primary_photo_cropped.medium',\n",
    "               'primary_photo_cropped.large','primary_photo_cropped.full']\n",
    "featureCols = ['id','age','gender','size','coat','breeds.primary', 'breeds.secondary','breeds.mixed',\n",
    "              'breeds.unknown','colors.primary','colors.secondary','colors.tertiary',\n",
    "              'attributes.spayed_neutered','attributes.house_trained','attributes.declawed',\n",
    "              'attributes.special_needs','attributes.shots_current','environment.children',\n",
    "              'environment.dogs','environment.cats','type']\n",
    "cats_DF_features = cats_DF[featureCols]\n",
    "cats_DF_context = cats_DF[contextCols]\n",
    "cats_DF_features.shape"
   ]
  },
  {
   "cell_type": "markdown",
   "id": "bb918f43",
   "metadata": {},
   "source": [
    "Let's sanity check our missing values now that we just have cats and remove any columns with too many missing values."
   ]
  },
  {
   "cell_type": "code",
   "execution_count": 14,
   "id": "145d20c9",
   "metadata": {},
   "outputs": [],
   "source": [
    "valueCounts = cats_DF_features.set_index('type').isna().groupby(level=0).sum()/cats_DF_features.shape[0] # level=0 refers to our index, which we made 'type'\n"
   ]
  },
  {
   "cell_type": "code",
   "execution_count": 15,
   "id": "511242f1",
   "metadata": {},
   "outputs": [
    {
     "data": {
      "text/html": [
       "<div>\n",
       "<style scoped>\n",
       "    .dataframe tbody tr th:only-of-type {\n",
       "        vertical-align: middle;\n",
       "    }\n",
       "\n",
       "    .dataframe tbody tr th {\n",
       "        vertical-align: top;\n",
       "    }\n",
       "\n",
       "    .dataframe thead th {\n",
       "        text-align: right;\n",
       "    }\n",
       "</style>\n",
       "<table border=\"1\" class=\"dataframe\">\n",
       "  <thead>\n",
       "    <tr style=\"text-align: right;\">\n",
       "      <th></th>\n",
       "      <th>id</th>\n",
       "      <th>age</th>\n",
       "      <th>gender</th>\n",
       "      <th>size</th>\n",
       "      <th>coat</th>\n",
       "      <th>breeds.primary</th>\n",
       "      <th>breeds.secondary</th>\n",
       "      <th>breeds.mixed</th>\n",
       "      <th>breeds.unknown</th>\n",
       "      <th>colors.primary</th>\n",
       "      <th>colors.secondary</th>\n",
       "      <th>colors.tertiary</th>\n",
       "      <th>attributes.spayed_neutered</th>\n",
       "      <th>attributes.house_trained</th>\n",
       "      <th>attributes.declawed</th>\n",
       "      <th>attributes.special_needs</th>\n",
       "      <th>attributes.shots_current</th>\n",
       "      <th>environment.children</th>\n",
       "      <th>environment.dogs</th>\n",
       "      <th>environment.cats</th>\n",
       "    </tr>\n",
       "    <tr>\n",
       "      <th>type</th>\n",
       "      <th></th>\n",
       "      <th></th>\n",
       "      <th></th>\n",
       "      <th></th>\n",
       "      <th></th>\n",
       "      <th></th>\n",
       "      <th></th>\n",
       "      <th></th>\n",
       "      <th></th>\n",
       "      <th></th>\n",
       "      <th></th>\n",
       "      <th></th>\n",
       "      <th></th>\n",
       "      <th></th>\n",
       "      <th></th>\n",
       "      <th></th>\n",
       "      <th></th>\n",
       "      <th></th>\n",
       "      <th></th>\n",
       "      <th></th>\n",
       "    </tr>\n",
       "  </thead>\n",
       "  <tbody>\n",
       "    <tr>\n",
       "      <th>Cat</th>\n",
       "      <td>0.0</td>\n",
       "      <td>0.0</td>\n",
       "      <td>0.0</td>\n",
       "      <td>0.0</td>\n",
       "      <td>0.633246</td>\n",
       "      <td>0.0</td>\n",
       "      <td>0.90244</td>\n",
       "      <td>0.0</td>\n",
       "      <td>0.0</td>\n",
       "      <td>0.406129</td>\n",
       "      <td>0.754194</td>\n",
       "      <td>0.920544</td>\n",
       "      <td>0.0</td>\n",
       "      <td>0.0</td>\n",
       "      <td>0.0</td>\n",
       "      <td>0.0</td>\n",
       "      <td>0.0</td>\n",
       "      <td>0.745968</td>\n",
       "      <td>0.83625</td>\n",
       "      <td>0.603226</td>\n",
       "    </tr>\n",
       "  </tbody>\n",
       "</table>\n",
       "</div>"
      ],
      "text/plain": [
       "       id  age  gender  size      coat  breeds.primary  breeds.secondary  \\\n",
       "type                                                                       \n",
       "Cat   0.0  0.0     0.0   0.0  0.633246             0.0           0.90244   \n",
       "\n",
       "      breeds.mixed  breeds.unknown  colors.primary  colors.secondary  \\\n",
       "type                                                                   \n",
       "Cat            0.0             0.0        0.406129          0.754194   \n",
       "\n",
       "      colors.tertiary  attributes.spayed_neutered  attributes.house_trained  \\\n",
       "type                                                                          \n",
       "Cat          0.920544                         0.0                       0.0   \n",
       "\n",
       "      attributes.declawed  attributes.special_needs  attributes.shots_current  \\\n",
       "type                                                                            \n",
       "Cat                   0.0                       0.0                       0.0   \n",
       "\n",
       "      environment.children  environment.dogs  environment.cats  \n",
       "type                                                            \n",
       "Cat               0.745968           0.83625          0.603226  "
      ]
     },
     "execution_count": 15,
     "metadata": {},
     "output_type": "execute_result"
    }
   ],
   "source": [
    "pd.set_option('display.max_columns', 500)\n",
    "valueCounts "
   ]
  },
  {
   "cell_type": "code",
   "execution_count": 17,
   "id": "3962ca0f",
   "metadata": {},
   "outputs": [],
   "source": [
    "valueCounts = cats_DF_context.set_index('type').isna().groupby(level=0).sum()/cats_DF_context.shape[0] # level=0 refers to our index, which we made 'type'\n"
   ]
  },
  {
   "cell_type": "code",
   "execution_count": 18,
   "id": "661ea3e9",
   "metadata": {},
   "outputs": [
    {
     "data": {
      "text/html": [
       "<div>\n",
       "<style scoped>\n",
       "    .dataframe tbody tr th:only-of-type {\n",
       "        vertical-align: middle;\n",
       "    }\n",
       "\n",
       "    .dataframe tbody tr th {\n",
       "        vertical-align: top;\n",
       "    }\n",
       "\n",
       "    .dataframe thead th {\n",
       "        text-align: right;\n",
       "    }\n",
       "</style>\n",
       "<table border=\"1\" class=\"dataframe\">\n",
       "  <thead>\n",
       "    <tr style=\"text-align: right;\">\n",
       "      <th></th>\n",
       "      <th>id</th>\n",
       "      <th>organization_id</th>\n",
       "      <th>url</th>\n",
       "      <th>tags</th>\n",
       "      <th>name</th>\n",
       "      <th>description</th>\n",
       "      <th>organization_animal_id</th>\n",
       "      <th>photos</th>\n",
       "      <th>primary_photo_cropped</th>\n",
       "      <th>videos</th>\n",
       "      <th>status</th>\n",
       "      <th>status_changed_at</th>\n",
       "      <th>published_at</th>\n",
       "      <th>distance</th>\n",
       "      <th>contact.email</th>\n",
       "      <th>contact.phone</th>\n",
       "      <th>contact.address.address1</th>\n",
       "      <th>contact.address.address2</th>\n",
       "      <th>contact.address.city</th>\n",
       "      <th>contact.address.state</th>\n",
       "      <th>contact.address.postcode</th>\n",
       "      <th>contact.address.country</th>\n",
       "      <th>animal_id</th>\n",
       "      <th>animal_type</th>\n",
       "      <th>organization_id.1</th>\n",
       "      <th>primary_photo_cropped.small</th>\n",
       "      <th>primary_photo_cropped.medium</th>\n",
       "      <th>primary_photo_cropped.large</th>\n",
       "      <th>primary_photo_cropped.full</th>\n",
       "    </tr>\n",
       "    <tr>\n",
       "      <th>type</th>\n",
       "      <th></th>\n",
       "      <th></th>\n",
       "      <th></th>\n",
       "      <th></th>\n",
       "      <th></th>\n",
       "      <th></th>\n",
       "      <th></th>\n",
       "      <th></th>\n",
       "      <th></th>\n",
       "      <th></th>\n",
       "      <th></th>\n",
       "      <th></th>\n",
       "      <th></th>\n",
       "      <th></th>\n",
       "      <th></th>\n",
       "      <th></th>\n",
       "      <th></th>\n",
       "      <th></th>\n",
       "      <th></th>\n",
       "      <th></th>\n",
       "      <th></th>\n",
       "      <th></th>\n",
       "      <th></th>\n",
       "      <th></th>\n",
       "      <th></th>\n",
       "      <th></th>\n",
       "      <th></th>\n",
       "      <th></th>\n",
       "      <th></th>\n",
       "    </tr>\n",
       "  </thead>\n",
       "  <tbody>\n",
       "    <tr>\n",
       "      <th>Cat</th>\n",
       "      <td>0.0</td>\n",
       "      <td>0.0</td>\n",
       "      <td>0.0</td>\n",
       "      <td>0.0</td>\n",
       "      <td>0.00002</td>\n",
       "      <td>0.280242</td>\n",
       "      <td>0.298327</td>\n",
       "      <td>0.0</td>\n",
       "      <td>1.0</td>\n",
       "      <td>0.0</td>\n",
       "      <td>0.0</td>\n",
       "      <td>0.0</td>\n",
       "      <td>0.0</td>\n",
       "      <td>1.0</td>\n",
       "      <td>0.050161</td>\n",
       "      <td>0.187762</td>\n",
       "      <td>0.364395</td>\n",
       "      <td>0.923931</td>\n",
       "      <td>0.0</td>\n",
       "      <td>0.0</td>\n",
       "      <td>0.00002</td>\n",
       "      <td>0.0</td>\n",
       "      <td>0.0</td>\n",
       "      <td>0.0</td>\n",
       "      <td>0.0</td>\n",
       "      <td>0.056351</td>\n",
       "      <td>0.056351</td>\n",
       "      <td>0.056351</td>\n",
       "      <td>0.056351</td>\n",
       "    </tr>\n",
       "  </tbody>\n",
       "</table>\n",
       "</div>"
      ],
      "text/plain": [
       "       id  organization_id  url  tags     name  description  \\\n",
       "type                                                          \n",
       "Cat   0.0              0.0  0.0   0.0  0.00002     0.280242   \n",
       "\n",
       "      organization_animal_id  photos  primary_photo_cropped  videos  status  \\\n",
       "type                                                                          \n",
       "Cat                 0.298327     0.0                    1.0     0.0     0.0   \n",
       "\n",
       "      status_changed_at  published_at  distance  contact.email  contact.phone  \\\n",
       "type                                                                            \n",
       "Cat                 0.0           0.0       1.0       0.050161       0.187762   \n",
       "\n",
       "      contact.address.address1  contact.address.address2  \\\n",
       "type                                                       \n",
       "Cat                   0.364395                  0.923931   \n",
       "\n",
       "      contact.address.city  contact.address.state  contact.address.postcode  \\\n",
       "type                                                                          \n",
       "Cat                    0.0                    0.0                   0.00002   \n",
       "\n",
       "      contact.address.country  animal_id  animal_type  organization_id.1  \\\n",
       "type                                                                       \n",
       "Cat                       0.0        0.0          0.0                0.0   \n",
       "\n",
       "      primary_photo_cropped.small  primary_photo_cropped.medium  \\\n",
       "type                                                              \n",
       "Cat                      0.056351                      0.056351   \n",
       "\n",
       "      primary_photo_cropped.large  primary_photo_cropped.full  \n",
       "type                                                           \n",
       "Cat                      0.056351                    0.056351  "
      ]
     },
     "execution_count": 18,
     "metadata": {},
     "output_type": "execute_result"
    }
   ],
   "source": [
    "pd.set_option('display.max_columns', 500)\n",
    "valueCounts "
   ]
  },
  {
   "cell_type": "markdown",
   "id": "cebd84f2",
   "metadata": {},
   "source": [
    "After a quick NA check, we will have to remove 'coat','breeds.secondary','colors.secondary','colors.tertiary','environment.children','environment.dogs' and 'environment.cats'. The column 'colors.primary' is also missing a lot of values but for sake of differing one cat from another it will be kept for now."
   ]
  },
  {
   "cell_type": "code",
   "execution_count": 31,
   "id": "20db843f",
   "metadata": {},
   "outputs": [
    {
     "data": {
      "text/plain": [
       "(49600, 13)"
      ]
     },
     "execution_count": 31,
     "metadata": {},
     "output_type": "execute_result"
    }
   ],
   "source": [
    "featureCols = ['id','age','gender','size','breeds.primary','breeds.mixed','breeds.unknown',\n",
    "               'colors.primary','attributes.spayed_neutered','attributes.house_trained',\n",
    "               'attributes.declawed','attributes.special_needs','attributes.shots_current']\n",
    "cats_DF_features = cats_DF[featureCols]\n",
    "cats_DF_context = cats_DF[contextCols]\n",
    "cats_DF_features.shape"
   ]
  },
  {
   "cell_type": "code",
   "execution_count": 32,
   "id": "150a88b7",
   "metadata": {},
   "outputs": [
    {
     "data": {
      "text/plain": [
       "id                             int64\n",
       "age                           object\n",
       "gender                        object\n",
       "size                          object\n",
       "breeds.primary                object\n",
       "breeds.mixed                    bool\n",
       "breeds.unknown                  bool\n",
       "colors.primary                object\n",
       "attributes.spayed_neutered      bool\n",
       "attributes.house_trained        bool\n",
       "attributes.declawed             bool\n",
       "attributes.special_needs        bool\n",
       "attributes.shots_current        bool\n",
       "dtype: object"
      ]
     },
     "execution_count": 32,
     "metadata": {},
     "output_type": "execute_result"
    }
   ],
   "source": [
    "cats_DF_features.dtypes"
   ]
  },
  {
   "cell_type": "markdown",
   "id": "3e6031ed",
   "metadata": {},
   "source": [
    "# Pre-process feature data<a id='pre-process'></a>"
   ]
  },
  {
   "cell_type": "markdown",
   "id": "736bc1ff",
   "metadata": {},
   "source": [
    "First, let's re-examine our dataframe for distinct values."
   ]
  },
  {
   "cell_type": "markdown",
   "id": "5f0e3e05",
   "metadata": {},
   "source": [
    "## Recheck sweetviz for distinct values and types<a id='sweet'></a>"
   ]
  },
  {
   "cell_type": "code",
   "execution_count": 19,
   "id": "3add5b36",
   "metadata": {},
   "outputs": [
    {
     "data": {
      "text/html": [
       "<div>\n",
       "<style scoped>\n",
       "    .dataframe tbody tr th:only-of-type {\n",
       "        vertical-align: middle;\n",
       "    }\n",
       "\n",
       "    .dataframe tbody tr th {\n",
       "        vertical-align: top;\n",
       "    }\n",
       "\n",
       "    .dataframe thead th {\n",
       "        text-align: right;\n",
       "    }\n",
       "</style>\n",
       "<table border=\"1\" class=\"dataframe\">\n",
       "  <thead>\n",
       "    <tr style=\"text-align: right;\">\n",
       "      <th></th>\n",
       "      <th>id</th>\n",
       "      <th>age</th>\n",
       "      <th>gender</th>\n",
       "      <th>size</th>\n",
       "      <th>breeds.primary</th>\n",
       "      <th>breeds.mixed</th>\n",
       "      <th>breeds.unknown</th>\n",
       "      <th>colors.primary</th>\n",
       "      <th>attributes.spayed_neutered</th>\n",
       "      <th>attributes.house_trained</th>\n",
       "      <th>attributes.declawed</th>\n",
       "      <th>attributes.special_needs</th>\n",
       "      <th>attributes.shots_current</th>\n",
       "    </tr>\n",
       "  </thead>\n",
       "  <tbody>\n",
       "    <tr>\n",
       "      <th>0</th>\n",
       "      <td>58980795</td>\n",
       "      <td>Young</td>\n",
       "      <td>Female</td>\n",
       "      <td>Medium</td>\n",
       "      <td>Domestic Short Hair</td>\n",
       "      <td>True</td>\n",
       "      <td>False</td>\n",
       "      <td>NaN</td>\n",
       "      <td>False</td>\n",
       "      <td>False</td>\n",
       "      <td>False</td>\n",
       "      <td>False</td>\n",
       "      <td>True</td>\n",
       "    </tr>\n",
       "    <tr>\n",
       "      <th>1</th>\n",
       "      <td>58980784</td>\n",
       "      <td>Baby</td>\n",
       "      <td>Male</td>\n",
       "      <td>Medium</td>\n",
       "      <td>Tuxedo</td>\n",
       "      <td>False</td>\n",
       "      <td>False</td>\n",
       "      <td>Black &amp; White / Tuxedo</td>\n",
       "      <td>True</td>\n",
       "      <td>True</td>\n",
       "      <td>False</td>\n",
       "      <td>False</td>\n",
       "      <td>True</td>\n",
       "    </tr>\n",
       "    <tr>\n",
       "      <th>2</th>\n",
       "      <td>58980785</td>\n",
       "      <td>Baby</td>\n",
       "      <td>Female</td>\n",
       "      <td>Medium</td>\n",
       "      <td>Domestic Short Hair</td>\n",
       "      <td>True</td>\n",
       "      <td>False</td>\n",
       "      <td>NaN</td>\n",
       "      <td>True</td>\n",
       "      <td>True</td>\n",
       "      <td>False</td>\n",
       "      <td>False</td>\n",
       "      <td>True</td>\n",
       "    </tr>\n",
       "  </tbody>\n",
       "</table>\n",
       "</div>"
      ],
      "text/plain": [
       "         id    age  gender    size       breeds.primary  breeds.mixed  \\\n",
       "0  58980795  Young  Female  Medium  Domestic Short Hair          True   \n",
       "1  58980784   Baby    Male  Medium               Tuxedo         False   \n",
       "2  58980785   Baby  Female  Medium  Domestic Short Hair          True   \n",
       "\n",
       "   breeds.unknown          colors.primary  attributes.spayed_neutered  \\\n",
       "0           False                     NaN                       False   \n",
       "1           False  Black & White / Tuxedo                        True   \n",
       "2           False                     NaN                        True   \n",
       "\n",
       "   attributes.house_trained  attributes.declawed  attributes.special_needs  \\\n",
       "0                     False                False                     False   \n",
       "1                      True                False                     False   \n",
       "2                      True                False                     False   \n",
       "\n",
       "   attributes.shots_current  \n",
       "0                      True  \n",
       "1                      True  \n",
       "2                      True  "
      ]
     },
     "execution_count": 19,
     "metadata": {},
     "output_type": "execute_result"
    }
   ],
   "source": [
    "cats_DF_features.head(3)"
   ]
  },
  {
   "cell_type": "code",
   "execution_count": 109,
   "id": "06657116",
   "metadata": {},
   "outputs": [
    {
     "data": {
      "text/plain": [
       "nan"
      ]
     },
     "execution_count": 109,
     "metadata": {},
     "output_type": "execute_result"
    }
   ],
   "source": [
    "cats_DF_features['colors.primary'].values[0]"
   ]
  },
  {
   "cell_type": "code",
   "execution_count": 48,
   "id": "581475e7",
   "metadata": {},
   "outputs": [
    {
     "name": "stderr",
     "output_type": "stream",
     "text": [
      "/home/denise/anaconda3/envs/petmatchEDA/lib/python3.8/site-packages/sweetviz/dataframe_report.py:74: FutureWarning: iteritems is deprecated and will be removed in a future version. Use .items instead.\n",
      "  all_source_names = [cur_name for cur_name, cur_series in source_df.iteritems()]\n",
      "/home/denise/anaconda3/envs/petmatchEDA/lib/python3.8/site-packages/sweetviz/dataframe_report.py:109: FutureWarning: iteritems is deprecated and will be removed in a future version. Use .items instead.\n",
      "  filtered_series_names_in_source = [cur_name for cur_name, cur_series in source_df.iteritems()\n"
     ]
    },
    {
     "data": {
      "application/vnd.jupyter.widget-view+json": {
       "model_id": "ef7413105d854f8bad108ba2627314b9",
       "version_major": 2,
       "version_minor": 0
      },
      "text/plain": [
       "                                             |      | [  0%]   00:00 -> (? left)"
      ]
     },
     "metadata": {},
     "output_type": "display_data"
    },
    {
     "name": "stderr",
     "output_type": "stream",
     "text": [
      "/home/denise/anaconda3/envs/petmatchEDA/lib/python3.8/site-packages/sweetviz/series_analyzer_numeric.py:25: FutureWarning: The 'mad' method is deprecated and will be removed in a future version. To compute the same result, you may do `(df - df.mean()).abs().mean()`.\n",
      "  stats[\"mad\"] = series.mad()\n",
      "/home/denise/anaconda3/envs/petmatchEDA/lib/python3.8/site-packages/sweetviz/series_analyzer_cat.py:28: FutureWarning: iteritems is deprecated and will be removed in a future version. Use .items instead.\n",
      "  for item in category_counts.iteritems():\n",
      "/home/denise/anaconda3/envs/petmatchEDA/lib/python3.8/site-packages/sweetviz/series_analyzer_cat.py:28: FutureWarning: iteritems is deprecated and will be removed in a future version. Use .items instead.\n",
      "  for item in category_counts.iteritems():\n",
      "/home/denise/anaconda3/envs/petmatchEDA/lib/python3.8/site-packages/sweetviz/series_analyzer_cat.py:28: FutureWarning: iteritems is deprecated and will be removed in a future version. Use .items instead.\n",
      "  for item in category_counts.iteritems():\n",
      "/home/denise/anaconda3/envs/petmatchEDA/lib/python3.8/site-packages/sweetviz/series_analyzer_cat.py:28: FutureWarning: iteritems is deprecated and will be removed in a future version. Use .items instead.\n",
      "  for item in category_counts.iteritems():\n",
      "/home/denise/anaconda3/envs/petmatchEDA/lib/python3.8/site-packages/sweetviz/series_analyzer_cat.py:28: FutureWarning: iteritems is deprecated and will be removed in a future version. Use .items instead.\n",
      "  for item in category_counts.iteritems():\n",
      "/home/denise/anaconda3/envs/petmatchEDA/lib/python3.8/site-packages/sweetviz/series_analyzer_cat.py:28: FutureWarning: iteritems is deprecated and will be removed in a future version. Use .items instead.\n",
      "  for item in category_counts.iteritems():\n",
      "/home/denise/anaconda3/envs/petmatchEDA/lib/python3.8/site-packages/sweetviz/series_analyzer_cat.py:28: FutureWarning: iteritems is deprecated and will be removed in a future version. Use .items instead.\n",
      "  for item in category_counts.iteritems():\n",
      "/home/denise/anaconda3/envs/petmatchEDA/lib/python3.8/site-packages/sweetviz/series_analyzer_cat.py:28: FutureWarning: iteritems is deprecated and will be removed in a future version. Use .items instead.\n",
      "  for item in category_counts.iteritems():\n",
      "/home/denise/anaconda3/envs/petmatchEDA/lib/python3.8/site-packages/sweetviz/series_analyzer_cat.py:28: FutureWarning: iteritems is deprecated and will be removed in a future version. Use .items instead.\n",
      "  for item in category_counts.iteritems():\n",
      "/home/denise/anaconda3/envs/petmatchEDA/lib/python3.8/site-packages/sweetviz/series_analyzer_cat.py:28: FutureWarning: iteritems is deprecated and will be removed in a future version. Use .items instead.\n",
      "  for item in category_counts.iteritems():\n",
      "/home/denise/anaconda3/envs/petmatchEDA/lib/python3.8/site-packages/sweetviz/series_analyzer_cat.py:28: FutureWarning: iteritems is deprecated and will be removed in a future version. Use .items instead.\n",
      "  for item in category_counts.iteritems():\n",
      "/home/denise/anaconda3/envs/petmatchEDA/lib/python3.8/site-packages/sweetviz/series_analyzer_cat.py:28: FutureWarning: iteritems is deprecated and will be removed in a future version. Use .items instead.\n",
      "  for item in category_counts.iteritems():\n"
     ]
    },
    {
     "name": "stdout",
     "output_type": "stream",
     "text": [
      "Report SWEETVIZ_REPORT.html was generated! NOTEBOOK/COLAB USERS: the web browser MAY not pop up, regardless, the report IS saved in your notebook/colab files.\n"
     ]
    }
   ],
   "source": [
    "import sweetviz as sv\n",
    "\n",
    "cat_data_report = sv.analyze(cats_DF_features)\n",
    "cat_data_report.show_html() #save to html document"
   ]
  },
  {
   "cell_type": "markdown",
   "id": "6aa85b19",
   "metadata": {},
   "source": [
    "## Make Pre-Processing Pipeline <a id='pp_pipeline'></a>"
   ]
  },
  {
   "cell_type": "code",
   "execution_count": 101,
   "id": "73908e41",
   "metadata": {},
   "outputs": [],
   "source": [
    "from sklearn.pipeline import Pipeline\n",
    "from sklearn.preprocessing import FunctionTransformer\n",
    "from sklearn.preprocessing import OrdinalEncoder"
   ]
  },
  {
   "cell_type": "code",
   "execution_count": 42,
   "id": "c91d4353",
   "metadata": {},
   "outputs": [],
   "source": [
    "#target = 'id' # ID set to target since that is what recommender will return (hope I'm using this right.)\n",
    "#X, y = cats_DF_features.drop(columns=target), cats_DF_features[target]\n",
    "X = cats_DF_features"
   ]
  },
  {
   "cell_type": "code",
   "execution_count": 43,
   "id": "e0b61035",
   "metadata": {},
   "outputs": [
    {
     "data": {
      "text/plain": [
       "(49600, 13)"
      ]
     },
     "execution_count": 43,
     "metadata": {},
     "output_type": "execute_result"
    }
   ],
   "source": [
    "X.shape"
   ]
  },
  {
   "cell_type": "code",
   "execution_count": 54,
   "id": "a935c568",
   "metadata": {},
   "outputs": [
    {
     "data": {
      "text/plain": [
       "(49502, 13)"
      ]
     },
     "execution_count": 54,
     "metadata": {},
     "output_type": "execute_result"
    }
   ],
   "source": [
    "test = drop_duplicates(X)\n",
    "test.shape #49502 matches unique cats per sweetviz. yay"
   ]
  },
  {
   "cell_type": "code",
   "execution_count": 44,
   "id": "f8ed83da",
   "metadata": {},
   "outputs": [],
   "source": [
    "#y.shape"
   ]
  },
  {
   "cell_type": "code",
   "execution_count": 56,
   "id": "fc562285",
   "metadata": {},
   "outputs": [],
   "source": [
    "categorical_features = ['age','gender','size','breeds.primary','breeds.mixed','breeds.unknown',\n",
    "               'colors.primary','attributes.spayed_neutered','attributes.house_trained',\n",
    "               'attributes.declawed','attributes.special_needs','attributes.shots_current']\n",
    "\n",
    "categorical_transformer = OrdinalEncoder(handle_unknown='ignore')"
   ]
  },
  {
   "cell_type": "code",
   "execution_count": 59,
   "id": "ff2c4ffd",
   "metadata": {},
   "outputs": [],
   "source": [
    "numerical_features = ['id']\n",
    "numeric_transformer = lambda x:x #change nothing"
   ]
  },
  {
   "cell_type": "code",
   "execution_count": 40,
   "id": "2e5fd13b",
   "metadata": {},
   "outputs": [],
   "source": [
    "def remove_columns_with_1_distinct(df):\n",
    "    drop_col = [e for e in df.columns if df[e].nunique()==1]\n",
    "    df_return = df.drop(drop_col,axis=1)\n",
    "    return df_return\n",
    "\n",
    "remove1Distinct_transformer = FunctionTransformer(remove_columns_with_1_distinct)"
   ]
  },
  {
   "cell_type": "code",
   "execution_count": 55,
   "id": "bbb3f706",
   "metadata": {},
   "outputs": [],
   "source": [
    "def drop_duplicates(df):\n",
    "    df_return = df.drop_duplicates()\n",
    "    return df_return\n",
    "\n",
    "dups_transformer = FunctionTransformer(drop_duplicates)"
   ]
  },
  {
   "cell_type": "code",
   "execution_count": 57,
   "id": "1b4b9102",
   "metadata": {},
   "outputs": [],
   "source": [
    "cat_transformer = Pipeline(steps=[\n",
    "    (\"rmv1Distinct\",remove1Distinct_transformer),\n",
    "    (\"dropDuplicates\",drop_duplicates),\n",
    "])"
   ]
  },
  {
   "cell_type": "code",
   "execution_count": 60,
   "id": "3813041a",
   "metadata": {},
   "outputs": [],
   "source": [
    "from sklearn.compose import ColumnTransformer\n",
    "\n",
    "preprocessor = ColumnTransformer(\n",
    "    transformers = [\n",
    "        (\"num\", numeric_transformer,numerical_features),\n",
    "        (\"cat\", categorical_transformer, categorical_features),\n",
    "    ])"
   ]
  },
  {
   "cell_type": "code",
   "execution_count": 87,
   "id": "370b36cf",
   "metadata": {},
   "outputs": [],
   "source": [
    "from sklearn.metrics.pairwise import cosine_similarity\n",
    "\n",
    "def cosine_similarities(df_1,df_2):\n",
    "    cs_simil = cosine_similarity(df_1,df_2)\n",
    "    results = {}\n",
    "    for idx, row in ds.iterrows():\n",
    "       similar_indices = cs_simil[idx].argsort()[:-100:-1] \n",
    "       similar_items = [(cs_simil[idx][i], ds['id'][i]) for i in similar_indices] \n",
    "       results[row['id']] = similar_items[1:]\n",
    "    return results\n",
    "\n",
    "cosineSimilarity = FunctionTransformer(cosine_similarities)"
   ]
  },
  {
   "cell_type": "code",
   "execution_count": 114,
   "id": "9128bce6",
   "metadata": {},
   "outputs": [
    {
     "data": {
      "text/plain": [
       "(40176, 12)"
      ]
     },
     "execution_count": 114,
     "metadata": {},
     "output_type": "execute_result"
    }
   ],
   "source": [
    "import math\n",
    "xtrain_cat = x_train[categorical_features]\n",
    "ohe = OrdinalEncoder(handle_unknown='use_encoded_value',unknown_value=math.nan).fit(xtrain_cat)\n",
    "x_train_test = ohe.transform(xtrain_cat)\n",
    "#x_train_test = x_train_test.join(x_train[\"id\"])\n",
    "x_train_test = pd.DataFrame(x_train_test,columns=xtrain_cat.columns)\n",
    "x_train_test.shape\n",
    "#test =cosine_similarities(x_train_test,x_train_test)"
   ]
  },
  {
   "cell_type": "code",
   "execution_count": 115,
   "id": "63e242a7",
   "metadata": {},
   "outputs": [
    {
     "data": {
      "text/html": [
       "<div>\n",
       "<style scoped>\n",
       "    .dataframe tbody tr th:only-of-type {\n",
       "        vertical-align: middle;\n",
       "    }\n",
       "\n",
       "    .dataframe tbody tr th {\n",
       "        vertical-align: top;\n",
       "    }\n",
       "\n",
       "    .dataframe thead th {\n",
       "        text-align: right;\n",
       "    }\n",
       "</style>\n",
       "<table border=\"1\" class=\"dataframe\">\n",
       "  <thead>\n",
       "    <tr style=\"text-align: right;\">\n",
       "      <th></th>\n",
       "      <th>age</th>\n",
       "      <th>gender</th>\n",
       "      <th>size</th>\n",
       "      <th>breeds.primary</th>\n",
       "      <th>breeds.mixed</th>\n",
       "      <th>breeds.unknown</th>\n",
       "      <th>colors.primary</th>\n",
       "      <th>attributes.spayed_neutered</th>\n",
       "      <th>attributes.house_trained</th>\n",
       "      <th>attributes.declawed</th>\n",
       "      <th>attributes.special_needs</th>\n",
       "      <th>attributes.shots_current</th>\n",
       "    </tr>\n",
       "  </thead>\n",
       "  <tbody>\n",
       "    <tr>\n",
       "      <th>0</th>\n",
       "      <td>0.0</td>\n",
       "      <td>1.0</td>\n",
       "      <td>3.0</td>\n",
       "      <td>19.0</td>\n",
       "      <td>0.0</td>\n",
       "      <td>0.0</td>\n",
       "      <td>0.0</td>\n",
       "      <td>1.0</td>\n",
       "      <td>0.0</td>\n",
       "      <td>0.0</td>\n",
       "      <td>0.0</td>\n",
       "      <td>1.0</td>\n",
       "    </tr>\n",
       "    <tr>\n",
       "      <th>1</th>\n",
       "      <td>3.0</td>\n",
       "      <td>0.0</td>\n",
       "      <td>2.0</td>\n",
       "      <td>21.0</td>\n",
       "      <td>0.0</td>\n",
       "      <td>0.0</td>\n",
       "      <td>0.0</td>\n",
       "      <td>1.0</td>\n",
       "      <td>1.0</td>\n",
       "      <td>0.0</td>\n",
       "      <td>0.0</td>\n",
       "      <td>1.0</td>\n",
       "    </tr>\n",
       "    <tr>\n",
       "      <th>2</th>\n",
       "      <td>1.0</td>\n",
       "      <td>0.0</td>\n",
       "      <td>3.0</td>\n",
       "      <td>58.0</td>\n",
       "      <td>0.0</td>\n",
       "      <td>0.0</td>\n",
       "      <td>1.0</td>\n",
       "      <td>0.0</td>\n",
       "      <td>1.0</td>\n",
       "      <td>0.0</td>\n",
       "      <td>0.0</td>\n",
       "      <td>1.0</td>\n",
       "    </tr>\n",
       "  </tbody>\n",
       "</table>\n",
       "</div>"
      ],
      "text/plain": [
       "   age  gender  size  breeds.primary  breeds.mixed  breeds.unknown  \\\n",
       "0  0.0     1.0   3.0            19.0           0.0             0.0   \n",
       "1  3.0     0.0   2.0            21.0           0.0             0.0   \n",
       "2  1.0     0.0   3.0            58.0           0.0             0.0   \n",
       "\n",
       "   colors.primary  attributes.spayed_neutered  attributes.house_trained  \\\n",
       "0             0.0                         1.0                       0.0   \n",
       "1             0.0                         1.0                       1.0   \n",
       "2             1.0                         0.0                       1.0   \n",
       "\n",
       "   attributes.declawed  attributes.special_needs  attributes.shots_current  \n",
       "0                  0.0                       0.0                       1.0  \n",
       "1                  0.0                       0.0                       1.0  \n",
       "2                  0.0                       0.0                       1.0  "
      ]
     },
     "execution_count": 115,
     "metadata": {},
     "output_type": "execute_result"
    }
   ],
   "source": [
    "x_train_test.head(3)"
   ]
  },
  {
   "cell_type": "code",
   "execution_count": 61,
   "id": "9b1d4d1c",
   "metadata": {},
   "outputs": [],
   "source": [
    "model = Pipeline(\n",
    "    steps=[(\"preprocessor\", preprocessor),\n",
    "           (\"model\", ContentBasedRecommendor)\n",
    "          ])"
   ]
  },
  {
   "cell_type": "markdown",
   "id": "1130358e",
   "metadata": {},
   "source": [
    "## Run Modeling Pipeline <a id='run_pipeline'></a>"
   ]
  },
  {
   "cell_type": "code",
   "execution_count": 79,
   "id": "19d2572e",
   "metadata": {},
   "outputs": [],
   "source": [
    "from sklearn.model_selection import train_test_split\n",
    "\n",
    "# split data\n",
    "x, x_test = train_test_split(X,test_size=0.1,train_size=0.9)\n",
    "x_train, x_dev = train_test_split(x,test_size = 0.1,train_size =0.9)"
   ]
  },
  {
   "cell_type": "code",
   "execution_count": 80,
   "id": "a9124c19",
   "metadata": {},
   "outputs": [
    {
     "data": {
      "text/plain": [
       "(40176, 13)"
      ]
     },
     "execution_count": 80,
     "metadata": {},
     "output_type": "execute_result"
    }
   ],
   "source": [
    "x_train.shape"
   ]
  },
  {
   "cell_type": "code",
   "execution_count": 81,
   "id": "0d124d34",
   "metadata": {},
   "outputs": [
    {
     "data": {
      "text/plain": [
       "(4464, 13)"
      ]
     },
     "execution_count": 81,
     "metadata": {},
     "output_type": "execute_result"
    }
   ],
   "source": [
    "x_dev.shape"
   ]
  },
  {
   "cell_type": "code",
   "execution_count": 82,
   "id": "c6b5e6b4",
   "metadata": {},
   "outputs": [
    {
     "data": {
      "text/plain": [
       "(4960, 13)"
      ]
     },
     "execution_count": 82,
     "metadata": {},
     "output_type": "execute_result"
    }
   ],
   "source": [
    "x_test.shape"
   ]
  },
  {
   "cell_type": "code",
   "execution_count": 83,
   "id": "208c25eb",
   "metadata": {},
   "outputs": [
    {
     "ename": "TypeError",
     "evalue": "All estimators should implement fit and transform, or can be 'drop' or 'passthrough' specifiers. '<function <lambda> at 0x7f27e073aca0>' (type <class 'function'>) doesn't.",
     "output_type": "error",
     "traceback": [
      "\u001b[0;31m---------------------------------------------------------------------------\u001b[0m",
      "\u001b[0;31mTypeError\u001b[0m                                 Traceback (most recent call last)",
      "Cell \u001b[0;32mIn [83], line 1\u001b[0m\n\u001b[0;32m----> 1\u001b[0m \u001b[43mmodel\u001b[49m\u001b[38;5;241;43m.\u001b[39;49m\u001b[43mfit\u001b[49m\u001b[43m(\u001b[49m\u001b[43mx_train\u001b[49m\u001b[43m)\u001b[49m\n",
      "File \u001b[0;32m~/anaconda3/envs/petmatchEDA/lib/python3.8/site-packages/sklearn/pipeline.py:382\u001b[0m, in \u001b[0;36mPipeline.fit\u001b[0;34m(self, X, y, **fit_params)\u001b[0m\n\u001b[1;32m    380\u001b[0m     \u001b[38;5;28;01mif\u001b[39;00m \u001b[38;5;28mself\u001b[39m\u001b[38;5;241m.\u001b[39m_final_estimator \u001b[38;5;241m!=\u001b[39m \u001b[38;5;124m\"\u001b[39m\u001b[38;5;124mpassthrough\u001b[39m\u001b[38;5;124m\"\u001b[39m:\n\u001b[1;32m    381\u001b[0m         fit_params_last_step \u001b[38;5;241m=\u001b[39m fit_params_steps[\u001b[38;5;28mself\u001b[39m\u001b[38;5;241m.\u001b[39msteps[\u001b[38;5;241m-\u001b[39m\u001b[38;5;241m1\u001b[39m][\u001b[38;5;241m0\u001b[39m]]\n\u001b[0;32m--> 382\u001b[0m         \u001b[38;5;28;43mself\u001b[39;49m\u001b[38;5;241;43m.\u001b[39;49m\u001b[43m_final_estimator\u001b[49m\u001b[38;5;241;43m.\u001b[39;49m\u001b[43mfit\u001b[49m\u001b[43m(\u001b[49m\u001b[43mXt\u001b[49m\u001b[43m,\u001b[49m\u001b[43m \u001b[49m\u001b[43my\u001b[49m\u001b[43m,\u001b[49m\u001b[43m \u001b[49m\u001b[38;5;241;43m*\u001b[39;49m\u001b[38;5;241;43m*\u001b[39;49m\u001b[43mfit_params_last_step\u001b[49m\u001b[43m)\u001b[49m\n\u001b[1;32m    384\u001b[0m \u001b[38;5;28;01mreturn\u001b[39;00m \u001b[38;5;28mself\u001b[39m\n",
      "File \u001b[0;32m~/anaconda3/envs/petmatchEDA/lib/python3.8/site-packages/sklearn/compose/_column_transformer.py:657\u001b[0m, in \u001b[0;36mColumnTransformer.fit\u001b[0;34m(self, X, y)\u001b[0m\n\u001b[1;32m    639\u001b[0m \u001b[38;5;124;03m\"\"\"Fit all transformers using X.\u001b[39;00m\n\u001b[1;32m    640\u001b[0m \n\u001b[1;32m    641\u001b[0m \u001b[38;5;124;03mParameters\u001b[39;00m\n\u001b[0;32m   (...)\u001b[0m\n\u001b[1;32m    653\u001b[0m \u001b[38;5;124;03m    This estimator.\u001b[39;00m\n\u001b[1;32m    654\u001b[0m \u001b[38;5;124;03m\"\"\"\u001b[39;00m\n\u001b[1;32m    655\u001b[0m \u001b[38;5;66;03m# we use fit_transform to make sure to set sparse_output_ (for which we\u001b[39;00m\n\u001b[1;32m    656\u001b[0m \u001b[38;5;66;03m# need the transformed data) to have consistent output type in predict\u001b[39;00m\n\u001b[0;32m--> 657\u001b[0m \u001b[38;5;28;43mself\u001b[39;49m\u001b[38;5;241;43m.\u001b[39;49m\u001b[43mfit_transform\u001b[49m\u001b[43m(\u001b[49m\u001b[43mX\u001b[49m\u001b[43m,\u001b[49m\u001b[43m \u001b[49m\u001b[43my\u001b[49m\u001b[38;5;241;43m=\u001b[39;49m\u001b[43my\u001b[49m\u001b[43m)\u001b[49m\n\u001b[1;32m    658\u001b[0m \u001b[38;5;28;01mreturn\u001b[39;00m \u001b[38;5;28mself\u001b[39m\n",
      "File \u001b[0;32m~/anaconda3/envs/petmatchEDA/lib/python3.8/site-packages/sklearn/compose/_column_transformer.py:686\u001b[0m, in \u001b[0;36mColumnTransformer.fit_transform\u001b[0;34m(self, X, y)\u001b[0m\n\u001b[1;32m    684\u001b[0m \u001b[38;5;66;03m# set n_features_in_ attribute\u001b[39;00m\n\u001b[1;32m    685\u001b[0m \u001b[38;5;28mself\u001b[39m\u001b[38;5;241m.\u001b[39m_check_n_features(X, reset\u001b[38;5;241m=\u001b[39m\u001b[38;5;28;01mTrue\u001b[39;00m)\n\u001b[0;32m--> 686\u001b[0m \u001b[38;5;28;43mself\u001b[39;49m\u001b[38;5;241;43m.\u001b[39;49m\u001b[43m_validate_transformers\u001b[49m\u001b[43m(\u001b[49m\u001b[43m)\u001b[49m\n\u001b[1;32m    687\u001b[0m \u001b[38;5;28mself\u001b[39m\u001b[38;5;241m.\u001b[39m_validate_column_callables(X)\n\u001b[1;32m    688\u001b[0m \u001b[38;5;28mself\u001b[39m\u001b[38;5;241m.\u001b[39m_validate_remainder(X)\n",
      "File \u001b[0;32m~/anaconda3/envs/petmatchEDA/lib/python3.8/site-packages/sklearn/compose/_column_transformer.py:358\u001b[0m, in \u001b[0;36mColumnTransformer._validate_transformers\u001b[0;34m(self)\u001b[0m\n\u001b[1;32m    354\u001b[0m     \u001b[38;5;28;01mcontinue\u001b[39;00m\n\u001b[1;32m    355\u001b[0m \u001b[38;5;28;01mif\u001b[39;00m \u001b[38;5;129;01mnot\u001b[39;00m (\u001b[38;5;28mhasattr\u001b[39m(t, \u001b[38;5;124m\"\u001b[39m\u001b[38;5;124mfit\u001b[39m\u001b[38;5;124m\"\u001b[39m) \u001b[38;5;129;01mor\u001b[39;00m \u001b[38;5;28mhasattr\u001b[39m(t, \u001b[38;5;124m\"\u001b[39m\u001b[38;5;124mfit_transform\u001b[39m\u001b[38;5;124m\"\u001b[39m)) \u001b[38;5;129;01mor\u001b[39;00m \u001b[38;5;129;01mnot\u001b[39;00m \u001b[38;5;28mhasattr\u001b[39m(\n\u001b[1;32m    356\u001b[0m     t, \u001b[38;5;124m\"\u001b[39m\u001b[38;5;124mtransform\u001b[39m\u001b[38;5;124m\"\u001b[39m\n\u001b[1;32m    357\u001b[0m ):\n\u001b[0;32m--> 358\u001b[0m     \u001b[38;5;28;01mraise\u001b[39;00m \u001b[38;5;167;01mTypeError\u001b[39;00m(\n\u001b[1;32m    359\u001b[0m         \u001b[38;5;124m\"\u001b[39m\u001b[38;5;124mAll estimators should implement fit and \u001b[39m\u001b[38;5;124m\"\u001b[39m\n\u001b[1;32m    360\u001b[0m         \u001b[38;5;124m\"\u001b[39m\u001b[38;5;124mtransform, or can be \u001b[39m\u001b[38;5;124m'\u001b[39m\u001b[38;5;124mdrop\u001b[39m\u001b[38;5;124m'\u001b[39m\u001b[38;5;124m or \u001b[39m\u001b[38;5;124m'\u001b[39m\u001b[38;5;124mpassthrough\u001b[39m\u001b[38;5;124m'\u001b[39m\u001b[38;5;124m \u001b[39m\u001b[38;5;124m\"\u001b[39m\n\u001b[1;32m    361\u001b[0m         \u001b[38;5;124m\"\u001b[39m\u001b[38;5;124mspecifiers. \u001b[39m\u001b[38;5;124m'\u001b[39m\u001b[38;5;132;01m%s\u001b[39;00m\u001b[38;5;124m'\u001b[39m\u001b[38;5;124m (type \u001b[39m\u001b[38;5;132;01m%s\u001b[39;00m\u001b[38;5;124m) doesn\u001b[39m\u001b[38;5;124m'\u001b[39m\u001b[38;5;124mt.\u001b[39m\u001b[38;5;124m\"\u001b[39m \u001b[38;5;241m%\u001b[39m (t, \u001b[38;5;28mtype\u001b[39m(t))\n\u001b[1;32m    362\u001b[0m     )\n",
      "\u001b[0;31mTypeError\u001b[0m: All estimators should implement fit and transform, or can be 'drop' or 'passthrough' specifiers. '<function <lambda> at 0x7f27e073aca0>' (type <class 'function'>) doesn't."
     ]
    }
   ],
   "source": [
    "model.fit(x_train)"
   ]
  },
  {
   "cell_type": "code",
   "execution_count": null,
   "id": "79a76be8",
   "metadata": {},
   "outputs": [],
   "source": []
  }
 ],
 "metadata": {
  "kernelspec": {
   "display_name": "Python [conda env:petmatchEDA] *",
   "language": "python",
   "name": "conda-env-petmatchEDA-py"
  },
  "language_info": {
   "codemirror_mode": {
    "name": "ipython",
    "version": 3
   },
   "file_extension": ".py",
   "mimetype": "text/x-python",
   "name": "python",
   "nbconvert_exporter": "python",
   "pygments_lexer": "ipython3",
   "version": "3.8.13"
  }
 },
 "nbformat": 4,
 "nbformat_minor": 5
}
