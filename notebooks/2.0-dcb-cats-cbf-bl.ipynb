{
 "cells": [
  {
   "cell_type": "markdown",
   "id": "98c8e0f1",
   "metadata": {},
   "source": [
    "This workbook implements Context Based Filtering for a Cats Recommendation System, working from the raw data all the way to model creation and initial results."
   ]
  },
  {
   "cell_type": "markdown",
   "id": "3e442445",
   "metadata": {},
   "source": [
    "# Table of Contents"
   ]
  },
  {
   "cell_type": "markdown",
   "id": "49989959",
   "metadata": {},
   "source": [
    "* [Load in Data and Segment Features from Context data](#segment)\n",
    "* [Pre-process feature data](#pre-process)\n",
    "    - [Recheck sweetviz for distinct values and types](#sweet)\n",
    "    - [Make Pipeline](#pp_pipeline)\n",
    "* [Run Modeling Pipeline](#run_pipeline)\n",
    "* [Conclusion and Next Steps](#conclusion)"
   ]
  },
  {
   "cell_type": "markdown",
   "id": "c48066ef",
   "metadata": {},
   "source": [
    "# Load in Data and Segment Features from Context data<a id='segment'></a>"
   ]
  },
  {
   "cell_type": "markdown",
   "id": "bb8e64a4",
   "metadata": {},
   "source": [
    "First, we load all of our adoptable cats."
   ]
  },
  {
   "cell_type": "code",
   "execution_count": 1,
   "id": "587c8cdd",
   "metadata": {},
   "outputs": [
    {
     "name": "stderr",
     "output_type": "stream",
     "text": [
      "/tmp/ipykernel_3204/1936917073.py:2: DtypeWarning: Columns (42) have mixed types. Specify dtype option on import or set low_memory=False.\n",
      "  cats_DF = pd.read_csv(\"../data/raw/version0_5/Adoptable_cats_20221125.csv\",header=0,index_col=0)\n"
     ]
    },
    {
     "data": {
      "text/plain": [
       "(49600, 50)"
      ]
     },
     "execution_count": 1,
     "metadata": {},
     "output_type": "execute_result"
    }
   ],
   "source": [
    "import pandas as pd\n",
    "cats_DF = pd.read_csv(\"../data/raw/version0_5/Adoptable_cats_20221125.csv\",header=0,index_col=0)\n",
    "cats_DF.shape"
   ]
  },
  {
   "cell_type": "code",
   "execution_count": 2,
   "id": "2a846e95",
   "metadata": {},
   "outputs": [
    {
     "data": {
      "text/html": [
       "<div>\n",
       "<style scoped>\n",
       "    .dataframe tbody tr th:only-of-type {\n",
       "        vertical-align: middle;\n",
       "    }\n",
       "\n",
       "    .dataframe tbody tr th {\n",
       "        vertical-align: top;\n",
       "    }\n",
       "\n",
       "    .dataframe thead th {\n",
       "        text-align: right;\n",
       "    }\n",
       "</style>\n",
       "<table border=\"1\" class=\"dataframe\">\n",
       "  <thead>\n",
       "    <tr style=\"text-align: right;\">\n",
       "      <th></th>\n",
       "      <th>id</th>\n",
       "      <th>organization_id</th>\n",
       "      <th>url</th>\n",
       "      <th>type</th>\n",
       "      <th>species</th>\n",
       "      <th>age</th>\n",
       "      <th>gender</th>\n",
       "      <th>size</th>\n",
       "      <th>coat</th>\n",
       "      <th>tags</th>\n",
       "      <th>name</th>\n",
       "      <th>description</th>\n",
       "      <th>organization_animal_id</th>\n",
       "      <th>photos</th>\n",
       "      <th>primary_photo_cropped</th>\n",
       "      <th>videos</th>\n",
       "      <th>status</th>\n",
       "      <th>status_changed_at</th>\n",
       "      <th>published_at</th>\n",
       "      <th>distance</th>\n",
       "      <th>breeds.primary</th>\n",
       "      <th>breeds.secondary</th>\n",
       "      <th>breeds.mixed</th>\n",
       "      <th>breeds.unknown</th>\n",
       "      <th>colors.primary</th>\n",
       "      <th>colors.secondary</th>\n",
       "      <th>colors.tertiary</th>\n",
       "      <th>attributes.spayed_neutered</th>\n",
       "      <th>attributes.house_trained</th>\n",
       "      <th>attributes.declawed</th>\n",
       "      <th>attributes.special_needs</th>\n",
       "      <th>attributes.shots_current</th>\n",
       "      <th>environment.children</th>\n",
       "      <th>environment.dogs</th>\n",
       "      <th>environment.cats</th>\n",
       "      <th>contact.email</th>\n",
       "      <th>contact.phone</th>\n",
       "      <th>contact.address.address1</th>\n",
       "      <th>contact.address.address2</th>\n",
       "      <th>contact.address.city</th>\n",
       "      <th>contact.address.state</th>\n",
       "      <th>contact.address.postcode</th>\n",
       "      <th>contact.address.country</th>\n",
       "      <th>animal_id</th>\n",
       "      <th>animal_type</th>\n",
       "      <th>organization_id.1</th>\n",
       "      <th>primary_photo_cropped.small</th>\n",
       "      <th>primary_photo_cropped.medium</th>\n",
       "      <th>primary_photo_cropped.large</th>\n",
       "      <th>primary_photo_cropped.full</th>\n",
       "    </tr>\n",
       "  </thead>\n",
       "  <tbody>\n",
       "    <tr>\n",
       "      <th>6913</th>\n",
       "      <td>58957689</td>\n",
       "      <td>IL252</td>\n",
       "      <td>https://www.petfinder.com/cat/katara-58957689/...</td>\n",
       "      <td>Cat</td>\n",
       "      <td>Cat</td>\n",
       "      <td>Baby</td>\n",
       "      <td>Female</td>\n",
       "      <td>Small</td>\n",
       "      <td>Short</td>\n",
       "      <td>['Friendly', 'Affectionate', 'Playful', 'Funny...</td>\n",
       "      <td>Katara</td>\n",
       "      <td>Katara is an adorable 4 month old tabby on the...</td>\n",
       "      <td>NaN</td>\n",
       "      <td>[{'small': 'https://dl5zpyw5k3jeb.cloudfront.n...</td>\n",
       "      <td>NaN</td>\n",
       "      <td>[]</td>\n",
       "      <td>adoptable</td>\n",
       "      <td>2022-11-24T16:34:09+0000</td>\n",
       "      <td>2022-11-24T16:34:08+0000</td>\n",
       "      <td>NaN</td>\n",
       "      <td>Domestic Short Hair</td>\n",
       "      <td>NaN</td>\n",
       "      <td>True</td>\n",
       "      <td>False</td>\n",
       "      <td>Tabby (Brown / Chocolate)</td>\n",
       "      <td>Tabby (Buff / Tan / Fawn)</td>\n",
       "      <td>NaN</td>\n",
       "      <td>True</td>\n",
       "      <td>True</td>\n",
       "      <td>False</td>\n",
       "      <td>False</td>\n",
       "      <td>True</td>\n",
       "      <td>True</td>\n",
       "      <td>NaN</td>\n",
       "      <td>True</td>\n",
       "      <td>catnapvet@yahoo.com</td>\n",
       "      <td>NaN</td>\n",
       "      <td>1101 Beach Avenue</td>\n",
       "      <td>NaN</td>\n",
       "      <td>LaGrange Park</td>\n",
       "      <td>IL</td>\n",
       "      <td>60526</td>\n",
       "      <td>US</td>\n",
       "      <td>58957689</td>\n",
       "      <td>cat</td>\n",
       "      <td>il252</td>\n",
       "      <td>https://dl5zpyw5k3jeb.cloudfront.net/photos/pe...</td>\n",
       "      <td>https://dl5zpyw5k3jeb.cloudfront.net/photos/pe...</td>\n",
       "      <td>https://dl5zpyw5k3jeb.cloudfront.net/photos/pe...</td>\n",
       "      <td>https://dl5zpyw5k3jeb.cloudfront.net/photos/pe...</td>\n",
       "    </tr>\n",
       "    <tr>\n",
       "      <th>46296</th>\n",
       "      <td>58694664</td>\n",
       "      <td>NV234</td>\n",
       "      <td>https://www.petfinder.com/cat/minina-58694664/...</td>\n",
       "      <td>Cat</td>\n",
       "      <td>Cat</td>\n",
       "      <td>Adult</td>\n",
       "      <td>Female</td>\n",
       "      <td>Medium</td>\n",
       "      <td>NaN</td>\n",
       "      <td>[]</td>\n",
       "      <td>Minina</td>\n",
       "      <td>NaN</td>\n",
       "      <td>C2022145</td>\n",
       "      <td>[{'small': 'https://dl5zpyw5k3jeb.cloudfront.n...</td>\n",
       "      <td>NaN</td>\n",
       "      <td>[]</td>\n",
       "      <td>adoptable</td>\n",
       "      <td>2022-10-29T01:12:44+0000</td>\n",
       "      <td>2022-10-29T01:12:44+0000</td>\n",
       "      <td>NaN</td>\n",
       "      <td>Domestic Short Hair</td>\n",
       "      <td>NaN</td>\n",
       "      <td>False</td>\n",
       "      <td>False</td>\n",
       "      <td>NaN</td>\n",
       "      <td>NaN</td>\n",
       "      <td>NaN</td>\n",
       "      <td>True</td>\n",
       "      <td>True</td>\n",
       "      <td>False</td>\n",
       "      <td>False</td>\n",
       "      <td>True</td>\n",
       "      <td>NaN</td>\n",
       "      <td>NaN</td>\n",
       "      <td>True</td>\n",
       "      <td>info@rtcatcafe.org</td>\n",
       "      <td>(702) 629-6351</td>\n",
       "      <td>4155 N Rancho Dr</td>\n",
       "      <td>#105</td>\n",
       "      <td>Las Vegas</td>\n",
       "      <td>NV</td>\n",
       "      <td>89130</td>\n",
       "      <td>US</td>\n",
       "      <td>58694664</td>\n",
       "      <td>cat</td>\n",
       "      <td>nv234</td>\n",
       "      <td>https://dl5zpyw5k3jeb.cloudfront.net/photos/pe...</td>\n",
       "      <td>https://dl5zpyw5k3jeb.cloudfront.net/photos/pe...</td>\n",
       "      <td>https://dl5zpyw5k3jeb.cloudfront.net/photos/pe...</td>\n",
       "      <td>https://dl5zpyw5k3jeb.cloudfront.net/photos/pe...</td>\n",
       "    </tr>\n",
       "    <tr>\n",
       "      <th>606</th>\n",
       "      <td>58978934</td>\n",
       "      <td>GA788</td>\n",
       "      <td>https://www.petfinder.com/cat/frankie-58978934...</td>\n",
       "      <td>Cat</td>\n",
       "      <td>Cat</td>\n",
       "      <td>Baby</td>\n",
       "      <td>Male</td>\n",
       "      <td>Medium</td>\n",
       "      <td>NaN</td>\n",
       "      <td>[]</td>\n",
       "      <td>Frankie</td>\n",
       "      <td>Frankie is a soft little love bug. He was the ...</td>\n",
       "      <td>RF22-580</td>\n",
       "      <td>[{'small': 'https://dl5zpyw5k3jeb.cloudfront.n...</td>\n",
       "      <td>NaN</td>\n",
       "      <td>[]</td>\n",
       "      <td>adoptable</td>\n",
       "      <td>2022-11-27T22:10:37+0000</td>\n",
       "      <td>2022-11-27T22:10:35+0000</td>\n",
       "      <td>NaN</td>\n",
       "      <td>Domestic Short Hair</td>\n",
       "      <td>NaN</td>\n",
       "      <td>False</td>\n",
       "      <td>False</td>\n",
       "      <td>NaN</td>\n",
       "      <td>NaN</td>\n",
       "      <td>NaN</td>\n",
       "      <td>False</td>\n",
       "      <td>True</td>\n",
       "      <td>False</td>\n",
       "      <td>False</td>\n",
       "      <td>False</td>\n",
       "      <td>True</td>\n",
       "      <td>NaN</td>\n",
       "      <td>True</td>\n",
       "      <td>kittykonnection12@gmail.com</td>\n",
       "      <td>NaN</td>\n",
       "      <td>NaN</td>\n",
       "      <td>NaN</td>\n",
       "      <td>Evans</td>\n",
       "      <td>GA</td>\n",
       "      <td>30809</td>\n",
       "      <td>US</td>\n",
       "      <td>58978934</td>\n",
       "      <td>cat</td>\n",
       "      <td>ga788</td>\n",
       "      <td>https://dl5zpyw5k3jeb.cloudfront.net/photos/pe...</td>\n",
       "      <td>https://dl5zpyw5k3jeb.cloudfront.net/photos/pe...</td>\n",
       "      <td>https://dl5zpyw5k3jeb.cloudfront.net/photos/pe...</td>\n",
       "      <td>https://dl5zpyw5k3jeb.cloudfront.net/photos/pe...</td>\n",
       "    </tr>\n",
       "  </tbody>\n",
       "</table>\n",
       "</div>"
      ],
      "text/plain": [
       "             id organization_id  \\\n",
       "6913   58957689           IL252   \n",
       "46296  58694664           NV234   \n",
       "606    58978934           GA788   \n",
       "\n",
       "                                                     url type species    age  \\\n",
       "6913   https://www.petfinder.com/cat/katara-58957689/...  Cat     Cat   Baby   \n",
       "46296  https://www.petfinder.com/cat/minina-58694664/...  Cat     Cat  Adult   \n",
       "606    https://www.petfinder.com/cat/frankie-58978934...  Cat     Cat   Baby   \n",
       "\n",
       "       gender    size   coat  \\\n",
       "6913   Female   Small  Short   \n",
       "46296  Female  Medium    NaN   \n",
       "606      Male  Medium    NaN   \n",
       "\n",
       "                                                    tags     name  \\\n",
       "6913   ['Friendly', 'Affectionate', 'Playful', 'Funny...   Katara   \n",
       "46296                                                 []   Minina   \n",
       "606                                                   []  Frankie   \n",
       "\n",
       "                                             description  \\\n",
       "6913   Katara is an adorable 4 month old tabby on the...   \n",
       "46296                                                NaN   \n",
       "606    Frankie is a soft little love bug. He was the ...   \n",
       "\n",
       "      organization_animal_id  \\\n",
       "6913                     NaN   \n",
       "46296               C2022145   \n",
       "606                 RF22-580   \n",
       "\n",
       "                                                  photos  \\\n",
       "6913   [{'small': 'https://dl5zpyw5k3jeb.cloudfront.n...   \n",
       "46296  [{'small': 'https://dl5zpyw5k3jeb.cloudfront.n...   \n",
       "606    [{'small': 'https://dl5zpyw5k3jeb.cloudfront.n...   \n",
       "\n",
       "       primary_photo_cropped videos     status         status_changed_at  \\\n",
       "6913                     NaN     []  adoptable  2022-11-24T16:34:09+0000   \n",
       "46296                    NaN     []  adoptable  2022-10-29T01:12:44+0000   \n",
       "606                      NaN     []  adoptable  2022-11-27T22:10:37+0000   \n",
       "\n",
       "                   published_at  distance       breeds.primary  \\\n",
       "6913   2022-11-24T16:34:08+0000       NaN  Domestic Short Hair   \n",
       "46296  2022-10-29T01:12:44+0000       NaN  Domestic Short Hair   \n",
       "606    2022-11-27T22:10:35+0000       NaN  Domestic Short Hair   \n",
       "\n",
       "      breeds.secondary  breeds.mixed  breeds.unknown  \\\n",
       "6913               NaN          True           False   \n",
       "46296              NaN         False           False   \n",
       "606                NaN         False           False   \n",
       "\n",
       "                  colors.primary           colors.secondary colors.tertiary  \\\n",
       "6913   Tabby (Brown / Chocolate)  Tabby (Buff / Tan / Fawn)             NaN   \n",
       "46296                        NaN                        NaN             NaN   \n",
       "606                          NaN                        NaN             NaN   \n",
       "\n",
       "       attributes.spayed_neutered  attributes.house_trained  \\\n",
       "6913                         True                      True   \n",
       "46296                        True                      True   \n",
       "606                         False                      True   \n",
       "\n",
       "       attributes.declawed  attributes.special_needs  \\\n",
       "6913                 False                     False   \n",
       "46296                False                     False   \n",
       "606                  False                     False   \n",
       "\n",
       "       attributes.shots_current environment.children environment.dogs  \\\n",
       "6913                       True                 True              NaN   \n",
       "46296                      True                  NaN              NaN   \n",
       "606                       False                 True              NaN   \n",
       "\n",
       "      environment.cats                contact.email   contact.phone  \\\n",
       "6913              True          catnapvet@yahoo.com             NaN   \n",
       "46296             True           info@rtcatcafe.org  (702) 629-6351   \n",
       "606               True  kittykonnection12@gmail.com             NaN   \n",
       "\n",
       "      contact.address.address1 contact.address.address2 contact.address.city  \\\n",
       "6913         1101 Beach Avenue                      NaN        LaGrange Park   \n",
       "46296         4155 N Rancho Dr                     #105            Las Vegas   \n",
       "606                        NaN                      NaN                Evans   \n",
       "\n",
       "      contact.address.state contact.address.postcode contact.address.country  \\\n",
       "6913                     IL                    60526                      US   \n",
       "46296                    NV                    89130                      US   \n",
       "606                      GA                    30809                      US   \n",
       "\n",
       "       animal_id animal_type organization_id.1  \\\n",
       "6913    58957689         cat             il252   \n",
       "46296   58694664         cat             nv234   \n",
       "606     58978934         cat             ga788   \n",
       "\n",
       "                             primary_photo_cropped.small  \\\n",
       "6913   https://dl5zpyw5k3jeb.cloudfront.net/photos/pe...   \n",
       "46296  https://dl5zpyw5k3jeb.cloudfront.net/photos/pe...   \n",
       "606    https://dl5zpyw5k3jeb.cloudfront.net/photos/pe...   \n",
       "\n",
       "                            primary_photo_cropped.medium  \\\n",
       "6913   https://dl5zpyw5k3jeb.cloudfront.net/photos/pe...   \n",
       "46296  https://dl5zpyw5k3jeb.cloudfront.net/photos/pe...   \n",
       "606    https://dl5zpyw5k3jeb.cloudfront.net/photos/pe...   \n",
       "\n",
       "                             primary_photo_cropped.large  \\\n",
       "6913   https://dl5zpyw5k3jeb.cloudfront.net/photos/pe...   \n",
       "46296  https://dl5zpyw5k3jeb.cloudfront.net/photos/pe...   \n",
       "606    https://dl5zpyw5k3jeb.cloudfront.net/photos/pe...   \n",
       "\n",
       "                              primary_photo_cropped.full  \n",
       "6913   https://dl5zpyw5k3jeb.cloudfront.net/photos/pe...  \n",
       "46296  https://dl5zpyw5k3jeb.cloudfront.net/photos/pe...  \n",
       "606    https://dl5zpyw5k3jeb.cloudfront.net/photos/pe...  "
      ]
     },
     "execution_count": 2,
     "metadata": {},
     "output_type": "execute_result"
    }
   ],
   "source": [
    "pd.set_option('display.max_columns', 500)\n",
    "cats_DF.sample(3)"
   ]
  },
  {
   "cell_type": "code",
   "execution_count": 3,
   "id": "d1476c4b",
   "metadata": {},
   "outputs": [
    {
     "data": {
      "text/plain": [
       "Index(['id', 'organization_id', 'url', 'type', 'species', 'age', 'gender',\n",
       "       'size', 'coat', 'tags', 'name', 'description', 'organization_animal_id',\n",
       "       'photos', 'primary_photo_cropped', 'videos', 'status',\n",
       "       'status_changed_at', 'published_at', 'distance', 'breeds.primary',\n",
       "       'breeds.secondary', 'breeds.mixed', 'breeds.unknown', 'colors.primary',\n",
       "       'colors.secondary', 'colors.tertiary', 'attributes.spayed_neutered',\n",
       "       'attributes.house_trained', 'attributes.declawed',\n",
       "       'attributes.special_needs', 'attributes.shots_current',\n",
       "       'environment.children', 'environment.dogs', 'environment.cats',\n",
       "       'contact.email', 'contact.phone', 'contact.address.address1',\n",
       "       'contact.address.address2', 'contact.address.city',\n",
       "       'contact.address.state', 'contact.address.postcode',\n",
       "       'contact.address.country', 'animal_id', 'animal_type',\n",
       "       'organization_id.1', 'primary_photo_cropped.small',\n",
       "       'primary_photo_cropped.medium', 'primary_photo_cropped.large',\n",
       "       'primary_photo_cropped.full'],\n",
       "      dtype='object')"
      ]
     },
     "execution_count": 3,
     "metadata": {},
     "output_type": "execute_result"
    }
   ],
   "source": [
    "cats_DF.columns"
   ]
  },
  {
   "cell_type": "markdown",
   "id": "6a589631",
   "metadata": {},
   "source": [
    "Drop animals with no pictures since they are key to our 'tinder-like' app experience."
   ]
  },
  {
   "cell_type": "code",
   "execution_count": 4,
   "id": "1a6d7d7a",
   "metadata": {},
   "outputs": [
    {
     "data": {
      "text/plain": [
       "(46805, 50)"
      ]
     },
     "execution_count": 4,
     "metadata": {},
     "output_type": "execute_result"
    }
   ],
   "source": [
    "cats_DF = cats_DF.dropna(subset=['primary_photo_cropped.full'])# drop rows with 0 pictures\n",
    "cats_DF.shape # matches na count via sweet viz for cats"
   ]
  },
  {
   "cell_type": "markdown",
   "id": "6ca9236a",
   "metadata": {},
   "source": [
    "Next we seperate the dataframe into features to model over and context data that can be shown to the user for any matches. 'ID' will be our shared key between the two tables.\n",
    "\n",
    "Of note, the 'distance' field and 'primary_photo_cropped.full' field will be useful data for future model enhancements. For the model baseline, we will simply use textual data and assume a 0 distance for all pets."
   ]
  },
  {
   "cell_type": "code",
   "execution_count": 5,
   "id": "0d42174b",
   "metadata": {},
   "outputs": [
    {
     "data": {
      "text/plain": [
       "(46805, 22)"
      ]
     },
     "execution_count": 5,
     "metadata": {},
     "output_type": "execute_result"
    }
   ],
   "source": [
    "contextCols = ['id','organization_id','url','type','tags','name','description','organization_animal_id',\n",
    "              'photos','primary_photo_cropped','videos','status','status_changed_at','published_at',\n",
    "              'distance','contact.email', 'contact.phone', 'contact.address.address1',\n",
    "               'contact.address.address2', 'contact.address.city','contact.address.state', \n",
    "               'contact.address.postcode','contact.address.country', 'animal_id', 'animal_type',\n",
    "               'organization_id.1', 'primary_photo_cropped.small','primary_photo_cropped.medium',\n",
    "               'primary_photo_cropped.large','primary_photo_cropped.full']\n",
    "featureCols = ['id','age','gender','size','coat','breeds.primary', 'breeds.secondary','breeds.mixed',\n",
    "              'breeds.unknown','colors.primary','colors.secondary','colors.tertiary',\n",
    "              'attributes.spayed_neutered','attributes.house_trained','attributes.declawed',\n",
    "              'attributes.special_needs','attributes.shots_current','environment.children',\n",
    "              'environment.dogs','environment.cats','type','contact.address.postcode']\n",
    "cats_DF_features = cats_DF[featureCols]\n",
    "cats_DF_context = cats_DF[contextCols]\n",
    "cats_DF_features.shape"
   ]
  },
  {
   "cell_type": "markdown",
   "id": "5d2a8099",
   "metadata": {},
   "source": [
    "Let's sanity check our missing values now that we just have cats and remove any columns with too many missing values."
   ]
  },
  {
   "cell_type": "code",
   "execution_count": 6,
   "id": "ffffe740",
   "metadata": {},
   "outputs": [],
   "source": [
    "valueCounts = cats_DF_features.set_index('type').isna().groupby(level=0).sum()/cats_DF_features.shape[0] # level=0 refers to our index, which we made 'type'\n"
   ]
  },
  {
   "cell_type": "code",
   "execution_count": 7,
   "id": "9452362a",
   "metadata": {},
   "outputs": [
    {
     "data": {
      "text/html": [
       "<div>\n",
       "<style scoped>\n",
       "    .dataframe tbody tr th:only-of-type {\n",
       "        vertical-align: middle;\n",
       "    }\n",
       "\n",
       "    .dataframe tbody tr th {\n",
       "        vertical-align: top;\n",
       "    }\n",
       "\n",
       "    .dataframe thead th {\n",
       "        text-align: right;\n",
       "    }\n",
       "</style>\n",
       "<table border=\"1\" class=\"dataframe\">\n",
       "  <thead>\n",
       "    <tr style=\"text-align: right;\">\n",
       "      <th></th>\n",
       "      <th>id</th>\n",
       "      <th>age</th>\n",
       "      <th>gender</th>\n",
       "      <th>size</th>\n",
       "      <th>coat</th>\n",
       "      <th>breeds.primary</th>\n",
       "      <th>breeds.secondary</th>\n",
       "      <th>breeds.mixed</th>\n",
       "      <th>breeds.unknown</th>\n",
       "      <th>colors.primary</th>\n",
       "      <th>colors.secondary</th>\n",
       "      <th>colors.tertiary</th>\n",
       "      <th>attributes.spayed_neutered</th>\n",
       "      <th>attributes.house_trained</th>\n",
       "      <th>attributes.declawed</th>\n",
       "      <th>attributes.special_needs</th>\n",
       "      <th>attributes.shots_current</th>\n",
       "      <th>environment.children</th>\n",
       "      <th>environment.dogs</th>\n",
       "      <th>environment.cats</th>\n",
       "      <th>contact.address.postcode</th>\n",
       "    </tr>\n",
       "    <tr>\n",
       "      <th>type</th>\n",
       "      <th></th>\n",
       "      <th></th>\n",
       "      <th></th>\n",
       "      <th></th>\n",
       "      <th></th>\n",
       "      <th></th>\n",
       "      <th></th>\n",
       "      <th></th>\n",
       "      <th></th>\n",
       "      <th></th>\n",
       "      <th></th>\n",
       "      <th></th>\n",
       "      <th></th>\n",
       "      <th></th>\n",
       "      <th></th>\n",
       "      <th></th>\n",
       "      <th></th>\n",
       "      <th></th>\n",
       "      <th></th>\n",
       "      <th></th>\n",
       "      <th></th>\n",
       "    </tr>\n",
       "  </thead>\n",
       "  <tbody>\n",
       "    <tr>\n",
       "      <th>Cat</th>\n",
       "      <td>0.0</td>\n",
       "      <td>0.0</td>\n",
       "      <td>0.0</td>\n",
       "      <td>0.0</td>\n",
       "      <td>0.616857</td>\n",
       "      <td>0.0</td>\n",
       "      <td>0.899925</td>\n",
       "      <td>0.0</td>\n",
       "      <td>0.0</td>\n",
       "      <td>0.393548</td>\n",
       "      <td>0.746523</td>\n",
       "      <td>0.916035</td>\n",
       "      <td>0.0</td>\n",
       "      <td>0.0</td>\n",
       "      <td>0.0</td>\n",
       "      <td>0.0</td>\n",
       "      <td>0.0</td>\n",
       "      <td>0.737015</td>\n",
       "      <td>0.829954</td>\n",
       "      <td>0.588612</td>\n",
       "      <td>0.000021</td>\n",
       "    </tr>\n",
       "  </tbody>\n",
       "</table>\n",
       "</div>"
      ],
      "text/plain": [
       "       id  age  gender  size      coat  breeds.primary  breeds.secondary  \\\n",
       "type                                                                       \n",
       "Cat   0.0  0.0     0.0   0.0  0.616857             0.0          0.899925   \n",
       "\n",
       "      breeds.mixed  breeds.unknown  colors.primary  colors.secondary  \\\n",
       "type                                                                   \n",
       "Cat            0.0             0.0        0.393548          0.746523   \n",
       "\n",
       "      colors.tertiary  attributes.spayed_neutered  attributes.house_trained  \\\n",
       "type                                                                          \n",
       "Cat          0.916035                         0.0                       0.0   \n",
       "\n",
       "      attributes.declawed  attributes.special_needs  attributes.shots_current  \\\n",
       "type                                                                            \n",
       "Cat                   0.0                       0.0                       0.0   \n",
       "\n",
       "      environment.children  environment.dogs  environment.cats  \\\n",
       "type                                                             \n",
       "Cat               0.737015          0.829954          0.588612   \n",
       "\n",
       "      contact.address.postcode  \n",
       "type                            \n",
       "Cat                   0.000021  "
      ]
     },
     "execution_count": 7,
     "metadata": {},
     "output_type": "execute_result"
    }
   ],
   "source": [
    "pd.set_option('display.max_columns', 500)\n",
    "valueCounts "
   ]
  },
  {
   "cell_type": "code",
   "execution_count": 8,
   "id": "4b559b96",
   "metadata": {},
   "outputs": [],
   "source": [
    "valueCounts = cats_DF_context.set_index('type').isna().groupby(level=0).sum()/cats_DF_context.shape[0] # level=0 refers to our index, which we made 'type'\n"
   ]
  },
  {
   "cell_type": "code",
   "execution_count": 9,
   "id": "a72789aa",
   "metadata": {},
   "outputs": [
    {
     "data": {
      "text/html": [
       "<div>\n",
       "<style scoped>\n",
       "    .dataframe tbody tr th:only-of-type {\n",
       "        vertical-align: middle;\n",
       "    }\n",
       "\n",
       "    .dataframe tbody tr th {\n",
       "        vertical-align: top;\n",
       "    }\n",
       "\n",
       "    .dataframe thead th {\n",
       "        text-align: right;\n",
       "    }\n",
       "</style>\n",
       "<table border=\"1\" class=\"dataframe\">\n",
       "  <thead>\n",
       "    <tr style=\"text-align: right;\">\n",
       "      <th></th>\n",
       "      <th>id</th>\n",
       "      <th>organization_id</th>\n",
       "      <th>url</th>\n",
       "      <th>tags</th>\n",
       "      <th>name</th>\n",
       "      <th>description</th>\n",
       "      <th>organization_animal_id</th>\n",
       "      <th>photos</th>\n",
       "      <th>primary_photo_cropped</th>\n",
       "      <th>videos</th>\n",
       "      <th>status</th>\n",
       "      <th>status_changed_at</th>\n",
       "      <th>published_at</th>\n",
       "      <th>distance</th>\n",
       "      <th>contact.email</th>\n",
       "      <th>contact.phone</th>\n",
       "      <th>contact.address.address1</th>\n",
       "      <th>contact.address.address2</th>\n",
       "      <th>contact.address.city</th>\n",
       "      <th>contact.address.state</th>\n",
       "      <th>contact.address.postcode</th>\n",
       "      <th>contact.address.country</th>\n",
       "      <th>animal_id</th>\n",
       "      <th>animal_type</th>\n",
       "      <th>organization_id.1</th>\n",
       "      <th>primary_photo_cropped.small</th>\n",
       "      <th>primary_photo_cropped.medium</th>\n",
       "      <th>primary_photo_cropped.large</th>\n",
       "      <th>primary_photo_cropped.full</th>\n",
       "    </tr>\n",
       "    <tr>\n",
       "      <th>type</th>\n",
       "      <th></th>\n",
       "      <th></th>\n",
       "      <th></th>\n",
       "      <th></th>\n",
       "      <th></th>\n",
       "      <th></th>\n",
       "      <th></th>\n",
       "      <th></th>\n",
       "      <th></th>\n",
       "      <th></th>\n",
       "      <th></th>\n",
       "      <th></th>\n",
       "      <th></th>\n",
       "      <th></th>\n",
       "      <th></th>\n",
       "      <th></th>\n",
       "      <th></th>\n",
       "      <th></th>\n",
       "      <th></th>\n",
       "      <th></th>\n",
       "      <th></th>\n",
       "      <th></th>\n",
       "      <th></th>\n",
       "      <th></th>\n",
       "      <th></th>\n",
       "      <th></th>\n",
       "      <th></th>\n",
       "      <th></th>\n",
       "      <th></th>\n",
       "    </tr>\n",
       "  </thead>\n",
       "  <tbody>\n",
       "    <tr>\n",
       "      <th>Cat</th>\n",
       "      <td>0.0</td>\n",
       "      <td>0.0</td>\n",
       "      <td>0.0</td>\n",
       "      <td>0.0</td>\n",
       "      <td>0.000021</td>\n",
       "      <td>0.262365</td>\n",
       "      <td>0.313022</td>\n",
       "      <td>0.0</td>\n",
       "      <td>1.0</td>\n",
       "      <td>0.0</td>\n",
       "      <td>0.0</td>\n",
       "      <td>0.0</td>\n",
       "      <td>0.0</td>\n",
       "      <td>1.0</td>\n",
       "      <td>0.051405</td>\n",
       "      <td>0.193804</td>\n",
       "      <td>0.371499</td>\n",
       "      <td>0.923534</td>\n",
       "      <td>0.0</td>\n",
       "      <td>0.0</td>\n",
       "      <td>0.000021</td>\n",
       "      <td>0.0</td>\n",
       "      <td>0.0</td>\n",
       "      <td>0.0</td>\n",
       "      <td>0.0</td>\n",
       "      <td>0.0</td>\n",
       "      <td>0.0</td>\n",
       "      <td>0.0</td>\n",
       "      <td>0.0</td>\n",
       "    </tr>\n",
       "  </tbody>\n",
       "</table>\n",
       "</div>"
      ],
      "text/plain": [
       "       id  organization_id  url  tags      name  description  \\\n",
       "type                                                           \n",
       "Cat   0.0              0.0  0.0   0.0  0.000021     0.262365   \n",
       "\n",
       "      organization_animal_id  photos  primary_photo_cropped  videos  status  \\\n",
       "type                                                                          \n",
       "Cat                 0.313022     0.0                    1.0     0.0     0.0   \n",
       "\n",
       "      status_changed_at  published_at  distance  contact.email  contact.phone  \\\n",
       "type                                                                            \n",
       "Cat                 0.0           0.0       1.0       0.051405       0.193804   \n",
       "\n",
       "      contact.address.address1  contact.address.address2  \\\n",
       "type                                                       \n",
       "Cat                   0.371499                  0.923534   \n",
       "\n",
       "      contact.address.city  contact.address.state  contact.address.postcode  \\\n",
       "type                                                                          \n",
       "Cat                    0.0                    0.0                  0.000021   \n",
       "\n",
       "      contact.address.country  animal_id  animal_type  organization_id.1  \\\n",
       "type                                                                       \n",
       "Cat                       0.0        0.0          0.0                0.0   \n",
       "\n",
       "      primary_photo_cropped.small  primary_photo_cropped.medium  \\\n",
       "type                                                              \n",
       "Cat                           0.0                           0.0   \n",
       "\n",
       "      primary_photo_cropped.large  primary_photo_cropped.full  \n",
       "type                                                           \n",
       "Cat                           0.0                         0.0  "
      ]
     },
     "execution_count": 9,
     "metadata": {},
     "output_type": "execute_result"
    }
   ],
   "source": [
    "pd.set_option('display.max_columns', 500)\n",
    "valueCounts "
   ]
  },
  {
   "cell_type": "markdown",
   "id": "29652796",
   "metadata": {},
   "source": [
    "After a quick NA check, we will have to remove 'coat','breeds.secondary','colors.secondary','colors.tertiary','environment.children','environment.dogs' and 'environment.cats'. The column 'colors.primary' is also missing a lot of values but for sake of differing one cat from another it will be kept for now. Additionally, we will bring back in address postcode as an initial attempt to match nearby cats together."
   ]
  },
  {
   "cell_type": "code",
   "execution_count": 10,
   "id": "63c4ed53",
   "metadata": {},
   "outputs": [
    {
     "data": {
      "text/plain": [
       "(46805, 14)"
      ]
     },
     "execution_count": 10,
     "metadata": {},
     "output_type": "execute_result"
    }
   ],
   "source": [
    "featureCols = ['id','age','gender','size','breeds.primary','breeds.mixed','breeds.unknown',\n",
    "               'colors.primary','attributes.spayed_neutered','attributes.house_trained',\n",
    "               'attributes.declawed','attributes.special_needs','attributes.shots_current',\n",
    "               'contact.address.postcode']\n",
    "cats_DF_features = cats_DF[featureCols]\n",
    "cats_DF_context = cats_DF[contextCols]\n",
    "cats_DF_features.shape"
   ]
  },
  {
   "cell_type": "code",
   "execution_count": 11,
   "id": "835e68ee",
   "metadata": {},
   "outputs": [
    {
     "data": {
      "text/plain": [
       "id                             int64\n",
       "age                           object\n",
       "gender                        object\n",
       "size                          object\n",
       "breeds.primary                object\n",
       "breeds.mixed                    bool\n",
       "breeds.unknown                  bool\n",
       "colors.primary                object\n",
       "attributes.spayed_neutered      bool\n",
       "attributes.house_trained        bool\n",
       "attributes.declawed             bool\n",
       "attributes.special_needs        bool\n",
       "attributes.shots_current        bool\n",
       "contact.address.postcode      object\n",
       "dtype: object"
      ]
     },
     "execution_count": 11,
     "metadata": {},
     "output_type": "execute_result"
    }
   ],
   "source": [
    "cats_DF_features.dtypes"
   ]
  },
  {
   "cell_type": "markdown",
   "id": "d85ce6f4",
   "metadata": {},
   "source": [
    "# Pre-process feature data<a id='pre-process'></a>"
   ]
  },
  {
   "cell_type": "markdown",
   "id": "aae0116a",
   "metadata": {},
   "source": [
    "## Recheck sweetviz for distinct values and types<a id='sweet'></a>"
   ]
  },
  {
   "cell_type": "markdown",
   "id": "2eae8a29",
   "metadata": {},
   "source": [
    "First, let's re-examine our dataframe for distinct values."
   ]
  },
  {
   "cell_type": "code",
   "execution_count": 12,
   "id": "c6e9a087",
   "metadata": {},
   "outputs": [
    {
     "data": {
      "text/html": [
       "<div>\n",
       "<style scoped>\n",
       "    .dataframe tbody tr th:only-of-type {\n",
       "        vertical-align: middle;\n",
       "    }\n",
       "\n",
       "    .dataframe tbody tr th {\n",
       "        vertical-align: top;\n",
       "    }\n",
       "\n",
       "    .dataframe thead th {\n",
       "        text-align: right;\n",
       "    }\n",
       "</style>\n",
       "<table border=\"1\" class=\"dataframe\">\n",
       "  <thead>\n",
       "    <tr style=\"text-align: right;\">\n",
       "      <th></th>\n",
       "      <th>id</th>\n",
       "      <th>age</th>\n",
       "      <th>gender</th>\n",
       "      <th>size</th>\n",
       "      <th>breeds.primary</th>\n",
       "      <th>breeds.mixed</th>\n",
       "      <th>breeds.unknown</th>\n",
       "      <th>colors.primary</th>\n",
       "      <th>attributes.spayed_neutered</th>\n",
       "      <th>attributes.house_trained</th>\n",
       "      <th>attributes.declawed</th>\n",
       "      <th>attributes.special_needs</th>\n",
       "      <th>attributes.shots_current</th>\n",
       "      <th>contact.address.postcode</th>\n",
       "    </tr>\n",
       "  </thead>\n",
       "  <tbody>\n",
       "    <tr>\n",
       "      <th>1</th>\n",
       "      <td>58980784</td>\n",
       "      <td>Baby</td>\n",
       "      <td>Male</td>\n",
       "      <td>Medium</td>\n",
       "      <td>Tuxedo</td>\n",
       "      <td>False</td>\n",
       "      <td>False</td>\n",
       "      <td>Black &amp; White / Tuxedo</td>\n",
       "      <td>True</td>\n",
       "      <td>True</td>\n",
       "      <td>False</td>\n",
       "      <td>False</td>\n",
       "      <td>True</td>\n",
       "      <td>37343</td>\n",
       "    </tr>\n",
       "    <tr>\n",
       "      <th>13</th>\n",
       "      <td>58980778</td>\n",
       "      <td>Baby</td>\n",
       "      <td>Male</td>\n",
       "      <td>Medium</td>\n",
       "      <td>Domestic Short Hair</td>\n",
       "      <td>False</td>\n",
       "      <td>False</td>\n",
       "      <td>Black</td>\n",
       "      <td>True</td>\n",
       "      <td>True</td>\n",
       "      <td>False</td>\n",
       "      <td>False</td>\n",
       "      <td>True</td>\n",
       "      <td>92057</td>\n",
       "    </tr>\n",
       "    <tr>\n",
       "      <th>14</th>\n",
       "      <td>58980506</td>\n",
       "      <td>Young</td>\n",
       "      <td>Female</td>\n",
       "      <td>Medium</td>\n",
       "      <td>Domestic Short Hair</td>\n",
       "      <td>False</td>\n",
       "      <td>False</td>\n",
       "      <td>Torbie</td>\n",
       "      <td>True</td>\n",
       "      <td>True</td>\n",
       "      <td>False</td>\n",
       "      <td>False</td>\n",
       "      <td>True</td>\n",
       "      <td>50126</td>\n",
       "    </tr>\n",
       "  </tbody>\n",
       "</table>\n",
       "</div>"
      ],
      "text/plain": [
       "          id    age  gender    size       breeds.primary  breeds.mixed  \\\n",
       "1   58980784   Baby    Male  Medium               Tuxedo         False   \n",
       "13  58980778   Baby    Male  Medium  Domestic Short Hair         False   \n",
       "14  58980506  Young  Female  Medium  Domestic Short Hair         False   \n",
       "\n",
       "    breeds.unknown          colors.primary  attributes.spayed_neutered  \\\n",
       "1            False  Black & White / Tuxedo                        True   \n",
       "13           False                   Black                        True   \n",
       "14           False                  Torbie                        True   \n",
       "\n",
       "    attributes.house_trained  attributes.declawed  attributes.special_needs  \\\n",
       "1                       True                False                     False   \n",
       "13                      True                False                     False   \n",
       "14                      True                False                     False   \n",
       "\n",
       "    attributes.shots_current contact.address.postcode  \n",
       "1                       True                    37343  \n",
       "13                      True                    92057  \n",
       "14                      True                    50126  "
      ]
     },
     "execution_count": 12,
     "metadata": {},
     "output_type": "execute_result"
    }
   ],
   "source": [
    "cats_DF_features.head(3)"
   ]
  },
  {
   "cell_type": "code",
   "execution_count": 13,
   "id": "87c39922",
   "metadata": {},
   "outputs": [
    {
     "data": {
      "text/plain": [
       "'Black & White / Tuxedo'"
      ]
     },
     "execution_count": 13,
     "metadata": {},
     "output_type": "execute_result"
    }
   ],
   "source": [
    "cats_DF_features['colors.primary'].values[0]"
   ]
  },
  {
   "cell_type": "code",
   "execution_count": 14,
   "id": "09eca9d8",
   "metadata": {},
   "outputs": [
    {
     "data": {
      "text/plain": [
       "(46805, 13)"
      ]
     },
     "execution_count": 14,
     "metadata": {},
     "output_type": "execute_result"
    }
   ],
   "source": [
    "# make special version without postocde so sweetviz can handle it, since postcode has both numbers and letters\n",
    "featureCols = ['id','age','gender','size','breeds.primary','breeds.mixed','breeds.unknown',\n",
    "               'colors.primary','attributes.spayed_neutered','attributes.house_trained',\n",
    "               'attributes.declawed','attributes.special_needs','attributes.shots_current']\n",
    "cats_DF_features_test = cats_DF[featureCols]\n",
    "cats_DF_context_test = cats_DF[contextCols]\n",
    "cats_DF_features_test.shape"
   ]
  },
  {
   "cell_type": "code",
   "execution_count": 15,
   "id": "04b5ccb1",
   "metadata": {},
   "outputs": [
    {
     "name": "stderr",
     "output_type": "stream",
     "text": [
      "/home/denise/anaconda3/envs/petmatchEDA/lib/python3.8/site-packages/sweetviz/dataframe_report.py:74: FutureWarning: iteritems is deprecated and will be removed in a future version. Use .items instead.\n",
      "  all_source_names = [cur_name for cur_name, cur_series in source_df.iteritems()]\n",
      "/home/denise/anaconda3/envs/petmatchEDA/lib/python3.8/site-packages/sweetviz/dataframe_report.py:109: FutureWarning: iteritems is deprecated and will be removed in a future version. Use .items instead.\n",
      "  filtered_series_names_in_source = [cur_name for cur_name, cur_series in source_df.iteritems()\n"
     ]
    },
    {
     "data": {
      "application/vnd.jupyter.widget-view+json": {
       "model_id": "179749420be04d9c8cdcfe13c59c635c",
       "version_major": 2,
       "version_minor": 0
      },
      "text/plain": [
       "                                             |      | [  0%]   00:00 -> (? left)"
      ]
     },
     "metadata": {},
     "output_type": "display_data"
    },
    {
     "name": "stderr",
     "output_type": "stream",
     "text": [
      "/home/denise/anaconda3/envs/petmatchEDA/lib/python3.8/site-packages/sweetviz/series_analyzer_numeric.py:25: FutureWarning: The 'mad' method is deprecated and will be removed in a future version. To compute the same result, you may do `(df - df.mean()).abs().mean()`.\n",
      "  stats[\"mad\"] = series.mad()\n",
      "/home/denise/anaconda3/envs/petmatchEDA/lib/python3.8/site-packages/sweetviz/series_analyzer_cat.py:28: FutureWarning: iteritems is deprecated and will be removed in a future version. Use .items instead.\n",
      "  for item in category_counts.iteritems():\n",
      "/home/denise/anaconda3/envs/petmatchEDA/lib/python3.8/site-packages/sweetviz/series_analyzer_cat.py:28: FutureWarning: iteritems is deprecated and will be removed in a future version. Use .items instead.\n",
      "  for item in category_counts.iteritems():\n",
      "/home/denise/anaconda3/envs/petmatchEDA/lib/python3.8/site-packages/sweetviz/series_analyzer_cat.py:28: FutureWarning: iteritems is deprecated and will be removed in a future version. Use .items instead.\n",
      "  for item in category_counts.iteritems():\n",
      "/home/denise/anaconda3/envs/petmatchEDA/lib/python3.8/site-packages/sweetviz/series_analyzer_cat.py:28: FutureWarning: iteritems is deprecated and will be removed in a future version. Use .items instead.\n",
      "  for item in category_counts.iteritems():\n",
      "/home/denise/anaconda3/envs/petmatchEDA/lib/python3.8/site-packages/sweetviz/series_analyzer_cat.py:28: FutureWarning: iteritems is deprecated and will be removed in a future version. Use .items instead.\n",
      "  for item in category_counts.iteritems():\n",
      "/home/denise/anaconda3/envs/petmatchEDA/lib/python3.8/site-packages/sweetviz/series_analyzer_cat.py:28: FutureWarning: iteritems is deprecated and will be removed in a future version. Use .items instead.\n",
      "  for item in category_counts.iteritems():\n",
      "/home/denise/anaconda3/envs/petmatchEDA/lib/python3.8/site-packages/sweetviz/series_analyzer_cat.py:28: FutureWarning: iteritems is deprecated and will be removed in a future version. Use .items instead.\n",
      "  for item in category_counts.iteritems():\n",
      "/home/denise/anaconda3/envs/petmatchEDA/lib/python3.8/site-packages/sweetviz/series_analyzer_cat.py:28: FutureWarning: iteritems is deprecated and will be removed in a future version. Use .items instead.\n",
      "  for item in category_counts.iteritems():\n",
      "/home/denise/anaconda3/envs/petmatchEDA/lib/python3.8/site-packages/sweetviz/series_analyzer_cat.py:28: FutureWarning: iteritems is deprecated and will be removed in a future version. Use .items instead.\n",
      "  for item in category_counts.iteritems():\n",
      "/home/denise/anaconda3/envs/petmatchEDA/lib/python3.8/site-packages/sweetviz/series_analyzer_cat.py:28: FutureWarning: iteritems is deprecated and will be removed in a future version. Use .items instead.\n",
      "  for item in category_counts.iteritems():\n",
      "/home/denise/anaconda3/envs/petmatchEDA/lib/python3.8/site-packages/sweetviz/series_analyzer_cat.py:28: FutureWarning: iteritems is deprecated and will be removed in a future version. Use .items instead.\n",
      "  for item in category_counts.iteritems():\n",
      "/home/denise/anaconda3/envs/petmatchEDA/lib/python3.8/site-packages/sweetviz/series_analyzer_cat.py:28: FutureWarning: iteritems is deprecated and will be removed in a future version. Use .items instead.\n",
      "  for item in category_counts.iteritems():\n"
     ]
    },
    {
     "name": "stdout",
     "output_type": "stream",
     "text": [
      "Report SWEETVIZ_REPORT.html was generated! NOTEBOOK/COLAB USERS: the web browser MAY not pop up, regardless, the report IS saved in your notebook/colab files.\n"
     ]
    }
   ],
   "source": [
    "import sweetviz as sv\n",
    "\n",
    "cat_data_report = sv.analyze(cats_DF_features_test)\n",
    "cat_data_report.show_html() #save to html document"
   ]
  },
  {
   "cell_type": "markdown",
   "id": "dda3d6ed",
   "metadata": {},
   "source": [
    "## Make Pipeline <a id='pp_pipeline'></a>"
   ]
  },
  {
   "cell_type": "code",
   "execution_count": 16,
   "id": "2fe526ea",
   "metadata": {},
   "outputs": [],
   "source": [
    "from sklearn.pipeline import Pipeline\n",
    "from sklearn.preprocessing import FunctionTransformer\n",
    "from sklearn.preprocessing import OneHotEncoder"
   ]
  },
  {
   "cell_type": "code",
   "execution_count": 17,
   "id": "9ab9fd1f",
   "metadata": {},
   "outputs": [],
   "source": [
    "def remove_columns_with_1_distinct(df):\n",
    "    drop_col = [e for e in df.columns if df[e].nunique()==1]\n",
    "    df_return = df.drop(drop_col,axis=1)\n",
    "    return df_return\n"
   ]
  },
  {
   "cell_type": "code",
   "execution_count": 18,
   "id": "11c06163",
   "metadata": {},
   "outputs": [],
   "source": [
    "def drop_duplicates(df):\n",
    "    df_return = df.drop_duplicates()\n",
    "    return df_return\n"
   ]
  },
  {
   "cell_type": "code",
   "execution_count": 19,
   "id": "1b4a522c",
   "metadata": {},
   "outputs": [],
   "source": [
    "from sklearn.metrics.pairwise import cosine_similarity\n",
    "from sklearn.metrics.pairwise import linear_kernel \n",
    "\n",
    "def cosine_similarities(df_1,df_2):\n",
    "    cs_simil = linear_kernel(df_1,df_1)\n",
    "    results = {}\n",
    "    ds = df_2 # needs id column\n",
    "    for idx, row in ds.iterrows():\n",
    "       similar_indices = cs_simil[idx].argsort()[:-100:-1] \n",
    "       similar_items = [(cs_simil[idx][i], ds['id'][i]) for i in similar_indices] \n",
    "       results[row['id']] = similar_items[1:]\n",
    "    return results\n",
    "\n",
    "#cosineSimilarity = FunctionTransformer(cosine_similarities)"
   ]
  },
  {
   "cell_type": "code",
   "execution_count": 20,
   "id": "96525d50",
   "metadata": {},
   "outputs": [],
   "source": [
    "def item(id,df):  \n",
    "    ds = df\n",
    "    colsGrab = ['id']\n",
    "    return ds.loc[ds['id'] == id][colsGrab].values[0]# Just reads the results out of the dictionary.\n",
    "\n",
    "def url(id,df):  \n",
    "    ds = df\n",
    "    colsGrab = ['url']\n",
    "    return ds.loc[ds['id'] == id][colsGrab].values[0]# Just reads the results out of the dictionary.\n",
    "\n",
    "def picture(id,df):  \n",
    "    ds = df\n",
    "    colsGrab = ['primary_photo_cropped.full']\n",
    "    return ds.loc[ds['id'] == id][colsGrab].values[0]# Just reads the results out of the dictionary.\n",
    "\n",
    "def recommend(item_id, num,df,reccs):\n",
    "    print(\"Recommending \" + str(num) + \" cats similar to \" + str(item(item_id,df)) + \"... \" \n",
    "          + picture(item_id,df) + \" - \" + url(item_id,df))   \n",
    "    print(\"-------\")    \n",
    "    recs = reccs[item_id][:num]   \n",
    "    for rec in recs: \n",
    "        print(\"Recommended: \" + str(item(rec[1],df)) + \" (score:\" +      str(rec[0]) + \") \" \n",
    "              + picture(rec[1],df) + \" - \" + url(rec[1],df))\n",
    "    \n",
    "def score(reccs, num):\n",
    "    print(\"Finding average reccomendation score for top 5 reccomendations per example\")\n",
    "    results = []\n",
    "    for key in reccs.keys():\n",
    "        subRecs = reccs[key][:num]\n",
    "        for r in subRecs:\n",
    "            results.append(r[0])\n",
    "    averageRecc = sum(results) / len(results)\n",
    "    print(\"There are \"+ str(len(results)) + 'results with a sum of' + str(sum(results)) + 'and and average of: ' \n",
    "          + str(averageRecc) )\n",
    "    return averageRecc"
   ]
  },
  {
   "cell_type": "code",
   "execution_count": 21,
   "id": "68921496",
   "metadata": {},
   "outputs": [],
   "source": [
    "categorical_features = ['age','gender','size','breeds.primary','breeds.mixed',\n",
    "                        'colors.primary','attributes.spayed_neutered','attributes.house_trained',\n",
    "                        'attributes.declawed','attributes.special_needs','attributes.shots_current',\n",
    "                        'contact.address.postcode']\n",
    "\n",
    "categorical_transformer = OneHotEncoder()"
   ]
  },
  {
   "cell_type": "code",
   "execution_count": 22,
   "id": "60484777",
   "metadata": {},
   "outputs": [],
   "source": [
    "# Not used currently but kept for future when distance is more properly implemented\n",
    "numerical_features = ['id']\n",
    "numeric_transformer = lambda x:x #change nothing"
   ]
  },
  {
   "cell_type": "code",
   "execution_count": 23,
   "id": "80d1aeb7",
   "metadata": {},
   "outputs": [],
   "source": [
    "from sklearn.compose import ColumnTransformer\n",
    "\n",
    "preprocessor = ColumnTransformer(\n",
    "    transformers = [\n",
    "        #(\"num\", numeric_transformer,numerical_features), \n",
    "        (\"cat\", categorical_transformer, categorical_features),\n",
    "    ])"
   ]
  },
  {
   "cell_type": "code",
   "execution_count": 24,
   "id": "220c8293",
   "metadata": {},
   "outputs": [],
   "source": [
    "from sklearn.base import BaseEstimator\n",
    "\n",
    "class ContentBasedRecommendor(BaseEstimator):\n",
    "    def __init__(self):\n",
    "        pass # constructor not needed for anything yet\n",
    "\n",
    "    def fit(self,X,y=None):\n",
    "        #print(X.shape)\n",
    "        #self.X = X\n",
    "        #self.y = y\n",
    "        return cosine_similarities(X,y) \n",
    "    \n",
    "    #def transform(self):\n",
    "        #pass\n",
    "\n",
    "    def predict(self,X,num,context_df,reccs):\n",
    "        item_id = X['id'].values[0]\n",
    "        return recommend(X, num,context_df,reccs)\n",
    "    \n",
    "    #def score(self: ContentBasedRecommendor, item_id,num,df_context,reccs):\n",
    "        "
   ]
  },
  {
   "cell_type": "code",
   "execution_count": 25,
   "id": "d66bfc32",
   "metadata": {},
   "outputs": [],
   "source": [
    "model = Pipeline(\n",
    "    steps=[(\"preprocessor\", preprocessor),\n",
    "           (\"model\", ContentBasedRecommendor())\n",
    "          ])"
   ]
  },
  {
   "cell_type": "markdown",
   "id": "20b5970a",
   "metadata": {},
   "source": [
    "# Run Modeling Pipeline <a id='run_pipeline'></a>"
   ]
  },
  {
   "cell_type": "code",
   "execution_count": 26,
   "id": "32c65a65",
   "metadata": {},
   "outputs": [
    {
     "data": {
      "text/plain": [
       "id                             int64\n",
       "age                           object\n",
       "gender                        object\n",
       "size                          object\n",
       "breeds.primary                object\n",
       "breeds.mixed                    bool\n",
       "colors.primary                object\n",
       "attributes.spayed_neutered      bool\n",
       "attributes.house_trained        bool\n",
       "attributes.declawed             bool\n",
       "attributes.special_needs        bool\n",
       "attributes.shots_current        bool\n",
       "contact.address.postcode      object\n",
       "dtype: object"
      ]
     },
     "execution_count": 26,
     "metadata": {},
     "output_type": "execute_result"
    }
   ],
   "source": [
    "import numpy as np\n",
    "#target = 'todo' # will be rankings once we have them\n",
    "#X, y = cats_DF_features.drop(columns=target), cats_DF_features[target]\n",
    "X = cats_DF_features\n",
    "X = drop_duplicates(X)\n",
    "X = remove_columns_with_1_distinct(X)\n",
    "X = X.replace(np.nan,'Not Available')\n",
    "X[\"contact.address.postcode\"]= X[\"contact.address.postcode\"].astype(str)\n",
    "X.dtypes"
   ]
  },
  {
   "cell_type": "code",
   "execution_count": 27,
   "id": "7ceae9af",
   "metadata": {},
   "outputs": [],
   "source": [
    "from sklearn.model_selection import train_test_split\n",
    "import numpy as np\n",
    "# split data\n",
    "x, x_test = train_test_split(X,test_size=0.1,train_size=0.9, random_state=13)\n",
    "x_train, x_dev = train_test_split(x,test_size = 0.1,train_size =0.9, random_state=13)\n",
    "\n",
    "# given the way the model works so far, the x_dev and x_test are not used. \n",
    "# If you aren't in the catalog you can't be scored so for now,  just using x_train for initial model results\n",
    "# Once we get user rankings, we can move the model to something that can use these additional sets."
   ]
  },
  {
   "cell_type": "code",
   "execution_count": 28,
   "id": "433dae37",
   "metadata": {},
   "outputs": [
    {
     "data": {
      "text/plain": [
       "(37835, 13)"
      ]
     },
     "execution_count": 28,
     "metadata": {},
     "output_type": "execute_result"
    }
   ],
   "source": [
    "x_train = x_train.reset_index(drop=True) # index reset required so model fitting can match keys\n",
    "x_train.shape"
   ]
  },
  {
   "cell_type": "code",
   "execution_count": 29,
   "id": "e00e8301",
   "metadata": {},
   "outputs": [
    {
     "data": {
      "text/plain": [
       "(4204, 13)"
      ]
     },
     "execution_count": 29,
     "metadata": {},
     "output_type": "execute_result"
    }
   ],
   "source": [
    "x_dev.shape"
   ]
  },
  {
   "cell_type": "code",
   "execution_count": 30,
   "id": "74dfb075",
   "metadata": {},
   "outputs": [
    {
     "data": {
      "text/plain": [
       "(4671, 13)"
      ]
     },
     "execution_count": 30,
     "metadata": {},
     "output_type": "execute_result"
    }
   ],
   "source": [
    "x_test.shape"
   ]
  },
  {
   "cell_type": "code",
   "execution_count": 31,
   "id": "6306c138",
   "metadata": {},
   "outputs": [
    {
     "data": {
      "text/html": [
       "<div>\n",
       "<style scoped>\n",
       "    .dataframe tbody tr th:only-of-type {\n",
       "        vertical-align: middle;\n",
       "    }\n",
       "\n",
       "    .dataframe tbody tr th {\n",
       "        vertical-align: top;\n",
       "    }\n",
       "\n",
       "    .dataframe thead th {\n",
       "        text-align: right;\n",
       "    }\n",
       "</style>\n",
       "<table border=\"1\" class=\"dataframe\">\n",
       "  <thead>\n",
       "    <tr style=\"text-align: right;\">\n",
       "      <th></th>\n",
       "      <th>id</th>\n",
       "      <th>age</th>\n",
       "      <th>gender</th>\n",
       "      <th>size</th>\n",
       "      <th>breeds.primary</th>\n",
       "      <th>breeds.mixed</th>\n",
       "      <th>colors.primary</th>\n",
       "      <th>attributes.spayed_neutered</th>\n",
       "      <th>attributes.house_trained</th>\n",
       "      <th>attributes.declawed</th>\n",
       "      <th>attributes.special_needs</th>\n",
       "      <th>attributes.shots_current</th>\n",
       "      <th>contact.address.postcode</th>\n",
       "    </tr>\n",
       "  </thead>\n",
       "  <tbody>\n",
       "    <tr>\n",
       "      <th>21051</th>\n",
       "      <td>58919333</td>\n",
       "      <td>Baby</td>\n",
       "      <td>Male</td>\n",
       "      <td>Small</td>\n",
       "      <td>Domestic Short Hair</td>\n",
       "      <td>False</td>\n",
       "      <td>White</td>\n",
       "      <td>True</td>\n",
       "      <td>True</td>\n",
       "      <td>False</td>\n",
       "      <td>False</td>\n",
       "      <td>True</td>\n",
       "      <td>33138</td>\n",
       "    </tr>\n",
       "    <tr>\n",
       "      <th>25536</th>\n",
       "      <td>58943883</td>\n",
       "      <td>Baby</td>\n",
       "      <td>Female</td>\n",
       "      <td>Medium</td>\n",
       "      <td>Domestic Short Hair</td>\n",
       "      <td>True</td>\n",
       "      <td>Black</td>\n",
       "      <td>True</td>\n",
       "      <td>True</td>\n",
       "      <td>False</td>\n",
       "      <td>False</td>\n",
       "      <td>True</td>\n",
       "      <td>85249</td>\n",
       "    </tr>\n",
       "    <tr>\n",
       "      <th>10268</th>\n",
       "      <td>58796660</td>\n",
       "      <td>Young</td>\n",
       "      <td>Female</td>\n",
       "      <td>Small</td>\n",
       "      <td>Domestic Short Hair</td>\n",
       "      <td>False</td>\n",
       "      <td>Not Available</td>\n",
       "      <td>True</td>\n",
       "      <td>False</td>\n",
       "      <td>False</td>\n",
       "      <td>False</td>\n",
       "      <td>False</td>\n",
       "      <td>77053</td>\n",
       "    </tr>\n",
       "  </tbody>\n",
       "</table>\n",
       "</div>"
      ],
      "text/plain": [
       "             id    age  gender    size       breeds.primary  breeds.mixed  \\\n",
       "21051  58919333   Baby    Male   Small  Domestic Short Hair         False   \n",
       "25536  58943883   Baby  Female  Medium  Domestic Short Hair          True   \n",
       "10268  58796660  Young  Female   Small  Domestic Short Hair         False   \n",
       "\n",
       "      colors.primary  attributes.spayed_neutered  attributes.house_trained  \\\n",
       "21051          White                        True                      True   \n",
       "25536          Black                        True                      True   \n",
       "10268  Not Available                        True                     False   \n",
       "\n",
       "       attributes.declawed  attributes.special_needs  \\\n",
       "21051                False                     False   \n",
       "25536                False                     False   \n",
       "10268                False                     False   \n",
       "\n",
       "       attributes.shots_current contact.address.postcode  \n",
       "21051                      True                    33138  \n",
       "25536                      True                    85249  \n",
       "10268                     False                    77053  "
      ]
     },
     "execution_count": 31,
     "metadata": {},
     "output_type": "execute_result"
    }
   ],
   "source": [
    "x_train.sample(3)"
   ]
  },
  {
   "cell_type": "code",
   "execution_count": 32,
   "id": "e761636a",
   "metadata": {},
   "outputs": [],
   "source": [
    "\n",
    "categorical_features_test = ['age','gender','size','breeds.primary','breeds.mixed',\n",
    "                        'colors.primary','attributes.spayed_neutered','attributes.house_trained',\n",
    "                        'attributes.declawed','attributes.special_needs','attributes.shots_current',\n",
    "                        'contact.address.postcode']\n",
    "#x_train = x_train.replace(np.nan,'Not Available')\n",
    "x_train = x_train.reset_index(drop=True) # required so keys work properly\n",
    "xtrain_cat = x_train[categorical_features_test]\n",
    "#xtrain_cat = xtrain_cat.replace(np.nan,'Not Available') \n",
    "ohe = OneHotEncoder().fit(xtrain_cat) # One Hot Encoding WAAAY better\n",
    "x_train_test = ohe.transform(xtrain_cat) # don't need to add id columns because same columns preserved\n",
    "#type(x_train_test)\n",
    "#x_train_test.shape\n",
    "test =cosine_similarities(x_train_test,x_train)\n"
   ]
  },
  {
   "cell_type": "code",
   "execution_count": 33,
   "id": "41be6b02",
   "metadata": {},
   "outputs": [
    {
     "data": {
      "text/plain": [
       "(37835, 12)"
      ]
     },
     "execution_count": 33,
     "metadata": {},
     "output_type": "execute_result"
    }
   ],
   "source": [
    "xtrain_cat.shape"
   ]
  },
  {
   "cell_type": "code",
   "execution_count": 34,
   "id": "75dd57be",
   "metadata": {},
   "outputs": [
    {
     "data": {
      "text/plain": [
       "(37835, 3892)"
      ]
     },
     "execution_count": 34,
     "metadata": {},
     "output_type": "execute_result"
    }
   ],
   "source": [
    "x_train_test.shape"
   ]
  },
  {
   "cell_type": "code",
   "execution_count": 35,
   "id": "15e655ae",
   "metadata": {},
   "outputs": [
    {
     "data": {
      "text/plain": [
       "matrix([[0., 0., 0., ..., 0., 0., 0.]])"
      ]
     },
     "execution_count": 35,
     "metadata": {},
     "output_type": "execute_result"
    }
   ],
   "source": [
    "type(x_train_test)\n",
    "x_train_test.shape\n",
    "x_train_test.todense()[1]"
   ]
  },
  {
   "cell_type": "code",
   "execution_count": 36,
   "id": "bd4efb78",
   "metadata": {},
   "outputs": [
    {
     "name": "stdout",
     "output_type": "stream",
     "text": [
      "['Recommending 5 cats similar to [58806733]... https://dl5zpyw5k3jeb.cloudfront.net/photos/pets/58806733/1/?bust=1668025870 - https://www.petfinder.com/cat/palomino-58806733/nm/las-cruces/cats-meow-adoption-center-nm198/?referrer_id=c2f7479c-c7e8-422b-bfb4-7c0b8aed0e55']\n",
      "-------\n",
      "['Recommended: [58700306] (score:10.0) https://dl5zpyw5k3jeb.cloudfront.net/photos/pets/58700306/1/?bust=1667073140 - https://www.petfinder.com/cat/eli-58700306/in/miller-beach/humane-society-northwest-indiana-in191/?referrer_id=c2f7479c-c7e8-422b-bfb4-7c0b8aed0e55']\n",
      "['Recommended: [58929837] (score:10.0) https://dl5zpyw5k3jeb.cloudfront.net/photos/pets/58929837/1/?bust=1669064723 - https://www.petfinder.com/cat/ron-burgundy-58929837/nc/hickory/fur-babies-rescue-nc1180/?referrer_id=c2f7479c-c7e8-422b-bfb4-7c0b8aed0e55']\n",
      "['Recommended: [58740201] (score:10.0) https://dl5zpyw5k3jeb.cloudfront.net/photos/pets/58740201/1/?bust=1669443071 - https://www.petfinder.com/cat/luke-58740201/tx/pleasanton/atascosa-animal-allies-tx2298/?referrer_id=c2f7479c-c7e8-422b-bfb4-7c0b8aed0e55']\n",
      "['Recommended: [58973251] (score:10.0) https://dl5zpyw5k3jeb.cloudfront.net/photos/pets/58973251/2/?bust=1669507668 - https://www.petfinder.com/cat/poe-and-rue-bonded-pair-58973251/or/gladstone/cats-meow-cat-rescue-or393/?referrer_id=c2f7479c-c7e8-422b-bfb4-7c0b8aed0e55']\n",
      "['Recommended: [58830275] (score:9.0) https://dl5zpyw5k3jeb.cloudfront.net/photos/pets/58830275/1/?bust=1669528912 - https://www.petfinder.com/cat/imani-58830275/nm/santa-fe/felines-and-friends-new-mexico-nm38/?referrer_id=c2f7479c-c7e8-422b-bfb4-7c0b8aed0e55']\n"
     ]
    }
   ],
   "source": [
    "pd.options.display.max_colwidth = 100\n",
    "recommend(item_id=58806733, num=5,df=cats_DF_context,reccs=test)"
   ]
  },
  {
   "cell_type": "code",
   "execution_count": 37,
   "id": "9e4c02f0",
   "metadata": {},
   "outputs": [
    {
     "name": "stdout",
     "output_type": "stream",
     "text": [
      "Finding average reccomendation score for top 5 reccomendations per example\n",
      "There are 189175results with a sum of2074297.0and and average of: 10.964963657988635\n"
     ]
    },
    {
     "data": {
      "text/plain": [
       "10.964963657988635"
      ]
     },
     "execution_count": 37,
     "metadata": {},
     "output_type": "execute_result"
    }
   ],
   "source": [
    "# Gather average score of top 5 recommendations for training set, with a max score of 12!\n",
    "score(reccs=test, num=5)"
   ]
  },
  {
   "cell_type": "markdown",
   "id": "b5fa82bc",
   "metadata": {},
   "source": [
    "**Below is IP code for a pipeline. Still too buggy to use for a ML Baseline though.**"
   ]
  },
  {
   "cell_type": "code",
   "execution_count": 38,
   "id": "60368a31",
   "metadata": {},
   "outputs": [],
   "source": [
    "#categorical_features_test = ['age','gender','size','breeds.primary','breeds.mixed',\n",
    "#                        'colors.primary','attributes.spayed_neutered','attributes.house_trained',\n",
    "#                        'attributes.declawed','attributes.special_needs','attributes.shots_current',\n",
    "#                        'contact.address.postcode']\n",
    "#xtrain_cat = x_train[categorical_features_test]\n",
    "#xtrain_cat.shape\n"
   ]
  },
  {
   "cell_type": "code",
   "execution_count": 39,
   "id": "48086d55",
   "metadata": {},
   "outputs": [],
   "source": [
    "#model = model.fit(X= x_train, y=x_train)\n",
    "#savedMod = model.fit(X= xtrain_cat, y=x_train)"
   ]
  },
  {
   "cell_type": "code",
   "execution_count": 40,
   "id": "0de16ecf",
   "metadata": {},
   "outputs": [],
   "source": [
    "#item_id=58761493\n",
    "#array_id = pd.DataFrame([item_id],columns=['id'])\n",
    "#array_id"
   ]
  },
  {
   "cell_type": "code",
   "execution_count": 41,
   "id": "fdc3c2e0",
   "metadata": {},
   "outputs": [],
   "source": [
    "#type(savedMod)"
   ]
  },
  {
   "cell_type": "code",
   "execution_count": 42,
   "id": "02dc7426",
   "metadata": {},
   "outputs": [],
   "source": [
    "#model.predict(X=array_id, num=5,context_df=cats_DF_context,reccs=savedMod)"
   ]
  },
  {
   "cell_type": "markdown",
   "id": "6f7fd07c",
   "metadata": {},
   "source": [
    "# Conclusion and Next Steps <a id='conclusion'></a>"
   ]
  },
  {
   "cell_type": "markdown",
   "id": "3fccc629",
   "metadata": {},
   "source": [
    "**Conclusion of ML Baseline as of 12/6/22**: \n",
    "- Average top 5 recommendation per cat in the training set is 10.96. The highest available score is a 12.  \n",
    "- The result above uses a simple content-based filtering recommendation model without using user perferences, since they are currently not available. Instead it compares items against each other, aka you liked this ketchup so here are 10 other similar types of ketchup. \n",
    "- Due to the method used to create the simple content-based filtering model, dev and test set can not be used so to get an initial idea of the results the training set was used. \n",
    "- The cats data version 0.5 features need more ways to dileanate one cat from another but based on include visual scans and the average reccomendation score, the simple cat CBF model generally excels at giving you similar cats to what you stated you wanted.\n",
    "- In instances where there is more ambiguity (aka a chosen cat with less defined details), it will still find cats very similar to it but sometimes it can also throw in very similar cats who are a different breed. This might not be a bad thing."
   ]
  },
  {
   "cell_type": "markdown",
   "id": "ad289940",
   "metadata": {},
   "source": [
    "**Next Steps**:\n",
    "\n",
    "- Incorporate distance more effectively\n",
    "- Can we use description field for cats at all? \n",
    "- Colloborative Filtering once user preferences are collected"
   ]
  },
  {
   "cell_type": "code",
   "execution_count": null,
   "id": "ded3d675",
   "metadata": {},
   "outputs": [],
   "source": []
  }
 ],
 "metadata": {
  "kernelspec": {
   "display_name": "Python [conda env:petmatchEDA] *",
   "language": "python",
   "name": "conda-env-petmatchEDA-py"
  },
  "language_info": {
   "codemirror_mode": {
    "name": "ipython",
    "version": 3
   },
   "file_extension": ".py",
   "mimetype": "text/x-python",
   "name": "python",
   "nbconvert_exporter": "python",
   "pygments_lexer": "ipython3",
   "version": "3.8.13"
  }
 },
 "nbformat": 4,
 "nbformat_minor": 5
}
