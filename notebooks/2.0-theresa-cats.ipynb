{
 "cells": [
  {
   "cell_type": "code",
   "execution_count": 1,
   "metadata": {},
   "outputs": [],
   "source": [
    "import pandas as pd"
   ]
  },
  {
   "cell_type": "code",
   "execution_count": 78,
   "metadata": {},
   "outputs": [
    {
     "name": "stderr",
     "output_type": "stream",
     "text": [
      "/tmp/ipykernel_9648/2945383906.py:1: DtypeWarning: Columns (42) have mixed types. Specify dtype option on import or set low_memory=False.\n",
      "  cats_df = pd.read_csv('../data/raw/version0_5/Adoptable_cats_20221125.csv',header=0,index_col=0)\n"
     ]
    },
    {
     "data": {
      "text/plain": [
       "(49600, 50)"
      ]
     },
     "execution_count": 78,
     "metadata": {},
     "output_type": "execute_result"
    }
   ],
   "source": [
    "cats_df = pd.read_csv('../data/raw/version0_5/Adoptable_cats_20221125.csv',header=0,index_col=0)\n",
    "cats_df.shape"
   ]
  },
  {
   "cell_type": "code",
   "execution_count": 79,
   "metadata": {},
   "outputs": [
    {
     "data": {
      "text/plain": [
       "(46805, 50)"
      ]
     },
     "execution_count": 79,
     "metadata": {},
     "output_type": "execute_result"
    }
   ],
   "source": [
    "cats_df = cats_df.dropna(subset=['primary_photo_cropped.full'])\n",
    "cats_df.shape"
   ]
  },
  {
   "cell_type": "code",
   "execution_count": 80,
   "metadata": {},
   "outputs": [
    {
     "data": {
      "text/plain": [
       "1     Zorro is very sweet and enjoys being in your l...\n",
       "13    “Sammy” is a tiny black, male kitten. About 10...\n",
       "14    Girly is a dainty lady! She enjoys getting pet...\n",
       "17    “Sam” is a tiny black, male kitten. About 10-1...\n",
       "18    Cleopatra is a sweet and playful girl.  She st...\n",
       "Name: description, dtype: object"
      ]
     },
     "execution_count": 80,
     "metadata": {},
     "output_type": "execute_result"
    }
   ],
   "source": [
    "cats_df['description'].head()"
   ]
  },
  {
   "cell_type": "code",
   "execution_count": 81,
   "metadata": {},
   "outputs": [
    {
     "data": {
      "text/html": [
       "<div>\n",
       "<style scoped>\n",
       "    .dataframe tbody tr th:only-of-type {\n",
       "        vertical-align: middle;\n",
       "    }\n",
       "\n",
       "    .dataframe tbody tr th {\n",
       "        vertical-align: top;\n",
       "    }\n",
       "\n",
       "    .dataframe thead th {\n",
       "        text-align: right;\n",
       "    }\n",
       "</style>\n",
       "<table border=\"1\" class=\"dataframe\">\n",
       "  <thead>\n",
       "    <tr style=\"text-align: right;\">\n",
       "      <th></th>\n",
       "      <th>id</th>\n",
       "      <th>organization_id</th>\n",
       "      <th>url</th>\n",
       "      <th>type</th>\n",
       "      <th>species</th>\n",
       "      <th>age</th>\n",
       "      <th>gender</th>\n",
       "      <th>size</th>\n",
       "      <th>coat</th>\n",
       "      <th>tags</th>\n",
       "      <th>name</th>\n",
       "      <th>description</th>\n",
       "      <th>organization_animal_id</th>\n",
       "      <th>photos</th>\n",
       "      <th>primary_photo_cropped</th>\n",
       "      <th>videos</th>\n",
       "      <th>status</th>\n",
       "      <th>status_changed_at</th>\n",
       "      <th>published_at</th>\n",
       "      <th>distance</th>\n",
       "      <th>breeds.primary</th>\n",
       "      <th>breeds.secondary</th>\n",
       "      <th>breeds.mixed</th>\n",
       "      <th>breeds.unknown</th>\n",
       "      <th>colors.primary</th>\n",
       "      <th>colors.secondary</th>\n",
       "      <th>colors.tertiary</th>\n",
       "      <th>attributes.spayed_neutered</th>\n",
       "      <th>attributes.house_trained</th>\n",
       "      <th>attributes.declawed</th>\n",
       "      <th>attributes.special_needs</th>\n",
       "      <th>attributes.shots_current</th>\n",
       "      <th>environment.children</th>\n",
       "      <th>environment.dogs</th>\n",
       "      <th>environment.cats</th>\n",
       "      <th>contact.email</th>\n",
       "      <th>contact.phone</th>\n",
       "      <th>contact.address.address1</th>\n",
       "      <th>contact.address.address2</th>\n",
       "      <th>contact.address.city</th>\n",
       "      <th>contact.address.state</th>\n",
       "      <th>contact.address.postcode</th>\n",
       "      <th>contact.address.country</th>\n",
       "      <th>animal_id</th>\n",
       "      <th>animal_type</th>\n",
       "      <th>organization_id.1</th>\n",
       "      <th>primary_photo_cropped.small</th>\n",
       "      <th>primary_photo_cropped.medium</th>\n",
       "      <th>primary_photo_cropped.large</th>\n",
       "      <th>primary_photo_cropped.full</th>\n",
       "    </tr>\n",
       "  </thead>\n",
       "  <tbody>\n",
       "    <tr>\n",
       "      <th>1</th>\n",
       "      <td>58980784</td>\n",
       "      <td>TN589</td>\n",
       "      <td>https://www.petfinder.com/cat/zorro-58980784/t...</td>\n",
       "      <td>Cat</td>\n",
       "      <td>Cat</td>\n",
       "      <td>Baby</td>\n",
       "      <td>Male</td>\n",
       "      <td>Medium</td>\n",
       "      <td>Short</td>\n",
       "      <td>['Friendly', 'Affectionate', 'Playful', 'Funny...</td>\n",
       "      <td>Zorro</td>\n",
       "      <td>Zorro is very sweet and enjoys being in your l...</td>\n",
       "      <td>NaN</td>\n",
       "      <td>[{'small': 'https://dl5zpyw5k3jeb.cloudfront.n...</td>\n",
       "      <td>NaN</td>\n",
       "      <td>[]</td>\n",
       "      <td>adoptable</td>\n",
       "      <td>2022-11-28T02:29:46+0000</td>\n",
       "      <td>2022-11-28T02:29:45+0000</td>\n",
       "      <td>NaN</td>\n",
       "      <td>Tuxedo</td>\n",
       "      <td>NaN</td>\n",
       "      <td>False</td>\n",
       "      <td>False</td>\n",
       "      <td>Black &amp; White / Tuxedo</td>\n",
       "      <td>NaN</td>\n",
       "      <td>NaN</td>\n",
       "      <td>True</td>\n",
       "      <td>True</td>\n",
       "      <td>False</td>\n",
       "      <td>False</td>\n",
       "      <td>True</td>\n",
       "      <td>True</td>\n",
       "      <td>NaN</td>\n",
       "      <td>True</td>\n",
       "      <td>bulldog50@epbfi.com</td>\n",
       "      <td>NaN</td>\n",
       "      <td>NaN</td>\n",
       "      <td>NaN</td>\n",
       "      <td>Hixson</td>\n",
       "      <td>TN</td>\n",
       "      <td>37343</td>\n",
       "      <td>US</td>\n",
       "      <td>58980784</td>\n",
       "      <td>cat</td>\n",
       "      <td>tn589</td>\n",
       "      <td>https://dl5zpyw5k3jeb.cloudfront.net/photos/pe...</td>\n",
       "      <td>https://dl5zpyw5k3jeb.cloudfront.net/photos/pe...</td>\n",
       "      <td>https://dl5zpyw5k3jeb.cloudfront.net/photos/pe...</td>\n",
       "      <td>https://dl5zpyw5k3jeb.cloudfront.net/photos/pe...</td>\n",
       "    </tr>\n",
       "  </tbody>\n",
       "</table>\n",
       "</div>"
      ],
      "text/plain": [
       "         id organization_id  \\\n",
       "1  58980784           TN589   \n",
       "\n",
       "                                                 url type species   age  \\\n",
       "1  https://www.petfinder.com/cat/zorro-58980784/t...  Cat     Cat  Baby   \n",
       "\n",
       "  gender    size   coat                                               tags  \\\n",
       "1   Male  Medium  Short  ['Friendly', 'Affectionate', 'Playful', 'Funny...   \n",
       "\n",
       "     name                                        description  \\\n",
       "1  Zorro   Zorro is very sweet and enjoys being in your l...   \n",
       "\n",
       "  organization_animal_id                                             photos  \\\n",
       "1                    NaN  [{'small': 'https://dl5zpyw5k3jeb.cloudfront.n...   \n",
       "\n",
       "   primary_photo_cropped videos     status         status_changed_at  \\\n",
       "1                    NaN     []  adoptable  2022-11-28T02:29:46+0000   \n",
       "\n",
       "               published_at  distance breeds.primary breeds.secondary  \\\n",
       "1  2022-11-28T02:29:45+0000       NaN         Tuxedo              NaN   \n",
       "\n",
       "   breeds.mixed  breeds.unknown          colors.primary colors.secondary  \\\n",
       "1         False           False  Black & White / Tuxedo              NaN   \n",
       "\n",
       "  colors.tertiary  attributes.spayed_neutered  attributes.house_trained  \\\n",
       "1             NaN                        True                      True   \n",
       "\n",
       "   attributes.declawed  attributes.special_needs  attributes.shots_current  \\\n",
       "1                False                     False                      True   \n",
       "\n",
       "  environment.children environment.dogs environment.cats        contact.email  \\\n",
       "1                 True              NaN             True  bulldog50@epbfi.com   \n",
       "\n",
       "  contact.phone contact.address.address1 contact.address.address2  \\\n",
       "1           NaN                      NaN                      NaN   \n",
       "\n",
       "  contact.address.city contact.address.state contact.address.postcode  \\\n",
       "1               Hixson                    TN                    37343   \n",
       "\n",
       "  contact.address.country  animal_id animal_type organization_id.1  \\\n",
       "1                      US   58980784         cat             tn589   \n",
       "\n",
       "                         primary_photo_cropped.small  \\\n",
       "1  https://dl5zpyw5k3jeb.cloudfront.net/photos/pe...   \n",
       "\n",
       "                        primary_photo_cropped.medium  \\\n",
       "1  https://dl5zpyw5k3jeb.cloudfront.net/photos/pe...   \n",
       "\n",
       "                         primary_photo_cropped.large  \\\n",
       "1  https://dl5zpyw5k3jeb.cloudfront.net/photos/pe...   \n",
       "\n",
       "                          primary_photo_cropped.full  \n",
       "1  https://dl5zpyw5k3jeb.cloudfront.net/photos/pe...  "
      ]
     },
     "execution_count": 81,
     "metadata": {},
     "output_type": "execute_result"
    }
   ],
   "source": [
    "cats_df.head(1)"
   ]
  },
  {
   "cell_type": "code",
   "execution_count": 82,
   "metadata": {},
   "outputs": [
    {
     "data": {
      "text/html": [
       "<div>\n",
       "<style scoped>\n",
       "    .dataframe tbody tr th:only-of-type {\n",
       "        vertical-align: middle;\n",
       "    }\n",
       "\n",
       "    .dataframe tbody tr th {\n",
       "        vertical-align: top;\n",
       "    }\n",
       "\n",
       "    .dataframe thead th {\n",
       "        text-align: right;\n",
       "    }\n",
       "</style>\n",
       "<table border=\"1\" class=\"dataframe\">\n",
       "  <thead>\n",
       "    <tr style=\"text-align: right;\">\n",
       "      <th></th>\n",
       "      <th>id</th>\n",
       "      <th>organization_id</th>\n",
       "      <th>url</th>\n",
       "      <th>type</th>\n",
       "      <th>species</th>\n",
       "      <th>age</th>\n",
       "      <th>gender</th>\n",
       "      <th>size</th>\n",
       "      <th>coat</th>\n",
       "      <th>tags</th>\n",
       "      <th>name</th>\n",
       "      <th>description</th>\n",
       "      <th>organization_animal_id</th>\n",
       "      <th>photos</th>\n",
       "      <th>primary_photo_cropped</th>\n",
       "      <th>videos</th>\n",
       "      <th>status</th>\n",
       "      <th>status_changed_at</th>\n",
       "      <th>published_at</th>\n",
       "      <th>distance</th>\n",
       "      <th>breeds.primary</th>\n",
       "      <th>breeds.secondary</th>\n",
       "      <th>breeds.mixed</th>\n",
       "      <th>breeds.unknown</th>\n",
       "      <th>colors.primary</th>\n",
       "      <th>colors.secondary</th>\n",
       "      <th>colors.tertiary</th>\n",
       "      <th>attributes.spayed_neutered</th>\n",
       "      <th>attributes.house_trained</th>\n",
       "      <th>attributes.declawed</th>\n",
       "      <th>attributes.special_needs</th>\n",
       "      <th>attributes.shots_current</th>\n",
       "      <th>environment.children</th>\n",
       "      <th>environment.dogs</th>\n",
       "      <th>environment.cats</th>\n",
       "      <th>contact.email</th>\n",
       "      <th>contact.phone</th>\n",
       "      <th>contact.address.address1</th>\n",
       "      <th>contact.address.address2</th>\n",
       "      <th>contact.address.city</th>\n",
       "      <th>contact.address.state</th>\n",
       "      <th>contact.address.postcode</th>\n",
       "      <th>contact.address.country</th>\n",
       "      <th>animal_id</th>\n",
       "      <th>animal_type</th>\n",
       "      <th>organization_id.1</th>\n",
       "      <th>primary_photo_cropped.small</th>\n",
       "      <th>primary_photo_cropped.medium</th>\n",
       "      <th>primary_photo_cropped.large</th>\n",
       "      <th>primary_photo_cropped.full</th>\n",
       "    </tr>\n",
       "  </thead>\n",
       "  <tbody>\n",
       "    <tr>\n",
       "      <th>3948</th>\n",
       "      <td>58968522</td>\n",
       "      <td>TX2040</td>\n",
       "      <td>https://www.petfinder.com/cat/giselle-58968522...</td>\n",
       "      <td>Cat</td>\n",
       "      <td>Cat</td>\n",
       "      <td>Young</td>\n",
       "      <td>Female</td>\n",
       "      <td>Medium</td>\n",
       "      <td>NaN</td>\n",
       "      <td>[]</td>\n",
       "      <td>Giselle</td>\n",
       "      <td>Hi! I&amp;amp;#39;m Giselle. I&amp;amp;#39;m super swe...</td>\n",
       "      <td>18690085-F10-29-22-1</td>\n",
       "      <td>[{'small': 'https://dl5zpyw5k3jeb.cloudfront.n...</td>\n",
       "      <td>NaN</td>\n",
       "      <td>[]</td>\n",
       "      <td>adoptable</td>\n",
       "      <td>2022-11-26T14:00:59+0000</td>\n",
       "      <td>2022-11-26T14:00:56+0000</td>\n",
       "      <td>NaN</td>\n",
       "      <td>Domestic Short Hair</td>\n",
       "      <td>NaN</td>\n",
       "      <td>False</td>\n",
       "      <td>False</td>\n",
       "      <td>NaN</td>\n",
       "      <td>NaN</td>\n",
       "      <td>NaN</td>\n",
       "      <td>True</td>\n",
       "      <td>True</td>\n",
       "      <td>False</td>\n",
       "      <td>False</td>\n",
       "      <td>False</td>\n",
       "      <td>NaN</td>\n",
       "      <td>NaN</td>\n",
       "      <td>NaN</td>\n",
       "      <td>info@friendsofrowlettanimals.org</td>\n",
       "      <td>NaN</td>\n",
       "      <td>PO BOX 758</td>\n",
       "      <td>PO Box 758</td>\n",
       "      <td>Rowlett</td>\n",
       "      <td>TX</td>\n",
       "      <td>75030</td>\n",
       "      <td>US</td>\n",
       "      <td>58968522</td>\n",
       "      <td>cat</td>\n",
       "      <td>tx2040</td>\n",
       "      <td>https://dl5zpyw5k3jeb.cloudfront.net/photos/pe...</td>\n",
       "      <td>https://dl5zpyw5k3jeb.cloudfront.net/photos/pe...</td>\n",
       "      <td>https://dl5zpyw5k3jeb.cloudfront.net/photos/pe...</td>\n",
       "      <td>https://dl5zpyw5k3jeb.cloudfront.net/photos/pe...</td>\n",
       "    </tr>\n",
       "  </tbody>\n",
       "</table>\n",
       "</div>"
      ],
      "text/plain": [
       "            id organization_id  \\\n",
       "3948  58968522          TX2040   \n",
       "\n",
       "                                                    url type species    age  \\\n",
       "3948  https://www.petfinder.com/cat/giselle-58968522...  Cat     Cat  Young   \n",
       "\n",
       "      gender    size coat tags     name  \\\n",
       "3948  Female  Medium  NaN   []  Giselle   \n",
       "\n",
       "                                            description  \\\n",
       "3948  Hi! I&amp;#39;m Giselle. I&amp;#39;m super swe...   \n",
       "\n",
       "     organization_animal_id  \\\n",
       "3948   18690085-F10-29-22-1   \n",
       "\n",
       "                                                 photos  \\\n",
       "3948  [{'small': 'https://dl5zpyw5k3jeb.cloudfront.n...   \n",
       "\n",
       "      primary_photo_cropped videos     status         status_changed_at  \\\n",
       "3948                    NaN     []  adoptable  2022-11-26T14:00:59+0000   \n",
       "\n",
       "                  published_at  distance       breeds.primary  \\\n",
       "3948  2022-11-26T14:00:56+0000       NaN  Domestic Short Hair   \n",
       "\n",
       "     breeds.secondary  breeds.mixed  breeds.unknown colors.primary  \\\n",
       "3948              NaN         False           False            NaN   \n",
       "\n",
       "     colors.secondary colors.tertiary  attributes.spayed_neutered  \\\n",
       "3948              NaN             NaN                        True   \n",
       "\n",
       "      attributes.house_trained  attributes.declawed  attributes.special_needs  \\\n",
       "3948                      True                False                     False   \n",
       "\n",
       "      attributes.shots_current environment.children environment.dogs  \\\n",
       "3948                     False                  NaN              NaN   \n",
       "\n",
       "     environment.cats                     contact.email contact.phone  \\\n",
       "3948              NaN  info@friendsofrowlettanimals.org           NaN   \n",
       "\n",
       "     contact.address.address1 contact.address.address2 contact.address.city  \\\n",
       "3948               PO BOX 758               PO Box 758              Rowlett   \n",
       "\n",
       "     contact.address.state contact.address.postcode contact.address.country  \\\n",
       "3948                    TX                    75030                      US   \n",
       "\n",
       "      animal_id animal_type organization_id.1  \\\n",
       "3948   58968522         cat            tx2040   \n",
       "\n",
       "                            primary_photo_cropped.small  \\\n",
       "3948  https://dl5zpyw5k3jeb.cloudfront.net/photos/pe...   \n",
       "\n",
       "                           primary_photo_cropped.medium  \\\n",
       "3948  https://dl5zpyw5k3jeb.cloudfront.net/photos/pe...   \n",
       "\n",
       "                            primary_photo_cropped.large  \\\n",
       "3948  https://dl5zpyw5k3jeb.cloudfront.net/photos/pe...   \n",
       "\n",
       "                             primary_photo_cropped.full  \n",
       "3948  https://dl5zpyw5k3jeb.cloudfront.net/photos/pe...  "
      ]
     },
     "execution_count": 82,
     "metadata": {},
     "output_type": "execute_result"
    }
   ],
   "source": [
    "pd.set_option('display.max_columns',500)\n",
    "current_cat = cats_df.sample()\n",
    "current_cat"
   ]
  },
  {
   "cell_type": "code",
   "execution_count": 115,
   "metadata": {},
   "outputs": [],
   "source": [
    "def new_cat():\n",
    "    current_cat = sample_cats.sample()\n",
    "    display_name = current_cat['name'].values[0]\n",
    "    display_description = current_cat['description']\n",
    "    find_photo(current_cat)\n",
    "\n",
    "def disliked(current_cat):\n",
    "    updateRow= pd.concat([preferences, pd.DataFrame({'user_name': user, 'cat_id': current_cat['id'], 'preference': 0})], ignore_index=True)\n",
    "    new_cat()\n",
    "    print('disliked')\n",
    "    appendDFToCSV_void(updateRow,file) #save dataframe to csv in append mode\n",
    "\n",
    "def liked(current_cat):\n",
    "    updateRow = pd.concat([preferences, pd.DataFrame({'user_name': user, 'cat_id': current_cat['id'], 'preference': 1})], ignore_index=True)\n",
    "    print('liked')\n",
    "    appendDFToCSV_void(updateRow,file) #save dataframe to csv in append mode\n",
    "\n",
    "def find_photo(current_cat):\n",
    "    print(vars(current_cat['photos']))\n",
    "    if not current_cat['photos'].empty:\n",
    "        return current_cat['primary_photo_cropped.full']\n",
    "\n",
    "def appendDFToCSV_void(df, csvFilePath, sep=\",\"):\n",
    "    try:\n",
    "        if not os.path.isfile(csvFilePath):\n",
    "            print(\"creating file for first time\")\n",
    "            headers = df.columns\n",
    "            df.to_csv(csvFilePath, mode='+a', index=False, sep=sep,header=headers)\n",
    "        elif len(df.columns) != len(pd.read_csv(csvFilePath, nrows=1, sep=sep).columns):\n",
    "            print(\"save nothing. Columns do not match\")\n",
    "            raise Exception(\"Columns do not match!! Dataframe has \" + str(len(df.columns)) + \" columns. CSV file has \" + str(len(pd.read_csv(csvFilePath, nrows=1, sep=sep).columns)) + \" columns.\")\n",
    "        elif not (df.columns == pd.read_csv(csvFilePath, nrows=1, sep=sep).columns).all():\n",
    "            print(\"save nothing. Columns/column order do not match\")\n",
    "            raise Exception(\"Columns and column order of dataframe and csv file do not match!!\")\n",
    "        else:\n",
    "            headers = df.columns\n",
    "            print(\"write update\")\n",
    "            df.to_csv(csvFilePath, mode='+a', index=False, sep=sep,header=headers)\n",
    "    except PermissionError:\n",
    "        pass"
   ]
  },
  {
   "cell_type": "code",
   "execution_count": 84,
   "metadata": {},
   "outputs": [
    {
     "data": {
      "text/plain": [
       "'Giselle'"
      ]
     },
     "execution_count": 84,
     "metadata": {},
     "output_type": "execute_result"
    }
   ],
   "source": [
    "display_name = current_cat['name'].values[0]\n",
    "display_name"
   ]
  },
  {
   "cell_type": "code",
   "execution_count": 85,
   "metadata": {},
   "outputs": [
    {
     "data": {
      "text/plain": [
       "(1, 50)"
      ]
     },
     "execution_count": 85,
     "metadata": {},
     "output_type": "execute_result"
    }
   ],
   "source": [
    "type(current_cat)\n",
    "current_cat.shape"
   ]
  },
  {
   "cell_type": "code",
   "execution_count": 101,
   "metadata": {},
   "outputs": [
    {
     "name": "stdout",
     "output_type": "stream",
     "text": [
      "{'_is_copy': None, '_mgr': SingleBlockManager\n",
      "Items: Int64Index([3948], dtype='int64')\n",
      "ObjectBlock: 1 dtype: object, '_item_cache': {}, '_attrs': {}, '_flags': <Flags(allows_duplicate_labels=True)>, '_name': 'photos', '_cacher': ('photos', <weakref at 0x7f3597e62270; to 'DataFrame' at 0x7f358fef2f40>)}\n"
     ]
    }
   ],
   "source": [
    "display_image = find_photo(current_cat).values"
   ]
  },
  {
   "cell_type": "code",
   "execution_count": 91,
   "metadata": {},
   "outputs": [
    {
     "data": {
      "text/plain": [
       "'3948    Hi! I&amp;#39;m Giselle. I&amp;#39;m super swe...\\nName: description, dtype: object'"
      ]
     },
     "execution_count": 91,
     "metadata": {},
     "output_type": "execute_result"
    }
   ],
   "source": [
    "display_description = str(current_cat['description'])\n",
    "display_description"
   ]
  },
  {
   "cell_type": "code",
   "execution_count": 102,
   "metadata": {},
   "outputs": [
    {
     "data": {
      "text/plain": [
       "array(['https://dl5zpyw5k3jeb.cloudfront.net/photos/pets/58968522/1/?bust=1669586887'],\n",
       "      dtype=object)"
      ]
     },
     "execution_count": 102,
     "metadata": {},
     "output_type": "execute_result"
    }
   ],
   "source": [
    "display_image"
   ]
  },
  {
   "cell_type": "code",
   "execution_count": 116,
   "metadata": {},
   "outputs": [
    {
     "name": "stdout",
     "output_type": "stream",
     "text": [
      "{'_is_copy': None, '_mgr': SingleBlockManager\n",
      "Items: Int64Index([3948], dtype='int64')\n",
      "ObjectBlock: 1 dtype: object, '_item_cache': {}, '_attrs': {}, '_flags': <Flags(allows_duplicate_labels=True)>, '_name': 'photos', '_cacher': ('photos', <weakref at 0x7f3597e62270; to 'DataFrame' at 0x7f358fef2f40>)}\n",
      "liked\n"
     ]
    },
    {
     "data": {
      "text/html": [
       "<div>\n",
       "<style scoped>\n",
       "    .dataframe tbody tr th:only-of-type {\n",
       "        vertical-align: middle;\n",
       "    }\n",
       "\n",
       "    .dataframe tbody tr th {\n",
       "        vertical-align: top;\n",
       "    }\n",
       "\n",
       "    .dataframe thead th {\n",
       "        text-align: right;\n",
       "    }\n",
       "</style>\n",
       "<table border=\"1\" class=\"dataframe\">\n",
       "  <thead>\n",
       "    <tr style=\"text-align: right;\">\n",
       "      <th></th>\n",
       "      <th>user_name</th>\n",
       "      <th>cat_id</th>\n",
       "      <th>preference</th>\n",
       "    </tr>\n",
       "  </thead>\n",
       "  <tbody>\n",
       "    <tr>\n",
       "      <th>0</th>\n",
       "      <td>Denise</td>\n",
       "      <td>58968522</td>\n",
       "      <td>1</td>\n",
       "    </tr>\n",
       "  </tbody>\n",
       "</table>\n",
       "</div>"
      ],
      "text/plain": [
       "  user_name    cat_id preference\n",
       "0    Denise  58968522          1"
      ]
     },
     "execution_count": 116,
     "metadata": {},
     "output_type": "execute_result"
    }
   ],
   "source": [
    "user= 'Denise'\n",
    "display_name = current_cat['name'].values[0]\n",
    "display_image = find_photo(current_cat).values\n",
    "display_description = str(current_cat['description'])\n",
    "liked(current_cat)\n",
    "#preferences\n",
    "#test"
   ]
  },
  {
   "cell_type": "code",
   "execution_count": 103,
   "metadata": {},
   "outputs": [
    {
     "data": {
      "text/plain": [
       "numpy.ndarray"
      ]
     },
     "execution_count": 103,
     "metadata": {},
     "output_type": "execute_result"
    }
   ],
   "source": [
    "type(display_image)"
   ]
  },
  {
   "cell_type": "code",
   "execution_count": 104,
   "metadata": {},
   "outputs": [
    {
     "name": "stdout",
     "output_type": "stream",
     "text": [
      "['https://dl5zpyw5k3jeb.cloudfront.net/photos/pets/58968522/1/?bust=1669586887']\n"
     ]
    }
   ],
   "source": [
    "print(display_image)"
   ]
  },
  {
   "cell_type": "code",
   "execution_count": 105,
   "metadata": {},
   "outputs": [
    {
     "data": {
      "text/plain": [
       "1"
      ]
     },
     "execution_count": 105,
     "metadata": {},
     "output_type": "execute_result"
    }
   ],
   "source": [
    "len(display_image)"
   ]
  },
  {
   "cell_type": "code",
   "execution_count": 106,
   "metadata": {},
   "outputs": [
    {
     "data": {
      "text/plain": [
       "'https://dl5zpyw5k3jeb.cloudfront.net/photos/pets/58968522/1/?bust=1669586887'"
      ]
     },
     "execution_count": 106,
     "metadata": {},
     "output_type": "execute_result"
    }
   ],
   "source": [
    "display_image[0]"
   ]
  },
  {
   "cell_type": "code",
   "execution_count": 108,
   "metadata": {},
   "outputs": [
    {
     "data": {
      "text/html": [
       "<div>\n",
       "<style scoped>\n",
       "    .dataframe tbody tr th:only-of-type {\n",
       "        vertical-align: middle;\n",
       "    }\n",
       "\n",
       "    .dataframe tbody tr th {\n",
       "        vertical-align: top;\n",
       "    }\n",
       "\n",
       "    .dataframe thead th {\n",
       "        text-align: right;\n",
       "    }\n",
       "</style>\n",
       "<table border=\"1\" class=\"dataframe\">\n",
       "  <thead>\n",
       "    <tr style=\"text-align: right;\">\n",
       "      <th></th>\n",
       "      <th>user_name</th>\n",
       "      <th>cat_id</th>\n",
       "      <th>preference</th>\n",
       "    </tr>\n",
       "  </thead>\n",
       "  <tbody>\n",
       "  </tbody>\n",
       "</table>\n",
       "</div>"
      ],
      "text/plain": [
       "Empty DataFrame\n",
       "Columns: [user_name, cat_id, preference]\n",
       "Index: []"
      ]
     },
     "execution_count": 108,
     "metadata": {},
     "output_type": "execute_result"
    }
   ],
   "source": [
    "preferences = pd.DataFrame(columns=['user_name', 'cat_id', 'preference'])\n",
    "preferences"
   ]
  },
  {
   "cell_type": "code",
   "execution_count": null,
   "metadata": {},
   "outputs": [],
   "source": []
  }
 ],
 "metadata": {
  "kernelspec": {
   "display_name": "Python 3 (ipykernel)",
   "language": "python",
   "name": "python3"
  },
  "language_info": {
   "codemirror_mode": {
    "name": "ipython",
    "version": 3
   },
   "file_extension": ".py",
   "mimetype": "text/x-python",
   "name": "python",
   "nbconvert_exporter": "python",
   "pygments_lexer": "ipython3",
   "version": "3.8.13"
  },
  "vscode": {
   "interpreter": {
    "hash": "3c2d8bd39aad336dff246d65522143636c9c883d8b67cd06b71a6cbbcb0fbba9"
   }
  }
 },
 "nbformat": 4,
 "nbformat_minor": 2
}
